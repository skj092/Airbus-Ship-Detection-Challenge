{
  "metadata": {
    "kernelspec": {
      "display_name": "Python 3",
      "name": "python3"
    },
    "language_info": {
      "name": "python",
      "version": "3.11.13",
      "mimetype": "text/x-python",
      "codemirror_mode": {
        "name": "ipython",
        "version": 3
      },
      "pygments_lexer": "ipython3",
      "nbconvert_exporter": "python",
      "file_extension": ".py"
    },
    "kaggle": {
      "accelerator": "none",
      "dataSources": [
        {
          "sourceId": 9988,
          "databundleVersionId": 868324,
          "sourceType": "competition"
        }
      ],
      "dockerImageVersionId": 31090,
      "isInternetEnabled": true,
      "language": "python",
      "sourceType": "notebook",
      "isGpuEnabled": false
    },
    "colab": {
      "provenance": [],
      "gpuType": "T4"
    },
    "accelerator": "GPU",
    "widgets": {
      "application/vnd.jupyter.widget-state+json": {
        "ad165e3e65614e8d955df743bb727ae4": {
          "model_module": "@jupyter-widgets/controls",
          "model_name": "VBoxModel",
          "model_module_version": "1.5.0",
          "state": {
            "_dom_classes": [],
            "_model_module": "@jupyter-widgets/controls",
            "_model_module_version": "1.5.0",
            "_model_name": "VBoxModel",
            "_view_count": null,
            "_view_module": "@jupyter-widgets/controls",
            "_view_module_version": "1.5.0",
            "_view_name": "VBoxView",
            "box_style": "",
            "children": [
              "IPY_MODEL_7e2629f95ee6493d8488ef97e1897c42"
            ],
            "layout": "IPY_MODEL_7fd472290b69480c829a8031452a28c6"
          }
        },
        "8ea8d57976414bbe94c76010fbbad217": {
          "model_module": "@jupyter-widgets/controls",
          "model_name": "HTMLModel",
          "model_module_version": "1.5.0",
          "state": {
            "_dom_classes": [],
            "_model_module": "@jupyter-widgets/controls",
            "_model_module_version": "1.5.0",
            "_model_name": "HTMLModel",
            "_view_count": null,
            "_view_module": "@jupyter-widgets/controls",
            "_view_module_version": "1.5.0",
            "_view_name": "HTMLView",
            "description": "",
            "description_tooltip": null,
            "layout": "IPY_MODEL_32698a0f868842859e653ddebe4f8b9d",
            "placeholder": "​",
            "style": "IPY_MODEL_3a5b646874e9454490255c8929fb7c5f",
            "value": "<center> <img\nsrc=https://www.kaggle.com/static/images/site-logo.png\nalt='Kaggle'> <br> Create an API token from <a\nhref=\"https://www.kaggle.com/settings/account\" target=\"_blank\">your Kaggle\nsettings page</a> and paste it below along with your Kaggle username. <br> </center>"
          }
        },
        "40b8d2128afc4539bce91d40f626cb32": {
          "model_module": "@jupyter-widgets/controls",
          "model_name": "TextModel",
          "model_module_version": "1.5.0",
          "state": {
            "_dom_classes": [],
            "_model_module": "@jupyter-widgets/controls",
            "_model_module_version": "1.5.0",
            "_model_name": "TextModel",
            "_view_count": null,
            "_view_module": "@jupyter-widgets/controls",
            "_view_module_version": "1.5.0",
            "_view_name": "TextView",
            "continuous_update": true,
            "description": "Username:",
            "description_tooltip": null,
            "disabled": false,
            "layout": "IPY_MODEL_188d4ef0255a4518831c24f09143417f",
            "placeholder": "​",
            "style": "IPY_MODEL_ebdf4d113224477da487688e233e6b59",
            "value": "sonujha090"
          }
        },
        "4b0b6bcd530a4ae3a99fe23f0aae925d": {
          "model_module": "@jupyter-widgets/controls",
          "model_name": "PasswordModel",
          "model_module_version": "1.5.0",
          "state": {
            "_dom_classes": [],
            "_model_module": "@jupyter-widgets/controls",
            "_model_module_version": "1.5.0",
            "_model_name": "PasswordModel",
            "_view_count": null,
            "_view_module": "@jupyter-widgets/controls",
            "_view_module_version": "1.5.0",
            "_view_name": "PasswordView",
            "continuous_update": true,
            "description": "Token:",
            "description_tooltip": null,
            "disabled": false,
            "layout": "IPY_MODEL_43854af9d54f406fae52151157e0cec2",
            "placeholder": "​",
            "style": "IPY_MODEL_53c2456ec85c497d9dd4b62bd29a7d48",
            "value": ""
          }
        },
        "62c8b209bd364532bea159813ec065e2": {
          "model_module": "@jupyter-widgets/controls",
          "model_name": "ButtonModel",
          "model_module_version": "1.5.0",
          "state": {
            "_dom_classes": [],
            "_model_module": "@jupyter-widgets/controls",
            "_model_module_version": "1.5.0",
            "_model_name": "ButtonModel",
            "_view_count": null,
            "_view_module": "@jupyter-widgets/controls",
            "_view_module_version": "1.5.0",
            "_view_name": "ButtonView",
            "button_style": "",
            "description": "Login",
            "disabled": false,
            "icon": "",
            "layout": "IPY_MODEL_3dbdc2edc6bc4ff4b4711c2330a042e9",
            "style": "IPY_MODEL_dfa86eeba2224bc2aee92b6792bb2f45",
            "tooltip": ""
          }
        },
        "72b9c895f40142bd96e43ec33a56f540": {
          "model_module": "@jupyter-widgets/controls",
          "model_name": "HTMLModel",
          "model_module_version": "1.5.0",
          "state": {
            "_dom_classes": [],
            "_model_module": "@jupyter-widgets/controls",
            "_model_module_version": "1.5.0",
            "_model_name": "HTMLModel",
            "_view_count": null,
            "_view_module": "@jupyter-widgets/controls",
            "_view_module_version": "1.5.0",
            "_view_name": "HTMLView",
            "description": "",
            "description_tooltip": null,
            "layout": "IPY_MODEL_3457792d2e19454abcc166b85ba5b594",
            "placeholder": "​",
            "style": "IPY_MODEL_72826bc4290747a49373ba0c9afefc60",
            "value": "\n<b>Thank You</b></center>"
          }
        },
        "7fd472290b69480c829a8031452a28c6": {
          "model_module": "@jupyter-widgets/base",
          "model_name": "LayoutModel",
          "model_module_version": "1.2.0",
          "state": {
            "_model_module": "@jupyter-widgets/base",
            "_model_module_version": "1.2.0",
            "_model_name": "LayoutModel",
            "_view_count": null,
            "_view_module": "@jupyter-widgets/base",
            "_view_module_version": "1.2.0",
            "_view_name": "LayoutView",
            "align_content": null,
            "align_items": "center",
            "align_self": null,
            "border": null,
            "bottom": null,
            "display": "flex",
            "flex": null,
            "flex_flow": "column",
            "grid_area": null,
            "grid_auto_columns": null,
            "grid_auto_flow": null,
            "grid_auto_rows": null,
            "grid_column": null,
            "grid_gap": null,
            "grid_row": null,
            "grid_template_areas": null,
            "grid_template_columns": null,
            "grid_template_rows": null,
            "height": null,
            "justify_content": null,
            "justify_items": null,
            "left": null,
            "margin": null,
            "max_height": null,
            "max_width": null,
            "min_height": null,
            "min_width": null,
            "object_fit": null,
            "object_position": null,
            "order": null,
            "overflow": null,
            "overflow_x": null,
            "overflow_y": null,
            "padding": null,
            "right": null,
            "top": null,
            "visibility": null,
            "width": "50%"
          }
        },
        "32698a0f868842859e653ddebe4f8b9d": {
          "model_module": "@jupyter-widgets/base",
          "model_name": "LayoutModel",
          "model_module_version": "1.2.0",
          "state": {
            "_model_module": "@jupyter-widgets/base",
            "_model_module_version": "1.2.0",
            "_model_name": "LayoutModel",
            "_view_count": null,
            "_view_module": "@jupyter-widgets/base",
            "_view_module_version": "1.2.0",
            "_view_name": "LayoutView",
            "align_content": null,
            "align_items": null,
            "align_self": null,
            "border": null,
            "bottom": null,
            "display": null,
            "flex": null,
            "flex_flow": null,
            "grid_area": null,
            "grid_auto_columns": null,
            "grid_auto_flow": null,
            "grid_auto_rows": null,
            "grid_column": null,
            "grid_gap": null,
            "grid_row": null,
            "grid_template_areas": null,
            "grid_template_columns": null,
            "grid_template_rows": null,
            "height": null,
            "justify_content": null,
            "justify_items": null,
            "left": null,
            "margin": null,
            "max_height": null,
            "max_width": null,
            "min_height": null,
            "min_width": null,
            "object_fit": null,
            "object_position": null,
            "order": null,
            "overflow": null,
            "overflow_x": null,
            "overflow_y": null,
            "padding": null,
            "right": null,
            "top": null,
            "visibility": null,
            "width": null
          }
        },
        "3a5b646874e9454490255c8929fb7c5f": {
          "model_module": "@jupyter-widgets/controls",
          "model_name": "DescriptionStyleModel",
          "model_module_version": "1.5.0",
          "state": {
            "_model_module": "@jupyter-widgets/controls",
            "_model_module_version": "1.5.0",
            "_model_name": "DescriptionStyleModel",
            "_view_count": null,
            "_view_module": "@jupyter-widgets/base",
            "_view_module_version": "1.2.0",
            "_view_name": "StyleView",
            "description_width": ""
          }
        },
        "188d4ef0255a4518831c24f09143417f": {
          "model_module": "@jupyter-widgets/base",
          "model_name": "LayoutModel",
          "model_module_version": "1.2.0",
          "state": {
            "_model_module": "@jupyter-widgets/base",
            "_model_module_version": "1.2.0",
            "_model_name": "LayoutModel",
            "_view_count": null,
            "_view_module": "@jupyter-widgets/base",
            "_view_module_version": "1.2.0",
            "_view_name": "LayoutView",
            "align_content": null,
            "align_items": null,
            "align_self": null,
            "border": null,
            "bottom": null,
            "display": null,
            "flex": null,
            "flex_flow": null,
            "grid_area": null,
            "grid_auto_columns": null,
            "grid_auto_flow": null,
            "grid_auto_rows": null,
            "grid_column": null,
            "grid_gap": null,
            "grid_row": null,
            "grid_template_areas": null,
            "grid_template_columns": null,
            "grid_template_rows": null,
            "height": null,
            "justify_content": null,
            "justify_items": null,
            "left": null,
            "margin": null,
            "max_height": null,
            "max_width": null,
            "min_height": null,
            "min_width": null,
            "object_fit": null,
            "object_position": null,
            "order": null,
            "overflow": null,
            "overflow_x": null,
            "overflow_y": null,
            "padding": null,
            "right": null,
            "top": null,
            "visibility": null,
            "width": null
          }
        },
        "ebdf4d113224477da487688e233e6b59": {
          "model_module": "@jupyter-widgets/controls",
          "model_name": "DescriptionStyleModel",
          "model_module_version": "1.5.0",
          "state": {
            "_model_module": "@jupyter-widgets/controls",
            "_model_module_version": "1.5.0",
            "_model_name": "DescriptionStyleModel",
            "_view_count": null,
            "_view_module": "@jupyter-widgets/base",
            "_view_module_version": "1.2.0",
            "_view_name": "StyleView",
            "description_width": ""
          }
        },
        "43854af9d54f406fae52151157e0cec2": {
          "model_module": "@jupyter-widgets/base",
          "model_name": "LayoutModel",
          "model_module_version": "1.2.0",
          "state": {
            "_model_module": "@jupyter-widgets/base",
            "_model_module_version": "1.2.0",
            "_model_name": "LayoutModel",
            "_view_count": null,
            "_view_module": "@jupyter-widgets/base",
            "_view_module_version": "1.2.0",
            "_view_name": "LayoutView",
            "align_content": null,
            "align_items": null,
            "align_self": null,
            "border": null,
            "bottom": null,
            "display": null,
            "flex": null,
            "flex_flow": null,
            "grid_area": null,
            "grid_auto_columns": null,
            "grid_auto_flow": null,
            "grid_auto_rows": null,
            "grid_column": null,
            "grid_gap": null,
            "grid_row": null,
            "grid_template_areas": null,
            "grid_template_columns": null,
            "grid_template_rows": null,
            "height": null,
            "justify_content": null,
            "justify_items": null,
            "left": null,
            "margin": null,
            "max_height": null,
            "max_width": null,
            "min_height": null,
            "min_width": null,
            "object_fit": null,
            "object_position": null,
            "order": null,
            "overflow": null,
            "overflow_x": null,
            "overflow_y": null,
            "padding": null,
            "right": null,
            "top": null,
            "visibility": null,
            "width": null
          }
        },
        "53c2456ec85c497d9dd4b62bd29a7d48": {
          "model_module": "@jupyter-widgets/controls",
          "model_name": "DescriptionStyleModel",
          "model_module_version": "1.5.0",
          "state": {
            "_model_module": "@jupyter-widgets/controls",
            "_model_module_version": "1.5.0",
            "_model_name": "DescriptionStyleModel",
            "_view_count": null,
            "_view_module": "@jupyter-widgets/base",
            "_view_module_version": "1.2.0",
            "_view_name": "StyleView",
            "description_width": ""
          }
        },
        "3dbdc2edc6bc4ff4b4711c2330a042e9": {
          "model_module": "@jupyter-widgets/base",
          "model_name": "LayoutModel",
          "model_module_version": "1.2.0",
          "state": {
            "_model_module": "@jupyter-widgets/base",
            "_model_module_version": "1.2.0",
            "_model_name": "LayoutModel",
            "_view_count": null,
            "_view_module": "@jupyter-widgets/base",
            "_view_module_version": "1.2.0",
            "_view_name": "LayoutView",
            "align_content": null,
            "align_items": null,
            "align_self": null,
            "border": null,
            "bottom": null,
            "display": null,
            "flex": null,
            "flex_flow": null,
            "grid_area": null,
            "grid_auto_columns": null,
            "grid_auto_flow": null,
            "grid_auto_rows": null,
            "grid_column": null,
            "grid_gap": null,
            "grid_row": null,
            "grid_template_areas": null,
            "grid_template_columns": null,
            "grid_template_rows": null,
            "height": null,
            "justify_content": null,
            "justify_items": null,
            "left": null,
            "margin": null,
            "max_height": null,
            "max_width": null,
            "min_height": null,
            "min_width": null,
            "object_fit": null,
            "object_position": null,
            "order": null,
            "overflow": null,
            "overflow_x": null,
            "overflow_y": null,
            "padding": null,
            "right": null,
            "top": null,
            "visibility": null,
            "width": null
          }
        },
        "dfa86eeba2224bc2aee92b6792bb2f45": {
          "model_module": "@jupyter-widgets/controls",
          "model_name": "ButtonStyleModel",
          "model_module_version": "1.5.0",
          "state": {
            "_model_module": "@jupyter-widgets/controls",
            "_model_module_version": "1.5.0",
            "_model_name": "ButtonStyleModel",
            "_view_count": null,
            "_view_module": "@jupyter-widgets/base",
            "_view_module_version": "1.2.0",
            "_view_name": "StyleView",
            "button_color": null,
            "font_weight": ""
          }
        },
        "3457792d2e19454abcc166b85ba5b594": {
          "model_module": "@jupyter-widgets/base",
          "model_name": "LayoutModel",
          "model_module_version": "1.2.0",
          "state": {
            "_model_module": "@jupyter-widgets/base",
            "_model_module_version": "1.2.0",
            "_model_name": "LayoutModel",
            "_view_count": null,
            "_view_module": "@jupyter-widgets/base",
            "_view_module_version": "1.2.0",
            "_view_name": "LayoutView",
            "align_content": null,
            "align_items": null,
            "align_self": null,
            "border": null,
            "bottom": null,
            "display": null,
            "flex": null,
            "flex_flow": null,
            "grid_area": null,
            "grid_auto_columns": null,
            "grid_auto_flow": null,
            "grid_auto_rows": null,
            "grid_column": null,
            "grid_gap": null,
            "grid_row": null,
            "grid_template_areas": null,
            "grid_template_columns": null,
            "grid_template_rows": null,
            "height": null,
            "justify_content": null,
            "justify_items": null,
            "left": null,
            "margin": null,
            "max_height": null,
            "max_width": null,
            "min_height": null,
            "min_width": null,
            "object_fit": null,
            "object_position": null,
            "order": null,
            "overflow": null,
            "overflow_x": null,
            "overflow_y": null,
            "padding": null,
            "right": null,
            "top": null,
            "visibility": null,
            "width": null
          }
        },
        "72826bc4290747a49373ba0c9afefc60": {
          "model_module": "@jupyter-widgets/controls",
          "model_name": "DescriptionStyleModel",
          "model_module_version": "1.5.0",
          "state": {
            "_model_module": "@jupyter-widgets/controls",
            "_model_module_version": "1.5.0",
            "_model_name": "DescriptionStyleModel",
            "_view_count": null,
            "_view_module": "@jupyter-widgets/base",
            "_view_module_version": "1.2.0",
            "_view_name": "StyleView",
            "description_width": ""
          }
        },
        "904b7023d2ea42f3bebbb7a5c2411370": {
          "model_module": "@jupyter-widgets/controls",
          "model_name": "LabelModel",
          "model_module_version": "1.5.0",
          "state": {
            "_dom_classes": [],
            "_model_module": "@jupyter-widgets/controls",
            "_model_module_version": "1.5.0",
            "_model_name": "LabelModel",
            "_view_count": null,
            "_view_module": "@jupyter-widgets/controls",
            "_view_module_version": "1.5.0",
            "_view_name": "LabelView",
            "description": "",
            "description_tooltip": null,
            "layout": "IPY_MODEL_cda64be3b31c44e9a02764715799611f",
            "placeholder": "​",
            "style": "IPY_MODEL_e32316d0ebd9419d9e1e9028c30b64e4",
            "value": "Connecting..."
          }
        },
        "cda64be3b31c44e9a02764715799611f": {
          "model_module": "@jupyter-widgets/base",
          "model_name": "LayoutModel",
          "model_module_version": "1.2.0",
          "state": {
            "_model_module": "@jupyter-widgets/base",
            "_model_module_version": "1.2.0",
            "_model_name": "LayoutModel",
            "_view_count": null,
            "_view_module": "@jupyter-widgets/base",
            "_view_module_version": "1.2.0",
            "_view_name": "LayoutView",
            "align_content": null,
            "align_items": null,
            "align_self": null,
            "border": null,
            "bottom": null,
            "display": null,
            "flex": null,
            "flex_flow": null,
            "grid_area": null,
            "grid_auto_columns": null,
            "grid_auto_flow": null,
            "grid_auto_rows": null,
            "grid_column": null,
            "grid_gap": null,
            "grid_row": null,
            "grid_template_areas": null,
            "grid_template_columns": null,
            "grid_template_rows": null,
            "height": null,
            "justify_content": null,
            "justify_items": null,
            "left": null,
            "margin": null,
            "max_height": null,
            "max_width": null,
            "min_height": null,
            "min_width": null,
            "object_fit": null,
            "object_position": null,
            "order": null,
            "overflow": null,
            "overflow_x": null,
            "overflow_y": null,
            "padding": null,
            "right": null,
            "top": null,
            "visibility": null,
            "width": null
          }
        },
        "e32316d0ebd9419d9e1e9028c30b64e4": {
          "model_module": "@jupyter-widgets/controls",
          "model_name": "DescriptionStyleModel",
          "model_module_version": "1.5.0",
          "state": {
            "_model_module": "@jupyter-widgets/controls",
            "_model_module_version": "1.5.0",
            "_model_name": "DescriptionStyleModel",
            "_view_count": null,
            "_view_module": "@jupyter-widgets/base",
            "_view_module_version": "1.2.0",
            "_view_name": "StyleView",
            "description_width": ""
          }
        },
        "7e2629f95ee6493d8488ef97e1897c42": {
          "model_module": "@jupyter-widgets/controls",
          "model_name": "LabelModel",
          "model_module_version": "1.5.0",
          "state": {
            "_dom_classes": [],
            "_model_module": "@jupyter-widgets/controls",
            "_model_module_version": "1.5.0",
            "_model_name": "LabelModel",
            "_view_count": null,
            "_view_module": "@jupyter-widgets/controls",
            "_view_module_version": "1.5.0",
            "_view_name": "LabelView",
            "description": "",
            "description_tooltip": null,
            "layout": "IPY_MODEL_48d24fc97ea54f608048ecd2c4d4b019",
            "placeholder": "​",
            "style": "IPY_MODEL_1401bb21c1f74d95960f023b79444b3c",
            "value": "Kaggle credentials successfully validated."
          }
        },
        "48d24fc97ea54f608048ecd2c4d4b019": {
          "model_module": "@jupyter-widgets/base",
          "model_name": "LayoutModel",
          "model_module_version": "1.2.0",
          "state": {
            "_model_module": "@jupyter-widgets/base",
            "_model_module_version": "1.2.0",
            "_model_name": "LayoutModel",
            "_view_count": null,
            "_view_module": "@jupyter-widgets/base",
            "_view_module_version": "1.2.0",
            "_view_name": "LayoutView",
            "align_content": null,
            "align_items": null,
            "align_self": null,
            "border": null,
            "bottom": null,
            "display": null,
            "flex": null,
            "flex_flow": null,
            "grid_area": null,
            "grid_auto_columns": null,
            "grid_auto_flow": null,
            "grid_auto_rows": null,
            "grid_column": null,
            "grid_gap": null,
            "grid_row": null,
            "grid_template_areas": null,
            "grid_template_columns": null,
            "grid_template_rows": null,
            "height": null,
            "justify_content": null,
            "justify_items": null,
            "left": null,
            "margin": null,
            "max_height": null,
            "max_width": null,
            "min_height": null,
            "min_width": null,
            "object_fit": null,
            "object_position": null,
            "order": null,
            "overflow": null,
            "overflow_x": null,
            "overflow_y": null,
            "padding": null,
            "right": null,
            "top": null,
            "visibility": null,
            "width": null
          }
        },
        "1401bb21c1f74d95960f023b79444b3c": {
          "model_module": "@jupyter-widgets/controls",
          "model_name": "DescriptionStyleModel",
          "model_module_version": "1.5.0",
          "state": {
            "_model_module": "@jupyter-widgets/controls",
            "_model_module_version": "1.5.0",
            "_model_name": "DescriptionStyleModel",
            "_view_count": null,
            "_view_module": "@jupyter-widgets/base",
            "_view_module_version": "1.2.0",
            "_view_name": "StyleView",
            "description_width": ""
          }
        }
      }
    }
  },
  "nbformat_minor": 0,
  "nbformat": 4,
  "cells": [
    {
      "source": [
        "# IMPORTANT: SOME KAGGLE DATA SOURCES ARE PRIVATE\n",
        "# RUN THIS CELL IN ORDER TO IMPORT YOUR KAGGLE DATA SOURCES.\n",
        "import kagglehub\n",
        "kagglehub.login()\n"
      ],
      "metadata": {
        "id": "12WSpGnL5z6Y",
        "outputId": "72d2d89e-0d65-4eb1-fb39-2836487178d0",
        "colab": {
          "base_uri": "https://localhost:8080/",
          "height": 84,
          "referenced_widgets": [
            "ad165e3e65614e8d955df743bb727ae4",
            "8ea8d57976414bbe94c76010fbbad217",
            "40b8d2128afc4539bce91d40f626cb32",
            "4b0b6bcd530a4ae3a99fe23f0aae925d",
            "62c8b209bd364532bea159813ec065e2",
            "72b9c895f40142bd96e43ec33a56f540",
            "7fd472290b69480c829a8031452a28c6",
            "32698a0f868842859e653ddebe4f8b9d",
            "3a5b646874e9454490255c8929fb7c5f",
            "188d4ef0255a4518831c24f09143417f",
            "ebdf4d113224477da487688e233e6b59",
            "43854af9d54f406fae52151157e0cec2",
            "53c2456ec85c497d9dd4b62bd29a7d48",
            "3dbdc2edc6bc4ff4b4711c2330a042e9",
            "dfa86eeba2224bc2aee92b6792bb2f45",
            "3457792d2e19454abcc166b85ba5b594",
            "72826bc4290747a49373ba0c9afefc60",
            "904b7023d2ea42f3bebbb7a5c2411370",
            "cda64be3b31c44e9a02764715799611f",
            "e32316d0ebd9419d9e1e9028c30b64e4",
            "7e2629f95ee6493d8488ef97e1897c42",
            "48d24fc97ea54f608048ecd2c4d4b019",
            "1401bb21c1f74d95960f023b79444b3c"
          ]
        }
      },
      "cell_type": "code",
      "outputs": [
        {
          "output_type": "display_data",
          "data": {
            "text/plain": [
              "VBox(children=(HTML(value='<center> <img\\nsrc=https://www.kaggle.com/static/images/site-logo.png\\nalt=\\'Kaggle…"
            ],
            "application/vnd.jupyter.widget-view+json": {
              "version_major": 2,
              "version_minor": 0,
              "model_id": "ad165e3e65614e8d955df743bb727ae4"
            }
          },
          "metadata": {}
        },
        {
          "output_type": "stream",
          "name": "stdout",
          "text": [
            "Kaggle credentials set.\n",
            "Kaggle credentials successfully validated.\n"
          ]
        }
      ],
      "execution_count": 1
    },
    {
      "source": [
        "# IMPORTANT: RUN THIS CELL IN ORDER TO IMPORT YOUR KAGGLE DATA SOURCES,\n",
        "# THEN FEEL FREE TO DELETE THIS CELL.\n",
        "# NOTE: THIS NOTEBOOK ENVIRONMENT DIFFERS FROM KAGGLE'S PYTHON\n",
        "# ENVIRONMENT SO THERE MAY BE MISSING LIBRARIES USED BY YOUR\n",
        "# NOTEBOOK.\n",
        "\n",
        "airbus_ship_detection_path = kagglehub.competition_download('airbus-ship-detection')\n",
        "\n",
        "print('Data source import complete.')\n"
      ],
      "metadata": {
        "id": "5OKLMjRR5z6c",
        "outputId": "f9673291-f3c5-4a66-8fbc-7bfee11f56ee",
        "colab": {
          "base_uri": "https://localhost:8080/"
        }
      },
      "cell_type": "code",
      "outputs": [
        {
          "metadata": {
            "tags": null
          },
          "name": "stdout",
          "output_type": "stream",
          "text": [
            "Downloading from https://www.kaggle.com/api/v1/competitions/data/download-all/airbus-ship-detection...\n"
          ]
        },
        {
          "metadata": {
            "tags": null
          },
          "name": "stderr",
          "output_type": "stream",
          "text": [
            "100%|██████████| 28.6G/28.6G [06:18<00:00, 81.1MB/s]\n"
          ]
        },
        {
          "output_type": "stream",
          "name": "stdout",
          "text": [
            "Extracting files...\n",
            "Data source import complete.\n"
          ]
        }
      ],
      "execution_count": 2
    },
    {
      "cell_type": "code",
      "source": [
        "!pip install -q segmentation_models_pytorch\n",
        "!pip install -qU wandb"
      ],
      "metadata": {
        "trusted": true,
        "id": "1ar5J9o45z6d",
        "outputId": "1430f059-0a68-47cb-e62a-68a7c90aac54",
        "colab": {
          "base_uri": "https://localhost:8080/"
        }
      },
      "outputs": [
        {
          "output_type": "stream",
          "name": "stdout",
          "text": [
            "\u001b[2K   \u001b[90m━━━━━━━━━━━━━━━━━━━━━━━━━━━━━━━━━━━━━━━━\u001b[0m \u001b[32m154.8/154.8 kB\u001b[0m \u001b[31m6.4 MB/s\u001b[0m eta \u001b[36m0:00:00\u001b[0m\n",
            "\u001b[2K   \u001b[90m━━━━━━━━━━━━━━━━━━━━━━━━━━━━━━━━━━━━━━━━\u001b[0m \u001b[32m363.4/363.4 MB\u001b[0m \u001b[31m5.0 MB/s\u001b[0m eta \u001b[36m0:00:00\u001b[0m\n",
            "\u001b[2K   \u001b[90m━━━━━━━━━━━━━━━━━━━━━━━━━━━━━━━━━━━━━━━━\u001b[0m \u001b[32m13.8/13.8 MB\u001b[0m \u001b[31m44.3 MB/s\u001b[0m eta \u001b[36m0:00:00\u001b[0m\n",
            "\u001b[2K   \u001b[90m━━━━━━━━━━━━━━━━━━━━━━━━━━━━━━━━━━━━━━━━\u001b[0m \u001b[32m24.6/24.6 MB\u001b[0m \u001b[31m38.6 MB/s\u001b[0m eta \u001b[36m0:00:00\u001b[0m\n",
            "\u001b[2K   \u001b[90m━━━━━━━━━━━━━━━━━━━━━━━━━━━━━━━━━━━━━━━━\u001b[0m \u001b[32m883.7/883.7 kB\u001b[0m \u001b[31m34.5 MB/s\u001b[0m eta \u001b[36m0:00:00\u001b[0m\n",
            "\u001b[2K   \u001b[90m━━━━━━━━━━━━━━━━━━━━━━━━━━━━━━━━━━━━━━━━\u001b[0m \u001b[32m664.8/664.8 MB\u001b[0m \u001b[31m2.2 MB/s\u001b[0m eta \u001b[36m0:00:00\u001b[0m\n",
            "\u001b[2K   \u001b[90m━━━━━━━━━━━━━━━━━━━━━━━━━━━━━━━━━━━━━━━━\u001b[0m \u001b[32m211.5/211.5 MB\u001b[0m \u001b[31m4.6 MB/s\u001b[0m eta \u001b[36m0:00:00\u001b[0m\n",
            "\u001b[2K   \u001b[90m━━━━━━━━━━━━━━━━━━━━━━━━━━━━━━━━━━━━━━━━\u001b[0m \u001b[32m56.3/56.3 MB\u001b[0m \u001b[31m11.0 MB/s\u001b[0m eta \u001b[36m0:00:00\u001b[0m\n",
            "\u001b[2K   \u001b[90m━━━━━━━━━━━━━━━━━━━━━━━━━━━━━━━━━━━━━━━━\u001b[0m \u001b[32m127.9/127.9 MB\u001b[0m \u001b[31m8.1 MB/s\u001b[0m eta \u001b[36m0:00:00\u001b[0m\n",
            "\u001b[2K   \u001b[90m━━━━━━━━━━━━━━━━━━━━━━━━━━━━━━━━━━━━━━━━\u001b[0m \u001b[32m207.5/207.5 MB\u001b[0m \u001b[31m7.3 MB/s\u001b[0m eta \u001b[36m0:00:00\u001b[0m\n",
            "\u001b[2K   \u001b[90m━━━━━━━━━━━━━━━━━━━━━━━━━━━━━━━━━━━━━━━━\u001b[0m \u001b[32m21.1/21.1 MB\u001b[0m \u001b[31m27.2 MB/s\u001b[0m eta \u001b[36m0:00:00\u001b[0m\n",
            "\u001b[?25h"
          ]
        }
      ],
      "execution_count": 3
    },
    {
      "cell_type": "code",
      "source": [
        "!pip install colorama"
      ],
      "metadata": {
        "colab": {
          "base_uri": "https://localhost:8080/"
        },
        "id": "DCn1Ny4-Ag_4",
        "outputId": "faec4268-17aa-4d06-9342-5eaf90b526b1"
      },
      "execution_count": 5,
      "outputs": [
        {
          "output_type": "stream",
          "name": "stdout",
          "text": [
            "Collecting colorama\n",
            "  Downloading colorama-0.4.6-py2.py3-none-any.whl.metadata (17 kB)\n",
            "Downloading colorama-0.4.6-py2.py3-none-any.whl (25 kB)\n",
            "Installing collected packages: colorama\n",
            "Successfully installed colorama-0.4.6\n"
          ]
        }
      ]
    },
    {
      "cell_type": "code",
      "source": [
        "import numpy as np\n",
        "import pandas as pd\n",
        "pd.options.plotting.backend = \"plotly\"\n",
        "import random\n",
        "from glob import glob\n",
        "import os, shutil\n",
        "from tqdm import tqdm\n",
        "tqdm.pandas()\n",
        "import time\n",
        "import copy\n",
        "import joblib\n",
        "from collections import defaultdict\n",
        "import gc\n",
        "from IPython import display as ipd\n",
        "\n",
        "# visualization\n",
        "import cv2\n",
        "import matplotlib.pyplot as plt\n",
        "from matplotlib.patches import Rectangle\n",
        "\n",
        "# Sklearn\n",
        "from sklearn.model_selection import StratifiedKFold, KFold, StratifiedGroupKFold\n",
        "\n",
        "# PyTorch\n",
        "import torch\n",
        "import torch.nn as nn\n",
        "import torch.optim as optim\n",
        "from torch.optim import lr_scheduler\n",
        "from torch.utils.data import Dataset, DataLoader\n",
        "from torch.cuda import amp\n",
        "\n",
        "import timm\n",
        "\n",
        "# Albumentations for augmentations\n",
        "import albumentations as A\n",
        "from albumentations.pytorch import ToTensorV2\n",
        "\n",
        "# import rasterio\n",
        "from joblib import Parallel, delayed\n",
        "\n",
        "# For colored terminal text\n",
        "from colorama import Fore, Back, Style\n",
        "c_  = Fore.GREEN\n",
        "sr_ = Style.RESET_ALL\n",
        "\n",
        "import warnings\n",
        "warnings.filterwarnings(\"ignore\")\n",
        "\n",
        "# For descriptive error messages\n",
        "os.environ['CUDA_LAUNCH_BLOCKING'] = \"1\"\n"
      ],
      "metadata": {
        "_uuid": "8f2839f25d086af736a60e9eeb907d3b93b6e0e5",
        "_cell_guid": "b1076dfc-b9ad-4769-8c92-a6c4dae69d19",
        "trusted": true,
        "execution": {
          "iopub.status.busy": "2025-07-10T08:46:47.226477Z",
          "iopub.execute_input": "2025-07-10T08:46:47.22675Z",
          "iopub.status.idle": "2025-07-10T08:46:52.648594Z",
          "shell.execute_reply.started": "2025-07-10T08:46:47.226724Z",
          "shell.execute_reply": "2025-07-10T08:46:52.648048Z"
        },
        "id": "GuHzcAhn5z6d"
      },
      "outputs": [],
      "execution_count": 6
    },
    {
      "cell_type": "code",
      "source": [
        "import wandb\n",
        "\n",
        "try:\n",
        "    # from kaggle_secrets import UserSecretsClient\n",
        "    # user_secrets = UserSecretsClient()\n",
        "    # api_key = user_secrets.get_secret(\"wandb\")\n",
        "    from google.colab import userdata\n",
        "    api_key = userdata.get('wandb')\n",
        "    wandb.login(key=api_key)\n",
        "    anonymous = None\n",
        "except:\n",
        "    anonymous = \"must\"\n",
        "    print('To use your W&B account,\\nGo to Add-ons -> Secrets and provide your W&B access token. Use the Label name as WANDB. \\nGet your W&B access token from here: https://wandb.ai/authorize')"
      ],
      "metadata": {
        "trusted": true,
        "execution": {
          "iopub.status.busy": "2025-07-10T08:46:55.112382Z",
          "iopub.execute_input": "2025-07-10T08:46:55.113159Z",
          "iopub.status.idle": "2025-07-10T08:47:01.366438Z",
          "shell.execute_reply.started": "2025-07-10T08:46:55.113118Z",
          "shell.execute_reply": "2025-07-10T08:47:01.365879Z"
        },
        "id": "2NCKiYVU5z6e",
        "colab": {
          "base_uri": "https://localhost:8080/"
        },
        "outputId": "9a1116b5-6a57-4e31-aaae-d32ba13b9aeb"
      },
      "outputs": [
        {
          "output_type": "stream",
          "name": "stderr",
          "text": [
            "\u001b[34m\u001b[1mwandb\u001b[0m: \u001b[33mWARNING\u001b[0m If you're specifying your api key in code, ensure this code is not shared publicly.\n",
            "\u001b[34m\u001b[1mwandb\u001b[0m: \u001b[33mWARNING\u001b[0m Consider setting the WANDB_API_KEY environment variable, or running `wandb login` from the command line.\n",
            "\u001b[34m\u001b[1mwandb\u001b[0m: No netrc file found, creating one.\n",
            "\u001b[34m\u001b[1mwandb\u001b[0m: Appending key for api.wandb.ai to your netrc file: /root/.netrc\n",
            "\u001b[34m\u001b[1mwandb\u001b[0m: Currently logged in as: \u001b[33mskj092\u001b[0m to \u001b[32mhttps://api.wandb.ai\u001b[0m. Use \u001b[1m`wandb login --relogin`\u001b[0m to force relogin\n"
          ]
        }
      ],
      "execution_count": 7
    },
    {
      "cell_type": "code",
      "source": [
        "class CFG:\n",
        "    seed          = 101\n",
        "    debug         = True # set debug=False for Full Training\n",
        "    exp_name      = 'Baselinev2'\n",
        "    comment       = 'unet-efficientnet_b1-224x224-aug2-split2'\n",
        "    model_name    = 'Unet'\n",
        "    backbone      = 'efficientnet-b1'\n",
        "    train_bs      = 128\n",
        "    valid_bs      = train_bs*2\n",
        "    img_size      = [224, 224]\n",
        "    epochs        = 15\n",
        "    lr            = 2e-3\n",
        "    scheduler     = 'CosineAnnealingLR'\n",
        "    min_lr        = 1e-6\n",
        "    T_max         = int(30000/train_bs*epochs)+50\n",
        "    T_0           = 25\n",
        "    warmup_epochs = 0\n",
        "    wd            = 1e-6\n",
        "    n_accumulate  = max(1, 32//train_bs)\n",
        "    n_fold        = 5\n",
        "    num_classes   = 1\n",
        "    device        = torch.device(\"cuda\" if torch.cuda.is_available() else \"cpu\")"
      ],
      "metadata": {
        "trusted": true,
        "execution": {
          "iopub.status.busy": "2025-07-10T08:47:01.367479Z",
          "iopub.execute_input": "2025-07-10T08:47:01.367962Z",
          "iopub.status.idle": "2025-07-10T08:47:01.428312Z",
          "shell.execute_reply.started": "2025-07-10T08:47:01.367942Z",
          "shell.execute_reply": "2025-07-10T08:47:01.427628Z"
        },
        "id": "QMc1zng35z6f"
      },
      "outputs": [],
      "execution_count": 29
    },
    {
      "cell_type": "code",
      "source": [
        "def set_seed(seed = 42):\n",
        "    '''Sets the seed of the entire notebook so results are the same every time we run.\n",
        "    This is for REPRODUCIBILITY.'''\n",
        "    np.random.seed(seed)\n",
        "    random.seed(seed)\n",
        "    torch.manual_seed(seed)\n",
        "    torch.cuda.manual_seed(seed)\n",
        "    # When running on the CuDNN backend, two further options must be set\n",
        "    torch.backends.cudnn.deterministic = True\n",
        "    torch.backends.cudnn.benchmark = False\n",
        "    # Set a fixed value for the hash seed\n",
        "    os.environ['PYTHONHASHSEED'] = str(seed)\n",
        "    print('> SEEDING DONE')\n",
        "\n",
        "set_seed(CFG.seed)"
      ],
      "metadata": {
        "trusted": true,
        "execution": {
          "iopub.status.busy": "2025-07-10T08:47:01.429077Z",
          "iopub.execute_input": "2025-07-10T08:47:01.429279Z",
          "iopub.status.idle": "2025-07-10T08:47:01.445504Z",
          "shell.execute_reply.started": "2025-07-10T08:47:01.429262Z",
          "shell.execute_reply": "2025-07-10T08:47:01.444904Z"
        },
        "id": "uyNPLw4R5z6f",
        "colab": {
          "base_uri": "https://localhost:8080/"
        },
        "outputId": "3c6ac102-622c-47fb-e398-c6352c09c688"
      },
      "outputs": [
        {
          "output_type": "stream",
          "name": "stdout",
          "text": [
            "> SEEDING DONE\n"
          ]
        }
      ],
      "execution_count": 9
    },
    {
      "cell_type": "code",
      "source": [
        "BASE_PATH  = '/root/.cache/kagglehub/competitions/airbus-ship-detection'\n",
        "\n",
        "df = pd.read_csv('/root/.cache/kagglehub/competitions/airbus-ship-detection/train_ship_segmentations_v2.csv')\n",
        "df['EncodedPixels'] = df.EncodedPixels.fillna('')\n",
        "df['rle_len'] = df.EncodedPixels.map(len) # length of each rle mask\n",
        "df['empty'] = (df.rle_len==0) # empty masks\n",
        "df.head()"
      ],
      "metadata": {
        "trusted": true,
        "execution": {
          "iopub.status.busy": "2025-07-10T08:47:01.446636Z",
          "iopub.execute_input": "2025-07-10T08:47:01.446936Z",
          "iopub.status.idle": "2025-07-10T08:47:02.110802Z",
          "shell.execute_reply.started": "2025-07-10T08:47:01.446918Z",
          "shell.execute_reply": "2025-07-10T08:47:02.11006Z"
        },
        "id": "sNbQ9Rk95z6g",
        "colab": {
          "base_uri": "https://localhost:8080/",
          "height": 206
        },
        "outputId": "7677dd29-126c-44b6-bfc6-20cf69190650"
      },
      "outputs": [
        {
          "output_type": "execute_result",
          "data": {
            "text/plain": [
              "         ImageId                                      EncodedPixels  rle_len  \\\n",
              "0  00003e153.jpg                                                           0   \n",
              "1  0001124c7.jpg                                                           0   \n",
              "2  000155de5.jpg  264661 17 265429 33 266197 33 266965 33 267733...     1038   \n",
              "3  000194a2d.jpg  360486 1 361252 4 362019 5 362785 8 363552 10 ...      213   \n",
              "4  000194a2d.jpg  51834 9 52602 9 53370 9 54138 9 54906 9 55674 ...      143   \n",
              "\n",
              "   empty  \n",
              "0   True  \n",
              "1   True  \n",
              "2  False  \n",
              "3  False  \n",
              "4  False  "
            ],
            "text/html": [
              "\n",
              "  <div id=\"df-fcda01cc-7f99-45c4-a168-bd125d8adc07\" class=\"colab-df-container\">\n",
              "    <div>\n",
              "<style scoped>\n",
              "    .dataframe tbody tr th:only-of-type {\n",
              "        vertical-align: middle;\n",
              "    }\n",
              "\n",
              "    .dataframe tbody tr th {\n",
              "        vertical-align: top;\n",
              "    }\n",
              "\n",
              "    .dataframe thead th {\n",
              "        text-align: right;\n",
              "    }\n",
              "</style>\n",
              "<table border=\"1\" class=\"dataframe\">\n",
              "  <thead>\n",
              "    <tr style=\"text-align: right;\">\n",
              "      <th></th>\n",
              "      <th>ImageId</th>\n",
              "      <th>EncodedPixels</th>\n",
              "      <th>rle_len</th>\n",
              "      <th>empty</th>\n",
              "    </tr>\n",
              "  </thead>\n",
              "  <tbody>\n",
              "    <tr>\n",
              "      <th>0</th>\n",
              "      <td>00003e153.jpg</td>\n",
              "      <td></td>\n",
              "      <td>0</td>\n",
              "      <td>True</td>\n",
              "    </tr>\n",
              "    <tr>\n",
              "      <th>1</th>\n",
              "      <td>0001124c7.jpg</td>\n",
              "      <td></td>\n",
              "      <td>0</td>\n",
              "      <td>True</td>\n",
              "    </tr>\n",
              "    <tr>\n",
              "      <th>2</th>\n",
              "      <td>000155de5.jpg</td>\n",
              "      <td>264661 17 265429 33 266197 33 266965 33 267733...</td>\n",
              "      <td>1038</td>\n",
              "      <td>False</td>\n",
              "    </tr>\n",
              "    <tr>\n",
              "      <th>3</th>\n",
              "      <td>000194a2d.jpg</td>\n",
              "      <td>360486 1 361252 4 362019 5 362785 8 363552 10 ...</td>\n",
              "      <td>213</td>\n",
              "      <td>False</td>\n",
              "    </tr>\n",
              "    <tr>\n",
              "      <th>4</th>\n",
              "      <td>000194a2d.jpg</td>\n",
              "      <td>51834 9 52602 9 53370 9 54138 9 54906 9 55674 ...</td>\n",
              "      <td>143</td>\n",
              "      <td>False</td>\n",
              "    </tr>\n",
              "  </tbody>\n",
              "</table>\n",
              "</div>\n",
              "    <div class=\"colab-df-buttons\">\n",
              "\n",
              "  <div class=\"colab-df-container\">\n",
              "    <button class=\"colab-df-convert\" onclick=\"convertToInteractive('df-fcda01cc-7f99-45c4-a168-bd125d8adc07')\"\n",
              "            title=\"Convert this dataframe to an interactive table.\"\n",
              "            style=\"display:none;\">\n",
              "\n",
              "  <svg xmlns=\"http://www.w3.org/2000/svg\" height=\"24px\" viewBox=\"0 -960 960 960\">\n",
              "    <path d=\"M120-120v-720h720v720H120Zm60-500h600v-160H180v160Zm220 220h160v-160H400v160Zm0 220h160v-160H400v160ZM180-400h160v-160H180v160Zm440 0h160v-160H620v160ZM180-180h160v-160H180v160Zm440 0h160v-160H620v160Z\"/>\n",
              "  </svg>\n",
              "    </button>\n",
              "\n",
              "  <style>\n",
              "    .colab-df-container {\n",
              "      display:flex;\n",
              "      gap: 12px;\n",
              "    }\n",
              "\n",
              "    .colab-df-convert {\n",
              "      background-color: #E8F0FE;\n",
              "      border: none;\n",
              "      border-radius: 50%;\n",
              "      cursor: pointer;\n",
              "      display: none;\n",
              "      fill: #1967D2;\n",
              "      height: 32px;\n",
              "      padding: 0 0 0 0;\n",
              "      width: 32px;\n",
              "    }\n",
              "\n",
              "    .colab-df-convert:hover {\n",
              "      background-color: #E2EBFA;\n",
              "      box-shadow: 0px 1px 2px rgba(60, 64, 67, 0.3), 0px 1px 3px 1px rgba(60, 64, 67, 0.15);\n",
              "      fill: #174EA6;\n",
              "    }\n",
              "\n",
              "    .colab-df-buttons div {\n",
              "      margin-bottom: 4px;\n",
              "    }\n",
              "\n",
              "    [theme=dark] .colab-df-convert {\n",
              "      background-color: #3B4455;\n",
              "      fill: #D2E3FC;\n",
              "    }\n",
              "\n",
              "    [theme=dark] .colab-df-convert:hover {\n",
              "      background-color: #434B5C;\n",
              "      box-shadow: 0px 1px 3px 1px rgba(0, 0, 0, 0.15);\n",
              "      filter: drop-shadow(0px 1px 2px rgba(0, 0, 0, 0.3));\n",
              "      fill: #FFFFFF;\n",
              "    }\n",
              "  </style>\n",
              "\n",
              "    <script>\n",
              "      const buttonEl =\n",
              "        document.querySelector('#df-fcda01cc-7f99-45c4-a168-bd125d8adc07 button.colab-df-convert');\n",
              "      buttonEl.style.display =\n",
              "        google.colab.kernel.accessAllowed ? 'block' : 'none';\n",
              "\n",
              "      async function convertToInteractive(key) {\n",
              "        const element = document.querySelector('#df-fcda01cc-7f99-45c4-a168-bd125d8adc07');\n",
              "        const dataTable =\n",
              "          await google.colab.kernel.invokeFunction('convertToInteractive',\n",
              "                                                    [key], {});\n",
              "        if (!dataTable) return;\n",
              "\n",
              "        const docLinkHtml = 'Like what you see? Visit the ' +\n",
              "          '<a target=\"_blank\" href=https://colab.research.google.com/notebooks/data_table.ipynb>data table notebook</a>'\n",
              "          + ' to learn more about interactive tables.';\n",
              "        element.innerHTML = '';\n",
              "        dataTable['output_type'] = 'display_data';\n",
              "        await google.colab.output.renderOutput(dataTable, element);\n",
              "        const docLink = document.createElement('div');\n",
              "        docLink.innerHTML = docLinkHtml;\n",
              "        element.appendChild(docLink);\n",
              "      }\n",
              "    </script>\n",
              "  </div>\n",
              "\n",
              "\n",
              "    <div id=\"df-627bb09e-aec0-4c84-91d7-a1dd5fb963f2\">\n",
              "      <button class=\"colab-df-quickchart\" onclick=\"quickchart('df-627bb09e-aec0-4c84-91d7-a1dd5fb963f2')\"\n",
              "                title=\"Suggest charts\"\n",
              "                style=\"display:none;\">\n",
              "\n",
              "<svg xmlns=\"http://www.w3.org/2000/svg\" height=\"24px\"viewBox=\"0 0 24 24\"\n",
              "     width=\"24px\">\n",
              "    <g>\n",
              "        <path d=\"M19 3H5c-1.1 0-2 .9-2 2v14c0 1.1.9 2 2 2h14c1.1 0 2-.9 2-2V5c0-1.1-.9-2-2-2zM9 17H7v-7h2v7zm4 0h-2V7h2v10zm4 0h-2v-4h2v4z\"/>\n",
              "    </g>\n",
              "</svg>\n",
              "      </button>\n",
              "\n",
              "<style>\n",
              "  .colab-df-quickchart {\n",
              "      --bg-color: #E8F0FE;\n",
              "      --fill-color: #1967D2;\n",
              "      --hover-bg-color: #E2EBFA;\n",
              "      --hover-fill-color: #174EA6;\n",
              "      --disabled-fill-color: #AAA;\n",
              "      --disabled-bg-color: #DDD;\n",
              "  }\n",
              "\n",
              "  [theme=dark] .colab-df-quickchart {\n",
              "      --bg-color: #3B4455;\n",
              "      --fill-color: #D2E3FC;\n",
              "      --hover-bg-color: #434B5C;\n",
              "      --hover-fill-color: #FFFFFF;\n",
              "      --disabled-bg-color: #3B4455;\n",
              "      --disabled-fill-color: #666;\n",
              "  }\n",
              "\n",
              "  .colab-df-quickchart {\n",
              "    background-color: var(--bg-color);\n",
              "    border: none;\n",
              "    border-radius: 50%;\n",
              "    cursor: pointer;\n",
              "    display: none;\n",
              "    fill: var(--fill-color);\n",
              "    height: 32px;\n",
              "    padding: 0;\n",
              "    width: 32px;\n",
              "  }\n",
              "\n",
              "  .colab-df-quickchart:hover {\n",
              "    background-color: var(--hover-bg-color);\n",
              "    box-shadow: 0 1px 2px rgba(60, 64, 67, 0.3), 0 1px 3px 1px rgba(60, 64, 67, 0.15);\n",
              "    fill: var(--button-hover-fill-color);\n",
              "  }\n",
              "\n",
              "  .colab-df-quickchart-complete:disabled,\n",
              "  .colab-df-quickchart-complete:disabled:hover {\n",
              "    background-color: var(--disabled-bg-color);\n",
              "    fill: var(--disabled-fill-color);\n",
              "    box-shadow: none;\n",
              "  }\n",
              "\n",
              "  .colab-df-spinner {\n",
              "    border: 2px solid var(--fill-color);\n",
              "    border-color: transparent;\n",
              "    border-bottom-color: var(--fill-color);\n",
              "    animation:\n",
              "      spin 1s steps(1) infinite;\n",
              "  }\n",
              "\n",
              "  @keyframes spin {\n",
              "    0% {\n",
              "      border-color: transparent;\n",
              "      border-bottom-color: var(--fill-color);\n",
              "      border-left-color: var(--fill-color);\n",
              "    }\n",
              "    20% {\n",
              "      border-color: transparent;\n",
              "      border-left-color: var(--fill-color);\n",
              "      border-top-color: var(--fill-color);\n",
              "    }\n",
              "    30% {\n",
              "      border-color: transparent;\n",
              "      border-left-color: var(--fill-color);\n",
              "      border-top-color: var(--fill-color);\n",
              "      border-right-color: var(--fill-color);\n",
              "    }\n",
              "    40% {\n",
              "      border-color: transparent;\n",
              "      border-right-color: var(--fill-color);\n",
              "      border-top-color: var(--fill-color);\n",
              "    }\n",
              "    60% {\n",
              "      border-color: transparent;\n",
              "      border-right-color: var(--fill-color);\n",
              "    }\n",
              "    80% {\n",
              "      border-color: transparent;\n",
              "      border-right-color: var(--fill-color);\n",
              "      border-bottom-color: var(--fill-color);\n",
              "    }\n",
              "    90% {\n",
              "      border-color: transparent;\n",
              "      border-bottom-color: var(--fill-color);\n",
              "    }\n",
              "  }\n",
              "</style>\n",
              "\n",
              "      <script>\n",
              "        async function quickchart(key) {\n",
              "          const quickchartButtonEl =\n",
              "            document.querySelector('#' + key + ' button');\n",
              "          quickchartButtonEl.disabled = true;  // To prevent multiple clicks.\n",
              "          quickchartButtonEl.classList.add('colab-df-spinner');\n",
              "          try {\n",
              "            const charts = await google.colab.kernel.invokeFunction(\n",
              "                'suggestCharts', [key], {});\n",
              "          } catch (error) {\n",
              "            console.error('Error during call to suggestCharts:', error);\n",
              "          }\n",
              "          quickchartButtonEl.classList.remove('colab-df-spinner');\n",
              "          quickchartButtonEl.classList.add('colab-df-quickchart-complete');\n",
              "        }\n",
              "        (() => {\n",
              "          let quickchartButtonEl =\n",
              "            document.querySelector('#df-627bb09e-aec0-4c84-91d7-a1dd5fb963f2 button');\n",
              "          quickchartButtonEl.style.display =\n",
              "            google.colab.kernel.accessAllowed ? 'block' : 'none';\n",
              "        })();\n",
              "      </script>\n",
              "    </div>\n",
              "\n",
              "    </div>\n",
              "  </div>\n"
            ],
            "application/vnd.google.colaboratory.intrinsic+json": {
              "type": "dataframe",
              "variable_name": "df"
            }
          },
          "metadata": {},
          "execution_count": 12
        }
      ],
      "execution_count": 12
    },
    {
      "cell_type": "code",
      "source": [
        "def get_mask(img_id, df):\n",
        "    shape = (768,768)\n",
        "    img = np.zeros(shape[0]*shape[1], dtype=np.uint8)\n",
        "    masks = df.loc[img_id]['EncodedPixels']\n",
        "    if(type(masks) == float): return img.reshape(shape)\n",
        "    if(type(masks) == str): masks = [masks]\n",
        "    for mask in masks:\n",
        "        s = mask.split()\n",
        "        for i in range(len(s)//2):\n",
        "            start = int(s[2*i]) - 1\n",
        "            length = int(s[2*i+1])\n",
        "            img[start:start+length] = 1\n",
        "    return img.reshape(shape).T\n",
        "\n",
        "def load_img(path):\n",
        "    img = cv2.imread(path, cv2.IMREAD_COLOR)  # read as BGR by default\n",
        "    if img is None:\n",
        "        raise ValueError(f\"Image at {path} could not be loaded.\")\n",
        "    img = cv2.cvtColor(img, cv2.COLOR_BGR2RGB)  # convert to RGB\n",
        "\n",
        "    img = img.astype('float32')  # convert from uint8 to float32\n",
        "    mx = np.max(img)\n",
        "    if mx:\n",
        "        img /= mx  # scale to [0, 1]\n",
        "    return img\n",
        "\n",
        "def load_msk(path):\n",
        "    msk = np.load(path)\n",
        "    msk = msk.astype('float32')\n",
        "    msk/=255.0\n",
        "    return msk\n",
        "\n",
        "\n",
        "def show_img(img, mask=None):\n",
        "    clahe = cv2.createCLAHE(clipLimit=2.0, tileGridSize=(8,8))\n",
        "#     img = clahe.apply(img)\n",
        "#     plt.figure(figsize=(10,10))\n",
        "    plt.imshow(img, cmap='bone')\n",
        "\n",
        "    if mask is not None:\n",
        "        # plt.imshow(np.ma.masked_where(mask!=1, mask), alpha=0.5, cmap='autumn')\n",
        "        plt.imshow(mask, alpha=0.5)\n",
        "        handles = [Rectangle((0,0),1,1, color=_c) for _c in [(0.667,0.0,0.0), (0.0,0.667,0.0), (0.0,0.0,0.667)]]\n",
        "        labels = [\"ship\"]\n",
        "        plt.legend(handles,labels)\n",
        "    plt.axis('off')"
      ],
      "metadata": {
        "trusted": true,
        "execution": {
          "iopub.status.busy": "2025-07-10T08:47:02.111521Z",
          "iopub.execute_input": "2025-07-10T08:47:02.111755Z",
          "iopub.status.idle": "2025-07-10T08:47:02.119723Z",
          "shell.execute_reply.started": "2025-07-10T08:47:02.111737Z",
          "shell.execute_reply": "2025-07-10T08:47:02.118903Z"
        },
        "id": "AJ2xPF3t5z6h"
      },
      "outputs": [],
      "execution_count": 13
    },
    {
      "cell_type": "code",
      "source": [
        "# ref: https://www.kaggle.com/paulorzp/run-length-encode-and-decode\n",
        "def rle_decode(mask_rle, shape):\n",
        "    '''\n",
        "    mask_rle: run-length as string formated (start length)\n",
        "    shape: (height,width) of array to return\n",
        "    Returns numpy array, 1 - mask, 0 - background\n",
        "\n",
        "    '''\n",
        "    s = mask_rle.split()\n",
        "    starts, lengths = [np.asarray(x, dtype=int) for x in (s[0:][::2], s[1:][::2])]\n",
        "    starts -= 1\n",
        "    ends = starts + lengths\n",
        "    img = np.zeros(shape[0]*shape[1], dtype=np.uint8)\n",
        "    for lo, hi in zip(starts, ends):\n",
        "        img[lo:hi] = 1\n",
        "    return img.reshape(shape)  # Needed to align to RLE direction\n",
        "\n",
        "\n",
        "# ref.: https://www.kaggle.com/stainsby/fast-tested-rle\n",
        "def rle_encode(img):\n",
        "    '''\n",
        "    img: numpy array, 1 - mask, 0 - background\n",
        "    Returns run length as string formated\n",
        "    '''\n",
        "    pixels = img.flatten()\n",
        "    pixels = np.concatenate([[0], pixels, [0]])\n",
        "    runs = np.where(pixels[1:] != pixels[:-1])[0] + 1\n",
        "    runs[1::2] -= runs[::2]\n",
        "    return ' '.join(str(x) for x in runs)"
      ],
      "metadata": {
        "trusted": true,
        "execution": {
          "iopub.status.busy": "2025-07-10T08:47:02.120629Z",
          "iopub.execute_input": "2025-07-10T08:47:02.120871Z",
          "iopub.status.idle": "2025-07-10T08:47:02.135618Z",
          "shell.execute_reply.started": "2025-07-10T08:47:02.120835Z",
          "shell.execute_reply": "2025-07-10T08:47:02.134944Z"
        },
        "id": "EA2NSDKn5z6i"
      },
      "outputs": [],
      "execution_count": 14
    },
    {
      "cell_type": "code",
      "source": [
        "skf = StratifiedKFold(n_splits=CFG.n_fold, shuffle=True, random_state=CFG.seed)\n",
        "for fold, (train_idx, val_idx) in enumerate(skf.split(df, y=df['empty'])):\n",
        "    df.loc[val_idx, 'fold'] = fold\n",
        "display(df.groupby(['fold','empty'])['ImageId'].count())"
      ],
      "metadata": {
        "trusted": true,
        "execution": {
          "iopub.status.busy": "2025-07-10T08:47:02.136329Z",
          "iopub.execute_input": "2025-07-10T08:47:02.136523Z",
          "iopub.status.idle": "2025-07-10T08:47:02.221627Z",
          "shell.execute_reply.started": "2025-07-10T08:47:02.136507Z",
          "shell.execute_reply": "2025-07-10T08:47:02.220888Z"
        },
        "id": "u5VITrj95z6i",
        "colab": {
          "base_uri": "https://localhost:8080/",
          "height": 429
        },
        "outputId": "c7cad8ee-5d14-4db0-b66d-2063cabaadb0"
      },
      "outputs": [
        {
          "output_type": "display_data",
          "data": {
            "text/plain": [
              "fold  empty\n",
              "0.0   False    16345\n",
              "      True     30000\n",
              "1.0   False    16345\n",
              "      True     30000\n",
              "2.0   False    16345\n",
              "      True     30000\n",
              "3.0   False    16344\n",
              "      True     30000\n",
              "4.0   False    16344\n",
              "      True     30000\n",
              "Name: ImageId, dtype: int64"
            ],
            "text/html": [
              "<div>\n",
              "<style scoped>\n",
              "    .dataframe tbody tr th:only-of-type {\n",
              "        vertical-align: middle;\n",
              "    }\n",
              "\n",
              "    .dataframe tbody tr th {\n",
              "        vertical-align: top;\n",
              "    }\n",
              "\n",
              "    .dataframe thead th {\n",
              "        text-align: right;\n",
              "    }\n",
              "</style>\n",
              "<table border=\"1\" class=\"dataframe\">\n",
              "  <thead>\n",
              "    <tr style=\"text-align: right;\">\n",
              "      <th></th>\n",
              "      <th></th>\n",
              "      <th>ImageId</th>\n",
              "    </tr>\n",
              "    <tr>\n",
              "      <th>fold</th>\n",
              "      <th>empty</th>\n",
              "      <th></th>\n",
              "    </tr>\n",
              "  </thead>\n",
              "  <tbody>\n",
              "    <tr>\n",
              "      <th rowspan=\"2\" valign=\"top\">0.0</th>\n",
              "      <th>False</th>\n",
              "      <td>16345</td>\n",
              "    </tr>\n",
              "    <tr>\n",
              "      <th>True</th>\n",
              "      <td>30000</td>\n",
              "    </tr>\n",
              "    <tr>\n",
              "      <th rowspan=\"2\" valign=\"top\">1.0</th>\n",
              "      <th>False</th>\n",
              "      <td>16345</td>\n",
              "    </tr>\n",
              "    <tr>\n",
              "      <th>True</th>\n",
              "      <td>30000</td>\n",
              "    </tr>\n",
              "    <tr>\n",
              "      <th rowspan=\"2\" valign=\"top\">2.0</th>\n",
              "      <th>False</th>\n",
              "      <td>16345</td>\n",
              "    </tr>\n",
              "    <tr>\n",
              "      <th>True</th>\n",
              "      <td>30000</td>\n",
              "    </tr>\n",
              "    <tr>\n",
              "      <th rowspan=\"2\" valign=\"top\">3.0</th>\n",
              "      <th>False</th>\n",
              "      <td>16344</td>\n",
              "    </tr>\n",
              "    <tr>\n",
              "      <th>True</th>\n",
              "      <td>30000</td>\n",
              "    </tr>\n",
              "    <tr>\n",
              "      <th rowspan=\"2\" valign=\"top\">4.0</th>\n",
              "      <th>False</th>\n",
              "      <td>16344</td>\n",
              "    </tr>\n",
              "    <tr>\n",
              "      <th>True</th>\n",
              "      <td>30000</td>\n",
              "    </tr>\n",
              "  </tbody>\n",
              "</table>\n",
              "</div><br><label><b>dtype:</b> int64</label>"
            ]
          },
          "metadata": {}
        }
      ],
      "execution_count": 15
    },
    {
      "cell_type": "code",
      "source": [
        "def get_mask(img_id, df):\n",
        "    df = df.set_index('ImageId')\n",
        "    shape = (768,768)\n",
        "    img = np.zeros(shape[0]*shape[1], dtype=np.uint8)\n",
        "    masks = df.loc[img_id]['EncodedPixels']\n",
        "    if(type(masks) == float): return img.reshape(shape)\n",
        "    if(type(masks) == str): masks = [masks]\n",
        "    for mask in masks:\n",
        "        s = mask.split()\n",
        "        for i in range(len(s)//2):\n",
        "            start = int(s[2*i]) - 1\n",
        "            length = int(s[2*i+1])\n",
        "            img[start:start+length] = 1\n",
        "    return img.reshape(shape).T"
      ],
      "metadata": {
        "trusted": true,
        "execution": {
          "iopub.status.busy": "2025-07-10T08:47:02.222942Z",
          "iopub.execute_input": "2025-07-10T08:47:02.223197Z",
          "iopub.status.idle": "2025-07-10T08:47:02.228661Z",
          "shell.execute_reply.started": "2025-07-10T08:47:02.223179Z",
          "shell.execute_reply": "2025-07-10T08:47:02.227739Z"
        },
        "id": "SlRGCrOU5z6i"
      },
      "outputs": [],
      "execution_count": 16
    },
    {
      "cell_type": "code",
      "source": [
        "class BuildDataset(torch.utils.data.Dataset):\n",
        "    def __init__(self, df, transforms=None):\n",
        "        self.df         = df\n",
        "        self.ImageId  = df['ImageId'].tolist()\n",
        "        self.transforms = transforms\n",
        "\n",
        "    def __len__(self):\n",
        "        return len(self.df)\n",
        "\n",
        "    def __getitem__(self, index):\n",
        "        img_id  = self.ImageId[index]\n",
        "        img_path = os.path.join(os.path.join(BASE_PATH, 'train_v2', img_id))\n",
        "        img = []\n",
        "        img = load_img(img_path)\n",
        "\n",
        "        msk = get_mask(img_id, self.df)\n",
        "        if self.transforms:\n",
        "            data = self.transforms(image=img, mask=msk)\n",
        "            img  = data['image']\n",
        "            msk  = data['mask']\n",
        "        img = np.transpose(img, (2, 0, 1))\n",
        "        return torch.tensor(img, dtype=torch.float32), torch.tensor(msk, dtype=torch.float32)"
      ],
      "metadata": {
        "trusted": true,
        "execution": {
          "iopub.status.busy": "2025-07-10T08:47:02.965939Z",
          "iopub.execute_input": "2025-07-10T08:47:02.966221Z",
          "iopub.status.idle": "2025-07-10T08:47:02.971708Z",
          "shell.execute_reply.started": "2025-07-10T08:47:02.966202Z",
          "shell.execute_reply": "2025-07-10T08:47:02.971009Z"
        },
        "id": "rU1IXRTB5z6j"
      },
      "outputs": [],
      "execution_count": 17
    },
    {
      "cell_type": "code",
      "source": [
        "data_transforms = {\n",
        "    \"train\": A.Compose([\n",
        "        A.Resize(*CFG.img_size, interpolation=cv2.INTER_NEAREST),\n",
        "#         A.HorizontalFlip(p=0.5),\n",
        "# #         A.VerticalFlip(p=0.5),\n",
        "#         A.ShiftScaleRotate(shift_limit=0.0625, scale_limit=0.05, rotate_limit=10, p=0.5),\n",
        "#         A.OneOf([\n",
        "#             A.GridDistortion(num_steps=5, distort_limit=0.05, p=1.0),\n",
        "# # #             A.OpticalDistortion(distort_limit=0.05, shift_limit=0.05, p=1.0),\n",
        "#             A.ElasticTransform(alpha=1, sigma=50, alpha_affine=50, p=1.0)\n",
        "#         ], p=0.25),\n",
        "#         A.CoarseDropout(max_holes=8, max_height=CFG.img_size[0]//20, max_width=CFG.img_size[1]//20,\n",
        "#                          min_holes=5, fill_value=0, mask_fill_value=0, p=0.5),\n",
        "        ], p=1.0),\n",
        "\n",
        "    \"valid\": A.Compose([\n",
        "        A.Resize(*CFG.img_size, interpolation=cv2.INTER_NEAREST),\n",
        "        ], p=1.0)\n",
        "}"
      ],
      "metadata": {
        "trusted": true,
        "execution": {
          "iopub.status.busy": "2025-07-10T08:47:04.12709Z",
          "iopub.execute_input": "2025-07-10T08:47:04.127367Z",
          "iopub.status.idle": "2025-07-10T08:47:04.134199Z",
          "shell.execute_reply.started": "2025-07-10T08:47:04.127347Z",
          "shell.execute_reply": "2025-07-10T08:47:04.133364Z"
        },
        "id": "1k7iWvyg5z6j"
      },
      "outputs": [],
      "execution_count": 18
    },
    {
      "cell_type": "code",
      "source": [
        "def prepare_loaders(fold, debug=False):\n",
        "    train_df = df.query(\"fold!=@fold\").reset_index(drop=True)\n",
        "    valid_df = df.query(\"fold==@fold\").reset_index(drop=True)\n",
        "    if debug:\n",
        "        train_df = train_df.head(32*5).query(\"empty==0\")\n",
        "        valid_df = valid_df.head(32*3).query(\"empty==0\")\n",
        "    train_dataset = BuildDataset(train_df, transforms=data_transforms['train'])\n",
        "    valid_dataset = BuildDataset(valid_df, transforms=data_transforms['valid'])\n",
        "\n",
        "    train_loader = DataLoader(train_dataset, batch_size=CFG.train_bs if not debug else 20,\n",
        "                              num_workers=4, shuffle=True, pin_memory=True, drop_last=False)\n",
        "    valid_loader = DataLoader(valid_dataset, batch_size=CFG.valid_bs if not debug else 20,\n",
        "                              num_workers=4, shuffle=False, pin_memory=True)\n",
        "\n",
        "    return train_loader, valid_loader"
      ],
      "metadata": {
        "trusted": true,
        "execution": {
          "iopub.status.busy": "2025-07-10T08:47:05.498335Z",
          "iopub.execute_input": "2025-07-10T08:47:05.498936Z",
          "iopub.status.idle": "2025-07-10T08:47:05.504008Z",
          "shell.execute_reply.started": "2025-07-10T08:47:05.49891Z",
          "shell.execute_reply": "2025-07-10T08:47:05.50325Z"
        },
        "id": "XCNNbKXo5z6j"
      },
      "outputs": [],
      "execution_count": 19
    },
    {
      "cell_type": "code",
      "source": [
        "def plot_batch(imgs, msks, size=3):\n",
        "    plt.figure(figsize=(5*5, 5))\n",
        "    for idx in range(size):\n",
        "        plt.subplot(1, 5, idx+1)\n",
        "        img = imgs[idx,].permute((1, 2, 0)).numpy()*255.0\n",
        "        img = img.astype('uint8')\n",
        "        msk = msks[idx,].numpy()*255.0\n",
        "        show_img(img, msk)\n",
        "    plt.tight_layout()\n",
        "    plt.show()"
      ],
      "metadata": {
        "trusted": true,
        "execution": {
          "iopub.status.busy": "2025-07-10T08:47:24.569309Z",
          "iopub.execute_input": "2025-07-10T08:47:24.569998Z",
          "iopub.status.idle": "2025-07-10T08:47:24.574968Z",
          "shell.execute_reply.started": "2025-07-10T08:47:24.569964Z",
          "shell.execute_reply": "2025-07-10T08:47:24.574114Z"
        },
        "id": "Q2CdqyIC5z6k"
      },
      "outputs": [],
      "execution_count": 20
    },
    {
      "cell_type": "code",
      "source": [
        "import segmentation_models_pytorch as smp\n",
        "\n",
        "def build_model():\n",
        "    model = smp.Unet(\n",
        "        encoder_name=CFG.backbone,      # choose encoder, e.g. mobilenet_v2 or efficientnet-b7\n",
        "        encoder_weights=\"imagenet\",     # use `imagenet` pre-trained weights for encoder initialization\n",
        "        in_channels=3,                  # model input channels (1 for gray-scale images, 3 for RGB, etc.)\n",
        "        classes=CFG.num_classes,        # model output channels (number of classes in your dataset)\n",
        "        activation=None,\n",
        "    )\n",
        "    model.to(CFG.device)\n",
        "    return model\n",
        "\n",
        "def load_model(path):\n",
        "    model = build_model()\n",
        "    model.load_state_dict(torch.load(path))\n",
        "    model.eval()\n",
        "    return model"
      ],
      "metadata": {
        "trusted": true,
        "execution": {
          "iopub.status.busy": "2025-07-10T08:47:36.107361Z",
          "iopub.execute_input": "2025-07-10T08:47:36.107664Z",
          "iopub.status.idle": "2025-07-10T08:47:36.15166Z",
          "shell.execute_reply.started": "2025-07-10T08:47:36.10764Z",
          "shell.execute_reply": "2025-07-10T08:47:36.151122Z"
        },
        "id": "5vdbjeKe5z6k"
      },
      "outputs": [],
      "execution_count": 22
    },
    {
      "cell_type": "code",
      "source": [
        "JaccardLoss = smp.losses.JaccardLoss(mode='binary')\n",
        "DiceLoss    = smp.losses.DiceLoss(mode='binary')\n",
        "BCELoss     = smp.losses.SoftBCEWithLogitsLoss()\n",
        "LovaszLoss  = smp.losses.LovaszLoss(mode='binary', per_image=False)\n",
        "TverskyLoss = smp.losses.TverskyLoss(mode='binary', log_loss=False)\n",
        "\n",
        "def dice_coef(y_true, y_pred, thr=0.5, dim=(2,3), epsilon=0.001):\n",
        "    y_true = y_true.unsqueeze(1)\n",
        "    y_true = y_true.to(torch.float32)\n",
        "    y_pred = (y_pred>thr).to(torch.float32)\n",
        "    inter = (y_true*y_pred).sum(dim=dim)\n",
        "    den = y_true.sum(dim=dim) + y_pred.sum(dim=dim)\n",
        "    dice = ((2*inter+epsilon)/(den+epsilon)).mean(dim=(1,0))\n",
        "    return dice\n",
        "\n",
        "def iou_coef(y_true, y_pred, thr=0.5, dim=(2,3), epsilon=0.001):\n",
        "    y_true = y_true.unsqueeze(1)\n",
        "    y_true = y_true.to(torch.float32)\n",
        "    y_pred = (y_pred>thr).to(torch.float32)\n",
        "    inter = (y_true*y_pred).sum(dim=dim)\n",
        "    union = (y_true + y_pred - y_true*y_pred).sum(dim=dim)\n",
        "    iou = ((inter+epsilon)/(union+epsilon)).mean(dim=(1,0))\n",
        "    return iou\n",
        "\n",
        "def criterion(y_pred, y_true):\n",
        "    y_true = y_true.unsqueeze(1)\n",
        "    return 0.5*BCELoss(y_pred, y_true) + 0.5*TverskyLoss(y_pred, y_true)\n",
        "\n",
        "def dice_per_class(y_true, y_pred, smooth=1e-6):\n",
        "    \"\"\"\n",
        "    y_true, y_pred: tensors with shape (B, 1, H, W)\n",
        "    Assumes binary mask: 0 (background), 1 (object)\n",
        "    \"\"\"\n",
        "    y_true = y_true.view(-1)\n",
        "    y_pred = y_pred.view(-1)\n",
        "\n",
        "    # Foreground mask (label == 1)\n",
        "    intersection_fg = (y_true * y_pred).sum()\n",
        "    dice_fg = (2. * intersection_fg + smooth) / (y_true.sum() + y_pred.sum() + smooth)\n",
        "\n",
        "    # Background mask (label == 0)\n",
        "    y_true_bg = 1 - y_true\n",
        "    y_pred_bg = 1 - y_pred\n",
        "    intersection_bg = (y_true_bg * y_pred_bg).sum()\n",
        "    dice_bg = (2. * intersection_bg + smooth) / (y_true_bg.sum() + y_pred_bg.sum() + smooth)\n",
        "\n",
        "    return dice_bg, dice_fg"
      ],
      "metadata": {
        "trusted": true,
        "execution": {
          "iopub.status.busy": "2025-07-10T08:58:21.791171Z",
          "iopub.execute_input": "2025-07-10T08:58:21.791955Z",
          "iopub.status.idle": "2025-07-10T08:58:21.801414Z",
          "shell.execute_reply.started": "2025-07-10T08:58:21.791924Z",
          "shell.execute_reply": "2025-07-10T08:58:21.800628Z"
        },
        "id": "o7Y9ejjU5z6k"
      },
      "outputs": [],
      "execution_count": 23
    },
    {
      "cell_type": "code",
      "source": [
        "def train_one_epoch(model, optimizer, scheduler, dataloader, device, epoch):\n",
        "    model.train()\n",
        "    scaler = amp.GradScaler()\n",
        "\n",
        "    dataset_size = 0\n",
        "    running_loss = 0.0\n",
        "\n",
        "    pbar = tqdm(enumerate(dataloader), total=len(dataloader), desc='Train ')\n",
        "    for step, (images, masks) in pbar:\n",
        "        images = images.to(device, dtype=torch.float)\n",
        "        masks  = masks.to(device, dtype=torch.float)\n",
        "\n",
        "        batch_size = images.size(0)\n",
        "\n",
        "        with amp.autocast(enabled=True):\n",
        "            y_pred = model(images)\n",
        "            loss   = criterion(y_pred, masks)\n",
        "            loss   = loss / CFG.n_accumulate\n",
        "\n",
        "        scaler.scale(loss).backward()\n",
        "\n",
        "        if (step + 1) % CFG.n_accumulate == 0:\n",
        "            scaler.step(optimizer)\n",
        "            scaler.update()\n",
        "\n",
        "            # zero the parameter gradients\n",
        "            optimizer.zero_grad()\n",
        "\n",
        "            if scheduler is not None:\n",
        "                scheduler.step()\n",
        "\n",
        "        running_loss += (loss.item() * batch_size)\n",
        "        dataset_size += batch_size\n",
        "\n",
        "        epoch_loss = running_loss / dataset_size\n",
        "\n",
        "        mem = torch.cuda.memory_reserved() / 1E9 if torch.cuda.is_available() else 0\n",
        "        current_lr = optimizer.param_groups[0]['lr']\n",
        "        pbar.set_postfix(train_loss=f'{epoch_loss:0.4f}',\n",
        "                        lr=f'{current_lr:0.5f}',\n",
        "                        gpu_mem=f'{mem:0.2f} GB')\n",
        "    torch.cuda.empty_cache()\n",
        "    gc.collect()\n",
        "\n",
        "    return epoch_loss"
      ],
      "metadata": {
        "trusted": true,
        "execution": {
          "iopub.status.busy": "2025-07-10T08:52:12.547071Z",
          "iopub.execute_input": "2025-07-10T08:52:12.547352Z",
          "iopub.status.idle": "2025-07-10T08:52:12.554646Z",
          "shell.execute_reply.started": "2025-07-10T08:52:12.54733Z",
          "shell.execute_reply": "2025-07-10T08:52:12.554053Z"
        },
        "id": "TOA7vlXs5z6k"
      },
      "outputs": [],
      "execution_count": 24
    },
    {
      "cell_type": "code",
      "source": [
        "@torch.no_grad()\n",
        "def valid_one_epoch(model, dataloader, device, epoch):\n",
        "    model.eval()\n",
        "    dataset_size = 0\n",
        "    running_loss = 0.0\n",
        "\n",
        "    val_scores = []\n",
        "\n",
        "    pbar = tqdm(enumerate(dataloader), total=len(dataloader), desc='Valid ')\n",
        "    for step, (images, masks) in pbar:\n",
        "        images = images.to(device, dtype=torch.float)\n",
        "        masks = masks.to(device, dtype=torch.float)\n",
        "\n",
        "        batch_size = images.size(0)\n",
        "\n",
        "        y_pred = model(images)\n",
        "        loss = criterion(y_pred, masks)\n",
        "\n",
        "        running_loss += (loss.item() * batch_size)\n",
        "        dataset_size += batch_size\n",
        "        epoch_loss = running_loss / dataset_size\n",
        "\n",
        "        y_pred = torch.sigmoid(y_pred)\n",
        "\n",
        "        # Use your existing dice_per_class function\n",
        "        dice_bg, dice_fg = dice_per_class(masks, y_pred)\n",
        "\n",
        "        val_scores.append([dice_bg.item(), dice_fg.item()])\n",
        "\n",
        "        mem = torch.cuda.memory_reserved() / 1E9 if torch.cuda.is_available() else 0\n",
        "        current_lr = optimizer.param_groups[0]['lr']\n",
        "        pbar.set_postfix(valid_loss=f'{epoch_loss:0.4f}',\n",
        "                         lr=f'{current_lr:0.5f}',\n",
        "                         gpu_memory=f'{mem:0.2f} GB')\n",
        "\n",
        "    val_scores = np.mean(val_scores, axis=0)  # [mean_bg_dice, mean_fg_dice]\n",
        "    torch.cuda.empty_cache()\n",
        "    gc.collect()\n",
        "\n",
        "    return epoch_loss, val_scores\n"
      ],
      "metadata": {
        "trusted": true,
        "execution": {
          "iopub.status.busy": "2025-07-10T08:52:13.713515Z",
          "iopub.execute_input": "2025-07-10T08:52:13.713798Z",
          "iopub.status.idle": "2025-07-10T08:52:13.720622Z",
          "shell.execute_reply.started": "2025-07-10T08:52:13.713777Z",
          "shell.execute_reply": "2025-07-10T08:52:13.719697Z"
        },
        "id": "0egtJc6Y5z6k"
      },
      "outputs": [],
      "execution_count": 37
    },
    {
      "cell_type": "code",
      "source": [
        "def run_training(model, optimizer, scheduler, device, num_epochs):\n",
        "    if torch.cuda.is_available():\n",
        "        print(\"cuda: {}\\n\".format(torch.cuda.get_device_name()))\n",
        "\n",
        "    start = time.time()\n",
        "    best_model_wts = copy.deepcopy(model.state_dict())\n",
        "    best_fg_dice   = -np.inf\n",
        "    best_epoch     = -1\n",
        "    history = defaultdict(list)\n",
        "\n",
        "    for epoch in range(1, num_epochs + 1):\n",
        "        gc.collect()\n",
        "        print(f'Epoch {epoch}/{num_epochs}', end='')\n",
        "\n",
        "        train_loss = train_one_epoch(\n",
        "            model, optimizer, scheduler,\n",
        "            dataloader=train_loader,\n",
        "            device=CFG.device, epoch=epoch\n",
        "        )\n",
        "\n",
        "        val_loss, val_scores = valid_one_epoch(\n",
        "            model, valid_loader,\n",
        "            device=CFG.device,\n",
        "            epoch=epoch\n",
        "        )\n",
        "\n",
        "        val_bg_dice, val_fg_dice = val_scores\n",
        "\n",
        "        history['Train Loss'].append(train_loss)\n",
        "        history['Valid Loss'].append(val_loss)\n",
        "        history['Valid BG Dice'].append(val_bg_dice)\n",
        "        history['Valid FG Dice'].append(val_fg_dice)\n",
        "\n",
        "        # Log metrics\n",
        "        wandb.log({\n",
        "            \"Train Loss\": train_loss,\n",
        "            \"Valid Loss\": val_loss,\n",
        "            \"Valid BG Dice\": val_bg_dice,\n",
        "            \"Valid FG Dice\": val_fg_dice,\n",
        "            \"LR\": scheduler.get_last_lr()[0],\n",
        "        })\n",
        "\n",
        "        print(f' | Valid BG Dice: {val_bg_dice:0.4f} | Valid FG Dice: {val_fg_dice:0.4f}')\n",
        "\n",
        "        # Save best model based on foreground Dice\n",
        "        if val_fg_dice >= best_fg_dice:\n",
        "            print(f\"{c_}Valid FG Dice Improved ({best_fg_dice:0.4f} ---> {val_fg_dice:0.4f})\")\n",
        "            best_fg_dice = val_fg_dice\n",
        "            best_epoch   = epoch\n",
        "            run.summary[\"Best FG Dice\"] = best_fg_dice\n",
        "            run.summary[\"Best Epoch\"]   = best_epoch\n",
        "            best_model_wts = copy.deepcopy(model.state_dict())\n",
        "            PATH = f\"best_epoch-{fold:02d}.bin\"\n",
        "            torch.save(model.state_dict(), PATH)\n",
        "            wandb.save(PATH)\n",
        "            print(f\"Model Saved{sr_}\")\n",
        "\n",
        "        # Save last epoch weights\n",
        "        last_model_wts = copy.deepcopy(model.state_dict())\n",
        "        PATH = f\"last_epoch-{fold:02d}.bin\"\n",
        "        torch.save(model.state_dict(), PATH)\n",
        "\n",
        "        print(); print()\n",
        "\n",
        "    end = time.time()\n",
        "    time_elapsed = end - start\n",
        "    print('Training complete in {:.0f}h {:.0f}m {:.0f}s'.format(\n",
        "        time_elapsed // 3600, (time_elapsed % 3600) // 60, (time_elapsed % 3600) % 60))\n",
        "    print(\"Best FG Dice: {:.4f}\".format(best_fg_dice))\n",
        "\n",
        "    # Load best model weights\n",
        "    model.load_state_dict(best_model_wts)\n",
        "\n",
        "    return model, history\n"
      ],
      "metadata": {
        "trusted": true,
        "execution": {
          "iopub.status.busy": "2025-07-10T09:02:07.739668Z",
          "iopub.execute_input": "2025-07-10T09:02:07.740289Z",
          "iopub.status.idle": "2025-07-10T09:02:07.749567Z",
          "shell.execute_reply.started": "2025-07-10T09:02:07.740261Z",
          "shell.execute_reply": "2025-07-10T09:02:07.748907Z"
        },
        "id": "iJpHE7Ay5z6l"
      },
      "outputs": [],
      "execution_count": 39
    },
    {
      "cell_type": "code",
      "source": [
        "def fetch_scheduler(optimizer):\n",
        "    if CFG.scheduler == 'CosineAnnealingLR':\n",
        "        scheduler = lr_scheduler.CosineAnnealingLR(optimizer,T_max=CFG.T_max,\n",
        "                                                   eta_min=CFG.min_lr)\n",
        "    elif CFG.scheduler == 'CosineAnnealingWarmRestarts':\n",
        "        scheduler = lr_scheduler.CosineAnnealingWarmRestarts(optimizer,T_0=CFG.T_0,\n",
        "                                                             eta_min=CFG.min_lr)\n",
        "    elif CFG.scheduler == 'ReduceLROnPlateau':\n",
        "        scheduler = lr_scheduler.ReduceLROnPlateau(optimizer,\n",
        "                                                   mode='min',\n",
        "                                                   factor=0.1,\n",
        "                                                   patience=7,\n",
        "                                                   threshold=0.0001,\n",
        "                                                   min_lr=CFG.min_lr,)\n",
        "    elif CFG.scheduer == 'ExponentialLR':\n",
        "        scheduler = lr_scheduler.ExponentialLR(optimizer, gamma=0.85)\n",
        "    elif CFG.scheduler == None:\n",
        "        return None\n",
        "\n",
        "    return scheduler"
      ],
      "metadata": {
        "trusted": true,
        "execution": {
          "iopub.status.busy": "2025-07-10T09:02:09.202089Z",
          "iopub.execute_input": "2025-07-10T09:02:09.202337Z",
          "iopub.status.idle": "2025-07-10T09:02:09.20769Z",
          "shell.execute_reply.started": "2025-07-10T09:02:09.202322Z",
          "shell.execute_reply": "2025-07-10T09:02:09.20681Z"
        },
        "id": "CxwJ4Kpn5z6l"
      },
      "outputs": [],
      "execution_count": 40
    },
    {
      "cell_type": "code",
      "source": [
        "for fold in range(1):\n",
        "    print(f'#'*15)\n",
        "    print(f'### Fold: {fold}')\n",
        "    print(f'#'*15)\n",
        "    run = wandb.init(project='ship-detection',\n",
        "                     config={k:v for k, v in dict(vars(CFG)).items() if '__' not in k},\n",
        "                     anonymous=anonymous,\n",
        "                     name=f\"fold-{fold}|dim-{CFG.img_size[0]}x{CFG.img_size[1]}|model-{CFG.model_name}\",\n",
        "                     group=CFG.comment,\n",
        "                    )\n",
        "    train_loader, valid_loader = prepare_loaders(fold=fold, debug=CFG.debug)\n",
        "    model     = build_model()\n",
        "    optimizer = optim.Adam(model.parameters(), lr=CFG.lr, weight_decay=CFG.wd)\n",
        "    scheduler = fetch_scheduler(optimizer)\n",
        "    model, history = run_training(model, optimizer, scheduler,\n",
        "                                  device=CFG.device,\n",
        "                                  num_epochs=CFG.epochs)\n",
        "    run.finish()\n",
        "    display(ipd.IFrame(run.url, width=1000, height=720))"
      ],
      "metadata": {
        "trusted": true,
        "execution": {
          "iopub.status.busy": "2025-07-10T09:02:10.501341Z",
          "iopub.execute_input": "2025-07-10T09:02:10.501825Z",
          "iopub.status.idle": "2025-07-10T09:03:07.215872Z",
          "shell.execute_reply.started": "2025-07-10T09:02:10.501803Z",
          "shell.execute_reply": "2025-07-10T09:03:07.214906Z"
        },
        "id": "xqnlgfsK5z6l",
        "colab": {
          "base_uri": "https://localhost:8080/",
          "height": 1000
        },
        "outputId": "48e48ebf-2e50-45ae-8acc-93ad9bd3afaa"
      },
      "outputs": [
        {
          "output_type": "stream",
          "name": "stdout",
          "text": [
            "###############\n",
            "### Fold: 0\n",
            "###############\n"
          ]
        },
        {
          "output_type": "display_data",
          "data": {
            "text/plain": [
              "<IPython.core.display.HTML object>"
            ],
            "text/html": [
              "Finishing previous runs because reinit is set to 'default'."
            ]
          },
          "metadata": {}
        },
        {
          "output_type": "display_data",
          "data": {
            "text/plain": [
              "<IPython.core.display.HTML object>"
            ],
            "text/html": []
          },
          "metadata": {}
        },
        {
          "output_type": "display_data",
          "data": {
            "text/plain": [
              "<IPython.core.display.HTML object>"
            ],
            "text/html": [
              " View run <strong style=\"color:#cdcd00\">fold-0|dim-224x224|model-Unet</strong> at: <a href='https://wandb.ai/skj092/ship-detection/runs/f60tp4d2' target=\"_blank\">https://wandb.ai/skj092/ship-detection/runs/f60tp4d2</a><br> View project at: <a href='https://wandb.ai/skj092/ship-detection' target=\"_blank\">https://wandb.ai/skj092/ship-detection</a><br>Synced 5 W&B file(s), 0 media file(s), 0 artifact file(s) and 0 other file(s)"
            ]
          },
          "metadata": {}
        },
        {
          "output_type": "display_data",
          "data": {
            "text/plain": [
              "<IPython.core.display.HTML object>"
            ],
            "text/html": [
              "Find logs at: <code>./wandb/run-20250710_111211-f60tp4d2/logs</code>"
            ]
          },
          "metadata": {}
        },
        {
          "output_type": "display_data",
          "data": {
            "text/plain": [
              "<IPython.core.display.HTML object>"
            ],
            "text/html": [
              "Tracking run with wandb version 0.21.0"
            ]
          },
          "metadata": {}
        },
        {
          "output_type": "display_data",
          "data": {
            "text/plain": [
              "<IPython.core.display.HTML object>"
            ],
            "text/html": [
              "Run data is saved locally in <code>/content/wandb/run-20250710_111503-kj85e4xt</code>"
            ]
          },
          "metadata": {}
        },
        {
          "output_type": "display_data",
          "data": {
            "text/plain": [
              "<IPython.core.display.HTML object>"
            ],
            "text/html": [
              "Syncing run <strong><a href='https://wandb.ai/skj092/ship-detection/runs/kj85e4xt' target=\"_blank\">fold-0|dim-224x224|model-Unet</a></strong> to <a href='https://wandb.ai/skj092/ship-detection' target=\"_blank\">Weights & Biases</a> (<a href='https://wandb.me/developer-guide' target=\"_blank\">docs</a>)<br>"
            ]
          },
          "metadata": {}
        },
        {
          "output_type": "display_data",
          "data": {
            "text/plain": [
              "<IPython.core.display.HTML object>"
            ],
            "text/html": [
              " View project at <a href='https://wandb.ai/skj092/ship-detection' target=\"_blank\">https://wandb.ai/skj092/ship-detection</a>"
            ]
          },
          "metadata": {}
        },
        {
          "output_type": "display_data",
          "data": {
            "text/plain": [
              "<IPython.core.display.HTML object>"
            ],
            "text/html": [
              " View run at <a href='https://wandb.ai/skj092/ship-detection/runs/kj85e4xt' target=\"_blank\">https://wandb.ai/skj092/ship-detection/runs/kj85e4xt</a>"
            ]
          },
          "metadata": {}
        },
        {
          "output_type": "stream",
          "name": "stdout",
          "text": [
            "cuda: Tesla T4\n",
            "\n",
            "Epoch 1/15"
          ]
        },
        {
          "output_type": "stream",
          "name": "stderr",
          "text": [
            "Train : 100%|██████████| 3/3 [00:01<00:00,  1.60it/s, gpu_mem=2.20 GB, lr=0.00200, train_loss=0.8666]\n",
            "Valid : 100%|██████████| 2/2 [00:00<00:00,  2.81it/s, gpu_memory=0.96 GB, lr=0.00200, valid_loss=4.5401]\n"
          ]
        },
        {
          "output_type": "stream",
          "name": "stdout",
          "text": [
            " | Valid BG Dice: 0.0515 | Valid FG Dice: 0.0056\n",
            "\u001b[32mValid FG Dice Improved (-inf ---> 0.0056)\n",
            "Model Saved\u001b[0m\n",
            "\n",
            "\n",
            "Epoch 2/15"
          ]
        },
        {
          "output_type": "stream",
          "name": "stderr",
          "text": [
            "Train : 100%|██████████| 3/3 [00:01<00:00,  2.34it/s, gpu_mem=2.23 GB, lr=0.00200, train_loss=0.7506]\n",
            "Valid : 100%|██████████| 2/2 [00:00<00:00,  3.69it/s, gpu_memory=0.96 GB, lr=0.00200, valid_loss=2.3948]\n"
          ]
        },
        {
          "output_type": "stream",
          "name": "stdout",
          "text": [
            " | Valid BG Dice: 0.4297 | Valid FG Dice: 0.0074\n",
            "\u001b[32mValid FG Dice Improved (0.0056 ---> 0.0074)\n",
            "Model Saved\u001b[0m\n",
            "\n",
            "\n",
            "Epoch 3/15"
          ]
        },
        {
          "output_type": "stream",
          "name": "stderr",
          "text": [
            "Train : 100%|██████████| 3/3 [00:01<00:00,  2.30it/s, gpu_mem=2.22 GB, lr=0.00200, train_loss=0.6765]\n",
            "Valid : 100%|██████████| 2/2 [00:00<00:00,  3.63it/s, gpu_memory=0.99 GB, lr=0.00200, valid_loss=1.8569]\n"
          ]
        },
        {
          "output_type": "stream",
          "name": "stdout",
          "text": [
            " | Valid BG Dice: 0.6386 | Valid FG Dice: 0.0100\n",
            "\u001b[32mValid FG Dice Improved (0.0074 ---> 0.0100)\n",
            "Model Saved\u001b[0m\n",
            "\n",
            "\n",
            "Epoch 4/15"
          ]
        },
        {
          "output_type": "stream",
          "name": "stderr",
          "text": [
            "Train : 100%|██████████| 3/3 [00:01<00:00,  2.42it/s, gpu_mem=2.24 GB, lr=0.00200, train_loss=0.6174]\n",
            "Valid : 100%|██████████| 2/2 [00:00<00:00,  2.65it/s, gpu_memory=0.98 GB, lr=0.00200, valid_loss=0.7879]\n"
          ]
        },
        {
          "output_type": "stream",
          "name": "stdout",
          "text": [
            " | Valid BG Dice: 0.8151 | Valid FG Dice: 0.0157\n",
            "\u001b[32mValid FG Dice Improved (0.0100 ---> 0.0157)\n",
            "Model Saved\u001b[0m\n",
            "\n",
            "\n",
            "Epoch 5/15"
          ]
        },
        {
          "output_type": "stream",
          "name": "stderr",
          "text": [
            "Train : 100%|██████████| 3/3 [00:01<00:00,  1.88it/s, gpu_mem=2.23 GB, lr=0.00200, train_loss=0.5770]\n",
            "Valid : 100%|██████████| 2/2 [00:00<00:00,  3.63it/s, gpu_memory=0.98 GB, lr=0.00200, valid_loss=0.6438]\n"
          ]
        },
        {
          "output_type": "stream",
          "name": "stdout",
          "text": [
            " | Valid BG Dice: 0.8786 | Valid FG Dice: 0.0193\n",
            "\u001b[32mValid FG Dice Improved (0.0157 ---> 0.0193)\n",
            "Model Saved\u001b[0m\n",
            "\n",
            "\n",
            "Epoch 6/15"
          ]
        },
        {
          "output_type": "stream",
          "name": "stderr",
          "text": [
            "Train : 100%|██████████| 3/3 [00:01<00:00,  2.43it/s, gpu_mem=2.23 GB, lr=0.00200, train_loss=0.5436]\n",
            "Valid : 100%|██████████| 2/2 [00:00<00:00,  3.66it/s, gpu_memory=0.99 GB, lr=0.00200, valid_loss=0.5768]\n"
          ]
        },
        {
          "output_type": "stream",
          "name": "stdout",
          "text": [
            " | Valid BG Dice: 0.9206 | Valid FG Dice: 0.0225\n",
            "\u001b[32mValid FG Dice Improved (0.0193 ---> 0.0225)\n",
            "Model Saved\u001b[0m\n",
            "\n",
            "\n",
            "Epoch 7/15"
          ]
        },
        {
          "output_type": "stream",
          "name": "stderr",
          "text": [
            "Train : 100%|██████████| 3/3 [00:01<00:00,  2.33it/s, gpu_mem=2.23 GB, lr=0.00200, train_loss=0.5174]\n",
            "Valid : 100%|██████████| 2/2 [00:00<00:00,  3.44it/s, gpu_memory=0.99 GB, lr=0.00200, valid_loss=0.5368]\n"
          ]
        },
        {
          "output_type": "stream",
          "name": "stdout",
          "text": [
            " | Valid BG Dice: 0.9500 | Valid FG Dice: 0.0353\n",
            "\u001b[32mValid FG Dice Improved (0.0225 ---> 0.0353)\n",
            "Model Saved\u001b[0m\n",
            "\n",
            "\n",
            "Epoch 8/15"
          ]
        },
        {
          "output_type": "stream",
          "name": "stderr",
          "text": [
            "Train : 100%|██████████| 3/3 [00:01<00:00,  1.84it/s, gpu_mem=2.23 GB, lr=0.00200, train_loss=0.4934]\n",
            "Valid : 100%|██████████| 2/2 [00:00<00:00,  2.51it/s, gpu_memory=0.96 GB, lr=0.00200, valid_loss=0.5101]\n"
          ]
        },
        {
          "output_type": "stream",
          "name": "stdout",
          "text": [
            " | Valid BG Dice: 0.9658 | Valid FG Dice: 0.0571\n",
            "\u001b[32mValid FG Dice Improved (0.0353 ---> 0.0571)\n",
            "Model Saved\u001b[0m\n",
            "\n",
            "\n",
            "Epoch 9/15"
          ]
        },
        {
          "output_type": "stream",
          "name": "stderr",
          "text": [
            "Train : 100%|██████████| 3/3 [00:01<00:00,  2.42it/s, gpu_mem=2.23 GB, lr=0.00200, train_loss=0.4656]\n",
            "Valid : 100%|██████████| 2/2 [00:00<00:00,  3.60it/s, gpu_memory=0.99 GB, lr=0.00200, valid_loss=0.4966]\n"
          ]
        },
        {
          "output_type": "stream",
          "name": "stdout",
          "text": [
            " | Valid BG Dice: 0.9735 | Valid FG Dice: 0.0654\n",
            "\u001b[32mValid FG Dice Improved (0.0571 ---> 0.0654)\n",
            "Model Saved\u001b[0m\n",
            "\n",
            "\n",
            "Epoch 10/15"
          ]
        },
        {
          "output_type": "stream",
          "name": "stderr",
          "text": [
            "Train : 100%|██████████| 3/3 [00:01<00:00,  2.41it/s, gpu_mem=2.24 GB, lr=0.00200, train_loss=0.4478]\n",
            "Valid : 100%|██████████| 2/2 [00:00<00:00,  3.63it/s, gpu_memory=0.99 GB, lr=0.00200, valid_loss=0.4834]\n"
          ]
        },
        {
          "output_type": "stream",
          "name": "stdout",
          "text": [
            " | Valid BG Dice: 0.9795 | Valid FG Dice: 0.0785\n",
            "\u001b[32mValid FG Dice Improved (0.0654 ---> 0.0785)\n",
            "Model Saved\u001b[0m\n",
            "\n",
            "\n",
            "Epoch 11/15"
          ]
        },
        {
          "output_type": "stream",
          "name": "stderr",
          "text": [
            "Train : 100%|██████████| 3/3 [00:01<00:00,  2.36it/s, gpu_mem=2.23 GB, lr=0.00200, train_loss=0.4313]\n",
            "Valid : 100%|██████████| 2/2 [00:00<00:00,  2.66it/s, gpu_memory=0.99 GB, lr=0.00200, valid_loss=0.4687]\n"
          ]
        },
        {
          "output_type": "stream",
          "name": "stdout",
          "text": [
            " | Valid BG Dice: 0.9842 | Valid FG Dice: 0.0980\n",
            "\u001b[32mValid FG Dice Improved (0.0785 ---> 0.0980)\n",
            "Model Saved\u001b[0m\n",
            "\n",
            "\n",
            "Epoch 12/15"
          ]
        },
        {
          "output_type": "stream",
          "name": "stderr",
          "text": [
            "Train : 100%|██████████| 3/3 [00:01<00:00,  2.06it/s, gpu_mem=2.23 GB, lr=0.00200, train_loss=0.3882]\n",
            "Valid : 100%|██████████| 2/2 [00:00<00:00,  3.58it/s, gpu_memory=0.99 GB, lr=0.00200, valid_loss=0.4614]\n"
          ]
        },
        {
          "output_type": "stream",
          "name": "stdout",
          "text": [
            " | Valid BG Dice: 0.9887 | Valid FG Dice: 0.1025\n",
            "\u001b[32mValid FG Dice Improved (0.0980 ---> 0.1025)\n",
            "Model Saved\u001b[0m\n",
            "\n",
            "\n",
            "Epoch 13/15"
          ]
        },
        {
          "output_type": "stream",
          "name": "stderr",
          "text": [
            "Train : 100%|██████████| 3/3 [00:01<00:00,  2.53it/s, gpu_mem=2.24 GB, lr=0.00200, train_loss=0.3570]\n",
            "Valid : 100%|██████████| 2/2 [00:00<00:00,  3.48it/s, gpu_memory=0.98 GB, lr=0.00200, valid_loss=0.4641]\n"
          ]
        },
        {
          "output_type": "stream",
          "name": "stdout",
          "text": [
            " | Valid BG Dice: 0.9910 | Valid FG Dice: 0.0938\n",
            "\n",
            "\n",
            "Epoch 14/15"
          ]
        },
        {
          "output_type": "stream",
          "name": "stderr",
          "text": [
            "Train : 100%|██████████| 3/3 [00:01<00:00,  2.37it/s, gpu_mem=2.24 GB, lr=0.00200, train_loss=0.3068]\n",
            "Valid : 100%|██████████| 2/2 [00:00<00:00,  3.61it/s, gpu_memory=0.99 GB, lr=0.00200, valid_loss=0.4516]\n"
          ]
        },
        {
          "output_type": "stream",
          "name": "stdout",
          "text": [
            " | Valid BG Dice: 0.9935 | Valid FG Dice: 0.1152\n",
            "\u001b[32mValid FG Dice Improved (0.1025 ---> 0.1152)\n",
            "Model Saved\u001b[0m\n",
            "\n",
            "\n",
            "Epoch 15/15"
          ]
        },
        {
          "output_type": "stream",
          "name": "stderr",
          "text": [
            "Train : 100%|██████████| 3/3 [00:01<00:00,  1.93it/s, gpu_mem=2.24 GB, lr=0.00200, train_loss=0.2659]\n"
          ]
        }
      ],
      "execution_count": null
    },
    {
      "cell_type": "code",
      "source": [
        "imgs, msks = next(iter(valid_loader))\n",
        "imgs = imgs.to(CFG.device, dtype=torch.float)\n",
        "\n",
        "preds = []\n",
        "for fold in range(1):\n",
        "    model = load_model(f\"best_epoch-{fold:02d}.bin\")\n",
        "    with torch.no_grad():\n",
        "        pred = model(imgs)\n",
        "        pred.squeeze(1)\n",
        "        pred = (nn.Sigmoid()(pred)>0.5).double()\n",
        "    preds.append(pred)\n",
        "\n",
        "imgs  = imgs.cpu().detach()\n",
        "preds = torch.mean(torch.stack(preds, dim=0), dim=0).cpu().detach()"
      ],
      "metadata": {
        "trusted": true,
        "execution": {
          "iopub.status.busy": "2025-07-10T09:03:07.217251Z",
          "iopub.execute_input": "2025-07-10T09:03:07.21749Z",
          "iopub.status.idle": "2025-07-10T09:03:08.204051Z",
          "shell.execute_reply.started": "2025-07-10T09:03:07.217471Z",
          "shell.execute_reply": "2025-07-10T09:03:08.203291Z"
        },
        "id": "b9dcABVt5z6m"
      },
      "outputs": [],
      "execution_count": null
    },
    {
      "cell_type": "code",
      "source": [
        "plot_batch(imgs, msks, size=5)"
      ],
      "metadata": {
        "trusted": true,
        "execution": {
          "iopub.status.busy": "2025-07-10T09:03:08.20497Z",
          "iopub.execute_input": "2025-07-10T09:03:08.205225Z",
          "iopub.status.idle": "2025-07-10T09:03:09.151267Z",
          "shell.execute_reply.started": "2025-07-10T09:03:08.205191Z",
          "shell.execute_reply": "2025-07-10T09:03:09.150012Z"
        },
        "id": "zfBxSzhL5z6m"
      },
      "outputs": [],
      "execution_count": null
    },
    {
      "cell_type": "code",
      "source": [
        "plot_batch(imgs, preds.squeeze(1), size=5)"
      ],
      "metadata": {
        "trusted": true,
        "execution": {
          "iopub.status.busy": "2025-07-10T09:03:09.152804Z",
          "iopub.execute_input": "2025-07-10T09:03:09.153081Z",
          "iopub.status.idle": "2025-07-10T09:03:10.106591Z",
          "shell.execute_reply.started": "2025-07-10T09:03:09.153061Z",
          "shell.execute_reply": "2025-07-10T09:03:10.105803Z"
        },
        "id": "f-uHuy4-5z6m"
      },
      "outputs": [],
      "execution_count": null
    },
    {
      "cell_type": "code",
      "source": [
        "!rm -r ./wandb"
      ],
      "metadata": {
        "trusted": true,
        "execution": {
          "iopub.status.busy": "2025-07-10T09:03:10.107412Z",
          "iopub.execute_input": "2025-07-10T09:03:10.10761Z",
          "iopub.status.idle": "2025-07-10T09:03:10.290381Z",
          "shell.execute_reply.started": "2025-07-10T09:03:10.107595Z",
          "shell.execute_reply": "2025-07-10T09:03:10.289523Z"
        },
        "id": "NgPPI2x95z6m"
      },
      "outputs": [],
      "execution_count": null
    },
    {
      "cell_type": "code",
      "source": [],
      "metadata": {
        "trusted": true,
        "id": "DMUG1G6J5z6m"
      },
      "outputs": [],
      "execution_count": null
    }
  ]
}