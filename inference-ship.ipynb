{
 "cells": [
  {
   "cell_type": "code",
   "execution_count": 1,
   "id": "8d8863d8",
   "metadata": {
    "_cell_guid": "b8a167cf-a385-4dda-8d28-be0af437e7ae",
    "_uuid": "26c272f9-7713-4b3b-adc3-de3e26aa4b2f",
    "collapsed": false,
    "execution": {
     "iopub.execute_input": "2025-07-11T07:47:28.234169Z",
     "iopub.status.busy": "2025-07-11T07:47:28.233896Z",
     "iopub.status.idle": "2025-07-11T07:47:31.497321Z",
     "shell.execute_reply": "2025-07-11T07:47:31.496743Z"
    },
    "jupyter": {
     "outputs_hidden": false
    },
    "papermill": {
     "duration": 3.268716,
     "end_time": "2025-07-11T07:47:31.498770",
     "exception": false,
     "start_time": "2025-07-11T07:47:28.230054",
     "status": "completed"
    },
    "tags": []
   },
   "outputs": [],
   "source": [
    "from pathlib import Path\n",
    "import os \n",
    "import pandas as pd \n",
    "import numpy as np \n",
    "import matplotlib.pyplot as plt\n",
    "import cv2\n",
    "import random\n",
    "import torch\n",
    "from tqdm import tqdm\n",
    "from torch import nn\n",
    "from glob import glob"
   ]
  },
  {
   "cell_type": "code",
   "execution_count": 2,
   "id": "82ab0cf5",
   "metadata": {
    "execution": {
     "iopub.execute_input": "2025-07-11T07:47:31.504480Z",
     "iopub.status.busy": "2025-07-11T07:47:31.504161Z",
     "iopub.status.idle": "2025-07-11T07:47:31.588929Z",
     "shell.execute_reply": "2025-07-11T07:47:31.588156Z"
    },
    "papermill": {
     "duration": 0.088626,
     "end_time": "2025-07-11T07:47:31.590087",
     "exception": false,
     "start_time": "2025-07-11T07:47:31.501461",
     "status": "completed"
    },
    "tags": []
   },
   "outputs": [],
   "source": [
    "class CFG:\n",
    "    img_size = [224, 224]\n",
    "    valid_bs = 64\n",
    "    device = 'cuda' if torch.cuda.is_available() else 'cpu'\n",
    "    thr = 0.5"
   ]
  },
  {
   "cell_type": "code",
   "execution_count": 3,
   "id": "5b009ba9",
   "metadata": {
    "execution": {
     "iopub.execute_input": "2025-07-11T07:47:31.595307Z",
     "iopub.status.busy": "2025-07-11T07:47:31.595073Z",
     "iopub.status.idle": "2025-07-11T07:47:33.107375Z",
     "shell.execute_reply": "2025-07-11T07:47:33.106564Z"
    },
    "papermill": {
     "duration": 1.516458,
     "end_time": "2025-07-11T07:47:33.108840",
     "exception": false,
     "start_time": "2025-07-11T07:47:31.592382",
     "status": "completed"
    },
    "tags": []
   },
   "outputs": [],
   "source": [
    "from torch.utils.data import Dataset, DataLoader \n",
    "import albumentations as A\n",
    "\n",
    "data_transforms = {\n",
    "    \"train\": A.Compose([\n",
    "        A.Resize(*CFG.img_size, interpolation=cv2.INTER_NEAREST),\n",
    "#         A.HorizontalFlip(p=0.5),\n",
    "# #         A.VerticalFlip(p=0.5),\n",
    "#         A.ShiftScaleRotate(shift_limit=0.0625, scale_limit=0.05, rotate_limit=10, p=0.5),\n",
    "#         A.OneOf([\n",
    "#             A.GridDistortion(num_steps=5, distort_limit=0.05, p=1.0),\n",
    "# # #             A.OpticalDistortion(distort_limit=0.05, shift_limit=0.05, p=1.0),\n",
    "#             A.ElasticTransform(alpha=1, sigma=50, alpha_affine=50, p=1.0)\n",
    "#         ], p=0.25),\n",
    "#         A.CoarseDropout(max_holes=8, max_height=CFG.img_size[0]//20, max_width=CFG.img_size[1]//20,\n",
    "#                          min_holes=5, fill_value=0, mask_fill_value=0, p=0.5),\n",
    "        ], p=1.0),\n",
    "    \n",
    "    \"valid\": A.Compose([\n",
    "        A.Resize(*CFG.img_size, interpolation=cv2.INTER_NEAREST),\n",
    "        ], p=1.0)\n",
    "}\n",
    "\n",
    "def load_img(path):\n",
    "    img = cv2.imread(path, cv2.IMREAD_COLOR)  # read as BGR by default\n",
    "    if img is None:\n",
    "        raise ValueError(f\"Image at {path} could not be loaded.\")\n",
    "    img = cv2.cvtColor(img, cv2.COLOR_BGR2RGB)  # convert to RGB\n",
    "\n",
    "    img = img.astype('float32')  # convert from uint8 to float32\n",
    "    mx = np.max(img)\n",
    "    if mx:\n",
    "        img /= mx  # scale to [0, 1]\n",
    "    return img\n",
    "    \n",
    "class ShipDataset(Dataset):\n",
    "    def __init__(self, image_list, transforms=None):\n",
    "        self.images = image_list \n",
    "        self.transforms = transforms\n",
    "\n",
    "    def __len__(self):\n",
    "        return len(self.images)\n",
    "\n",
    "    def __getitem__(self, idx):\n",
    "        img_path = self.images[idx]\n",
    "        img = load_img(img_path)\n",
    "        if self.transforms:\n",
    "            data = self.transforms(image=img)\n",
    "            img = data['image']\n",
    "        img = np.transpose(img, (2, 0, 1))\n",
    "        return torch.tensor(img, dtype=torch.float32), img_path"
   ]
  },
  {
   "cell_type": "code",
   "execution_count": 4,
   "id": "a53931b4",
   "metadata": {
    "execution": {
     "iopub.execute_input": "2025-07-11T07:47:33.114537Z",
     "iopub.status.busy": "2025-07-11T07:47:33.114017Z",
     "iopub.status.idle": "2025-07-11T07:47:38.446226Z",
     "shell.execute_reply": "2025-07-11T07:47:38.445403Z"
    },
    "papermill": {
     "duration": 5.336365,
     "end_time": "2025-07-11T07:47:38.447636",
     "exception": false,
     "start_time": "2025-07-11T07:47:33.111271",
     "status": "completed"
    },
    "tags": []
   },
   "outputs": [],
   "source": [
    "import segmentation_models_pytorch as smp\n",
    "\n",
    "def build_model():\n",
    "    model = smp.Unet(\n",
    "        encoder_name=\"efficientnet-b1\",      # choose encoder, e.g. mobilenet_v2 or efficientnet-b7\n",
    "        encoder_weights=\"imagenet\",     # use `imagenet` pre-trained weights for encoder initialization\n",
    "        in_channels=3,                  # model input channels (1 for gray-scale images, 3 for RGB, etc.)\n",
    "        classes=1,        # model output channels (number of classes in your dataset)\n",
    "        activation=None,\n",
    "    )\n",
    "    model.to(CFG.device)\n",
    "    return model\n",
    "\n",
    "def load_model(path):\n",
    "    model = build_model()\n",
    "    model.load_state_dict(torch.load(path, map_location='cpu'))\n",
    "    model.eval()\n",
    "    return model"
   ]
  },
  {
   "cell_type": "code",
   "execution_count": 5,
   "id": "f7c4a2e3",
   "metadata": {
    "execution": {
     "iopub.execute_input": "2025-07-11T07:47:38.453233Z",
     "iopub.status.busy": "2025-07-11T07:47:38.452994Z",
     "iopub.status.idle": "2025-07-11T07:47:38.460140Z",
     "shell.execute_reply": "2025-07-11T07:47:38.459383Z"
    },
    "papermill": {
     "duration": 0.011295,
     "end_time": "2025-07-11T07:47:38.461348",
     "exception": false,
     "start_time": "2025-07-11T07:47:38.450053",
     "status": "completed"
    },
    "tags": []
   },
   "outputs": [],
   "source": [
    "def mask2rle(mask):\n",
    "    mask = cv2.resize(mask, (768, 768), interpolation=cv2.INTER_NEAREST)\n",
    "    '''\n",
    "    mask: numpy array, 1 - mask, 0 - background\n",
    "    Returns run length as string formatted\n",
    "    '''\n",
    "    pixels = mask.T.flatten() \n",
    "    pixels = np.concatenate([[0], pixels, [0]])\n",
    "    runs = np.where(pixels[1:] != pixels[:-1])[0] + 1\n",
    "    runs[1::2] = runs[1::2] - runs[:-1:2]\n",
    "    rle = ' '.join(str(x) for x in runs)\n",
    "    return rle\n",
    "\n",
    "def masks2rles(msks, ids):\n",
    "    pred_strings = []\n",
    "    for idx in range(msks.shape[0]):\n",
    "        msk = cv2.resize(msks[idx], \n",
    "                         dsize=(768, 768), \n",
    "                         interpolation=cv2.INTER_NEAREST) # back to original shape\n",
    "        rle = mask2rle(msk)\n",
    "        pred_strings.append(rle)\n",
    "    return pred_strings\n",
    "\n",
    "def rle2mask(rle):\n",
    "    shape = (768,768)\n",
    "    img = np.zeros(shape[0]*shape[1], dtype=np.uint8)\n",
    "    if(type(rle) == float): return img.reshape(rle)\n",
    "    if(type(rle) == str): masks = [rle]\n",
    "    for mask in masks:\n",
    "        s = mask.split()\n",
    "        \n",
    "        for i in range(len(s)//2):\n",
    "            start = int(s[2*i]) - 1\n",
    "            length = int(s[2*i+1])\n",
    "            img[start:start+length] = 1\n",
    "    return img.reshape(shape).T"
   ]
  },
  {
   "cell_type": "code",
   "execution_count": 6,
   "id": "91b88c80",
   "metadata": {
    "execution": {
     "iopub.execute_input": "2025-07-11T07:47:38.466217Z",
     "iopub.status.busy": "2025-07-11T07:47:38.466036Z",
     "iopub.status.idle": "2025-07-11T07:47:38.470887Z",
     "shell.execute_reply": "2025-07-11T07:47:38.470343Z"
    },
    "papermill": {
     "duration": 0.008542,
     "end_time": "2025-07-11T07:47:38.471980",
     "exception": false,
     "start_time": "2025-07-11T07:47:38.463438",
     "status": "completed"
    },
    "tags": []
   },
   "outputs": [],
   "source": [
    "@torch.no_grad()\n",
    "def infer(model, test_loader, num_log=1, thr=CFG.thr):\n",
    "    pred_strings = []; pred_ids = []; pred_classes = [];\n",
    "    for idx, (img, ids) in enumerate(tqdm(test_loader, total=len(test_loader), desc='Infer ')):\n",
    "        img = img.to(CFG.device, dtype=torch.float) # .squeeze(0)\n",
    "        size = img.size()\n",
    "        msk = torch.zeros((size[0], size[2], size[3]), device=CFG.device, dtype=torch.float32) # (32, 3, 224, 224)\n",
    "        logit = model(img)\n",
    "        pred = logit.squeeze()\n",
    "        pred = nn.Sigmoid()(pred)\n",
    "        msk += pred\n",
    "        msk = (msk > CFG.thr).to(torch.uint8).cpu().detach().numpy()\n",
    "        rles = masks2rles(msk, idx)\n",
    "        pred_strings.extend(rles)\n",
    "        pred_ids.extend(ids)\n",
    "    return pred_strings, pred_ids"
   ]
  },
  {
   "cell_type": "code",
   "execution_count": 7,
   "id": "d605172f",
   "metadata": {
    "execution": {
     "iopub.execute_input": "2025-07-11T07:47:38.476866Z",
     "iopub.status.busy": "2025-07-11T07:47:38.476659Z",
     "iopub.status.idle": "2025-07-11T07:47:38.613095Z",
     "shell.execute_reply": "2025-07-11T07:47:38.612535Z"
    },
    "papermill": {
     "duration": 0.140094,
     "end_time": "2025-07-11T07:47:38.614237",
     "exception": false,
     "start_time": "2025-07-11T07:47:38.474143",
     "status": "completed"
    },
    "tags": []
   },
   "outputs": [],
   "source": [
    "test_images = glob('/kaggle/input/airbus-ship-detection/test_v2/*.jpg')"
   ]
  },
  {
   "cell_type": "code",
   "execution_count": 8,
   "id": "cc13fdd8",
   "metadata": {
    "execution": {
     "iopub.execute_input": "2025-07-11T07:47:38.619187Z",
     "iopub.status.busy": "2025-07-11T07:47:38.618999Z",
     "iopub.status.idle": "2025-07-11T07:47:39.895981Z",
     "shell.execute_reply": "2025-07-11T07:47:39.895168Z"
    },
    "papermill": {
     "duration": 1.281461,
     "end_time": "2025-07-11T07:47:39.897908",
     "exception": false,
     "start_time": "2025-07-11T07:47:38.616447",
     "status": "completed"
    },
    "tags": []
   },
   "outputs": [
    {
     "data": {
      "application/vnd.jupyter.widget-view+json": {
       "model_id": "b615f69af5c34cc7907a5179e97a4cd7",
       "version_major": 2,
       "version_minor": 0
      },
      "text/plain": [
       "config.json:   0%|          | 0.00/106 [00:00<?, ?B/s]"
      ]
     },
     "metadata": {},
     "output_type": "display_data"
    },
    {
     "data": {
      "application/vnd.jupyter.widget-view+json": {
       "model_id": "20d59f33cb6e4bbab59a3f2ea25d53ad",
       "version_major": 2,
       "version_minor": 0
      },
      "text/plain": [
       "model.safetensors:   0%|          | 0.00/31.5M [00:00<?, ?B/s]"
      ]
     },
     "metadata": {},
     "output_type": "display_data"
    }
   ],
   "source": [
    "model_path = \"/kaggle/input/ship-segmentation/pytorch/default/1/best_epoch-00.bin\"\n",
    "\n",
    "model = load_model(model_path)"
   ]
  },
  {
   "cell_type": "code",
   "execution_count": 9,
   "id": "903273ab",
   "metadata": {
    "execution": {
     "iopub.execute_input": "2025-07-11T07:47:39.905127Z",
     "iopub.status.busy": "2025-07-11T07:47:39.904896Z",
     "iopub.status.idle": "2025-07-11T07:47:39.909002Z",
     "shell.execute_reply": "2025-07-11T07:47:39.908230Z"
    },
    "papermill": {
     "duration": 0.009236,
     "end_time": "2025-07-11T07:47:39.910191",
     "exception": false,
     "start_time": "2025-07-11T07:47:39.900955",
     "status": "completed"
    },
    "tags": []
   },
   "outputs": [],
   "source": [
    "test_ds = ShipDataset(test_images, transforms=data_transforms['valid'])\n",
    "test_dl  = DataLoader(test_ds, batch_size=CFG.valid_bs, num_workers=4, shuffle=False, pin_memory=False)"
   ]
  },
  {
   "cell_type": "code",
   "execution_count": 10,
   "id": "b716285c",
   "metadata": {
    "execution": {
     "iopub.execute_input": "2025-07-11T07:47:39.916920Z",
     "iopub.status.busy": "2025-07-11T07:47:39.916696Z",
     "iopub.status.idle": "2025-07-11T07:49:45.603394Z",
     "shell.execute_reply": "2025-07-11T07:49:45.602361Z"
    },
    "papermill": {
     "duration": 125.691954,
     "end_time": "2025-07-11T07:49:45.604733",
     "exception": false,
     "start_time": "2025-07-11T07:47:39.912779",
     "status": "completed"
    },
    "tags": []
   },
   "outputs": [
    {
     "name": "stderr",
     "output_type": "stream",
     "text": [
      "Infer : 100%|██████████| 244/244 [02:05<00:00,  1.94it/s]\n"
     ]
    }
   ],
   "source": [
    "pred_strings, pred_ids = infer(model, test_dl)"
   ]
  },
  {
   "cell_type": "code",
   "execution_count": 11,
   "id": "4ed8201a",
   "metadata": {
    "execution": {
     "iopub.execute_input": "2025-07-11T07:49:45.631265Z",
     "iopub.status.busy": "2025-07-11T07:49:45.630954Z",
     "iopub.status.idle": "2025-07-11T07:49:45.676822Z",
     "shell.execute_reply": "2025-07-11T07:49:45.675980Z"
    },
    "papermill": {
     "duration": 0.06083,
     "end_time": "2025-07-11T07:49:45.678136",
     "exception": false,
     "start_time": "2025-07-11T07:49:45.617306",
     "status": "completed"
    },
    "tags": []
   },
   "outputs": [
    {
     "data": {
      "text/html": [
       "<div>\n",
       "<style scoped>\n",
       "    .dataframe tbody tr th:only-of-type {\n",
       "        vertical-align: middle;\n",
       "    }\n",
       "\n",
       "    .dataframe tbody tr th {\n",
       "        vertical-align: top;\n",
       "    }\n",
       "\n",
       "    .dataframe thead th {\n",
       "        text-align: right;\n",
       "    }\n",
       "</style>\n",
       "<table border=\"1\" class=\"dataframe\">\n",
       "  <thead>\n",
       "    <tr style=\"text-align: right;\">\n",
       "      <th></th>\n",
       "      <th>ImageId</th>\n",
       "      <th>EncodedPixels</th>\n",
       "    </tr>\n",
       "  </thead>\n",
       "  <tbody>\n",
       "    <tr>\n",
       "      <th>0</th>\n",
       "      <td>00002bd58.jpg</td>\n",
       "      <td>1 2</td>\n",
       "    </tr>\n",
       "    <tr>\n",
       "      <th>1</th>\n",
       "      <td>00015efb6.jpg</td>\n",
       "      <td>1 2</td>\n",
       "    </tr>\n",
       "    <tr>\n",
       "      <th>2</th>\n",
       "      <td>00023d5fc.jpg</td>\n",
       "      <td>1 2</td>\n",
       "    </tr>\n",
       "    <tr>\n",
       "      <th>3</th>\n",
       "      <td>000367c13.jpg</td>\n",
       "      <td>1 2</td>\n",
       "    </tr>\n",
       "    <tr>\n",
       "      <th>4</th>\n",
       "      <td>0008ca6e9.jpg</td>\n",
       "      <td>1 2</td>\n",
       "    </tr>\n",
       "  </tbody>\n",
       "</table>\n",
       "</div>"
      ],
      "text/plain": [
       "         ImageId EncodedPixels\n",
       "0  00002bd58.jpg           1 2\n",
       "1  00015efb6.jpg           1 2\n",
       "2  00023d5fc.jpg           1 2\n",
       "3  000367c13.jpg           1 2\n",
       "4  0008ca6e9.jpg           1 2"
      ]
     },
     "execution_count": 11,
     "metadata": {},
     "output_type": "execute_result"
    }
   ],
   "source": [
    "df = pd.read_csv('/kaggle/input/airbus-ship-detection/sample_submission_v2.csv')\n",
    "df.head()"
   ]
  },
  {
   "cell_type": "code",
   "execution_count": 12,
   "id": "2e0fa084",
   "metadata": {
    "execution": {
     "iopub.execute_input": "2025-07-11T07:49:45.710848Z",
     "iopub.status.busy": "2025-07-11T07:49:45.710588Z",
     "iopub.status.idle": "2025-07-11T07:49:45.819841Z",
     "shell.execute_reply": "2025-07-11T07:49:45.818994Z"
    },
    "papermill": {
     "duration": 0.127379,
     "end_time": "2025-07-11T07:49:45.821157",
     "exception": false,
     "start_time": "2025-07-11T07:49:45.693778",
     "status": "completed"
    },
    "tags": []
   },
   "outputs": [],
   "source": [
    "sub = pd.DataFrame({'ImageId': pred_ids, 'EncodedPixels': pred_strings})\n",
    "sub.to_csv('submission.csv', index=False)"
   ]
  },
  {
   "cell_type": "code",
   "execution_count": 13,
   "id": "4c8da132",
   "metadata": {
    "execution": {
     "iopub.execute_input": "2025-07-11T07:49:45.845660Z",
     "iopub.status.busy": "2025-07-11T07:49:45.845408Z",
     "iopub.status.idle": "2025-07-11T07:49:45.886891Z",
     "shell.execute_reply": "2025-07-11T07:49:45.886293Z"
    },
    "papermill": {
     "duration": 0.054933,
     "end_time": "2025-07-11T07:49:45.887994",
     "exception": false,
     "start_time": "2025-07-11T07:49:45.833061",
     "status": "completed"
    },
    "tags": []
   },
   "outputs": [
    {
     "data": {
      "text/html": [
       "<div>\n",
       "<style scoped>\n",
       "    .dataframe tbody tr th:only-of-type {\n",
       "        vertical-align: middle;\n",
       "    }\n",
       "\n",
       "    .dataframe tbody tr th {\n",
       "        vertical-align: top;\n",
       "    }\n",
       "\n",
       "    .dataframe thead th {\n",
       "        text-align: right;\n",
       "    }\n",
       "</style>\n",
       "<table border=\"1\" class=\"dataframe\">\n",
       "  <thead>\n",
       "    <tr style=\"text-align: right;\">\n",
       "      <th></th>\n",
       "      <th>ImageId</th>\n",
       "      <th>EncodedPixels</th>\n",
       "    </tr>\n",
       "  </thead>\n",
       "  <tbody>\n",
       "    <tr>\n",
       "      <th>0</th>\n",
       "      <td>/kaggle/input/airbus-ship-detection/test_v2/42...</td>\n",
       "      <td>NaN</td>\n",
       "    </tr>\n",
       "    <tr>\n",
       "      <th>1</th>\n",
       "      <td>/kaggle/input/airbus-ship-detection/test_v2/b0...</td>\n",
       "      <td>193219 17 193987 17 194755 17 195519 24 196287...</td>\n",
       "    </tr>\n",
       "    <tr>\n",
       "      <th>2</th>\n",
       "      <td>/kaggle/input/airbus-ship-detection/test_v2/9f...</td>\n",
       "      <td>NaN</td>\n",
       "    </tr>\n",
       "    <tr>\n",
       "      <th>3</th>\n",
       "      <td>/kaggle/input/airbus-ship-detection/test_v2/91...</td>\n",
       "      <td>NaN</td>\n",
       "    </tr>\n",
       "    <tr>\n",
       "      <th>4</th>\n",
       "      <td>/kaggle/input/airbus-ship-detection/test_v2/6f...</td>\n",
       "      <td>NaN</td>\n",
       "    </tr>\n",
       "  </tbody>\n",
       "</table>\n",
       "</div>"
      ],
      "text/plain": [
       "                                             ImageId  \\\n",
       "0  /kaggle/input/airbus-ship-detection/test_v2/42...   \n",
       "1  /kaggle/input/airbus-ship-detection/test_v2/b0...   \n",
       "2  /kaggle/input/airbus-ship-detection/test_v2/9f...   \n",
       "3  /kaggle/input/airbus-ship-detection/test_v2/91...   \n",
       "4  /kaggle/input/airbus-ship-detection/test_v2/6f...   \n",
       "\n",
       "                                       EncodedPixels  \n",
       "0                                                NaN  \n",
       "1  193219 17 193987 17 194755 17 195519 24 196287...  \n",
       "2                                                NaN  \n",
       "3                                                NaN  \n",
       "4                                                NaN  "
      ]
     },
     "execution_count": 13,
     "metadata": {},
     "output_type": "execute_result"
    }
   ],
   "source": [
    "df = pd.read_csv('submission.csv')\n",
    "df.head()"
   ]
  },
  {
   "cell_type": "code",
   "execution_count": null,
   "id": "39a6bdc4",
   "metadata": {
    "papermill": {
     "duration": 0.011581,
     "end_time": "2025-07-11T07:49:45.911740",
     "exception": false,
     "start_time": "2025-07-11T07:49:45.900159",
     "status": "completed"
    },
    "tags": []
   },
   "outputs": [],
   "source": []
  }
 ],
 "metadata": {
  "kaggle": {
   "accelerator": "nvidiaTeslaT4",
   "dataSources": [
    {
     "databundleVersionId": 868324,
     "sourceId": 9988,
     "sourceType": "competition"
    },
    {
     "modelId": 397581,
     "modelInstanceId": 376957,
     "sourceId": 467235,
     "sourceType": "modelInstanceVersion"
    }
   ],
   "dockerImageVersionId": 31090,
   "isGpuEnabled": true,
   "isInternetEnabled": true,
   "language": "python",
   "sourceType": "notebook"
  },
  "kernelspec": {
   "display_name": "Python 3",
   "language": "python",
   "name": "python3"
  },
  "language_info": {
   "codemirror_mode": {
    "name": "ipython",
    "version": 3
   },
   "file_extension": ".py",
   "mimetype": "text/x-python",
   "name": "python",
   "nbconvert_exporter": "python",
   "pygments_lexer": "ipython3",
   "version": "3.11.13"
  },
  "papermill": {
   "default_parameters": {},
   "duration": 144.228447,
   "end_time": "2025-07-11T07:49:48.498687",
   "environment_variables": {},
   "exception": null,
   "input_path": "__notebook__.ipynb",
   "output_path": "__notebook__.ipynb",
   "parameters": {},
   "start_time": "2025-07-11T07:47:24.270240",
   "version": "2.6.0"
  },
  "widgets": {
   "application/vnd.jupyter.widget-state+json": {
    "state": {
     "0a5a297e59b244d39fd9f6233da31402": {
      "model_module": "@jupyter-widgets/base",
      "model_module_version": "2.0.0",
      "model_name": "LayoutModel",
      "state": {
       "_model_module": "@jupyter-widgets/base",
       "_model_module_version": "2.0.0",
       "_model_name": "LayoutModel",
       "_view_count": null,
       "_view_module": "@jupyter-widgets/base",
       "_view_module_version": "2.0.0",
       "_view_name": "LayoutView",
       "align_content": null,
       "align_items": null,
       "align_self": null,
       "border_bottom": null,
       "border_left": null,
       "border_right": null,
       "border_top": null,
       "bottom": null,
       "display": null,
       "flex": null,
       "flex_flow": null,
       "grid_area": null,
       "grid_auto_columns": null,
       "grid_auto_flow": null,
       "grid_auto_rows": null,
       "grid_column": null,
       "grid_gap": null,
       "grid_row": null,
       "grid_template_areas": null,
       "grid_template_columns": null,
       "grid_template_rows": null,
       "height": null,
       "justify_content": null,
       "justify_items": null,
       "left": null,
       "margin": null,
       "max_height": null,
       "max_width": null,
       "min_height": null,
       "min_width": null,
       "object_fit": null,
       "object_position": null,
       "order": null,
       "overflow": null,
       "padding": null,
       "right": null,
       "top": null,
       "visibility": null,
       "width": null
      }
     },
     "14dc7740b91a4746a8752b664a3e2551": {
      "model_module": "@jupyter-widgets/controls",
      "model_module_version": "2.0.0",
      "model_name": "FloatProgressModel",
      "state": {
       "_dom_classes": [],
       "_model_module": "@jupyter-widgets/controls",
       "_model_module_version": "2.0.0",
       "_model_name": "FloatProgressModel",
       "_view_count": null,
       "_view_module": "@jupyter-widgets/controls",
       "_view_module_version": "2.0.0",
       "_view_name": "ProgressView",
       "bar_style": "success",
       "description": "",
       "description_allow_html": false,
       "layout": "IPY_MODEL_0a5a297e59b244d39fd9f6233da31402",
       "max": 106.0,
       "min": 0.0,
       "orientation": "horizontal",
       "style": "IPY_MODEL_661bbcfc520a43af8e276f2632a64212",
       "tabbable": null,
       "tooltip": null,
       "value": 106.0
      }
     },
     "20d59f33cb6e4bbab59a3f2ea25d53ad": {
      "model_module": "@jupyter-widgets/controls",
      "model_module_version": "2.0.0",
      "model_name": "HBoxModel",
      "state": {
       "_dom_classes": [],
       "_model_module": "@jupyter-widgets/controls",
       "_model_module_version": "2.0.0",
       "_model_name": "HBoxModel",
       "_view_count": null,
       "_view_module": "@jupyter-widgets/controls",
       "_view_module_version": "2.0.0",
       "_view_name": "HBoxView",
       "box_style": "",
       "children": [
        "IPY_MODEL_27e4c965c1224634ad0ebb0633ed1a80",
        "IPY_MODEL_756d1f31167349569aa18f2302ca2d94",
        "IPY_MODEL_5979b40598d24a48b5048936f09d6c83"
       ],
       "layout": "IPY_MODEL_7708a943040b4a9a943787bfb4b5c2ec",
       "tabbable": null,
       "tooltip": null
      }
     },
     "27e4c965c1224634ad0ebb0633ed1a80": {
      "model_module": "@jupyter-widgets/controls",
      "model_module_version": "2.0.0",
      "model_name": "HTMLModel",
      "state": {
       "_dom_classes": [],
       "_model_module": "@jupyter-widgets/controls",
       "_model_module_version": "2.0.0",
       "_model_name": "HTMLModel",
       "_view_count": null,
       "_view_module": "@jupyter-widgets/controls",
       "_view_module_version": "2.0.0",
       "_view_name": "HTMLView",
       "description": "",
       "description_allow_html": false,
       "layout": "IPY_MODEL_5cf1c173a1194c9a91d8eb7614a6a725",
       "placeholder": "​",
       "style": "IPY_MODEL_3d84c5a4b8e54fc2a492fdafbc353ecd",
       "tabbable": null,
       "tooltip": null,
       "value": "model.safetensors: 100%"
      }
     },
     "3d84c5a4b8e54fc2a492fdafbc353ecd": {
      "model_module": "@jupyter-widgets/controls",
      "model_module_version": "2.0.0",
      "model_name": "HTMLStyleModel",
      "state": {
       "_model_module": "@jupyter-widgets/controls",
       "_model_module_version": "2.0.0",
       "_model_name": "HTMLStyleModel",
       "_view_count": null,
       "_view_module": "@jupyter-widgets/base",
       "_view_module_version": "2.0.0",
       "_view_name": "StyleView",
       "background": null,
       "description_width": "",
       "font_size": null,
       "text_color": null
      }
     },
     "3f70074e90864f658516f009e9f33020": {
      "model_module": "@jupyter-widgets/base",
      "model_module_version": "2.0.0",
      "model_name": "LayoutModel",
      "state": {
       "_model_module": "@jupyter-widgets/base",
       "_model_module_version": "2.0.0",
       "_model_name": "LayoutModel",
       "_view_count": null,
       "_view_module": "@jupyter-widgets/base",
       "_view_module_version": "2.0.0",
       "_view_name": "LayoutView",
       "align_content": null,
       "align_items": null,
       "align_self": null,
       "border_bottom": null,
       "border_left": null,
       "border_right": null,
       "border_top": null,
       "bottom": null,
       "display": null,
       "flex": null,
       "flex_flow": null,
       "grid_area": null,
       "grid_auto_columns": null,
       "grid_auto_flow": null,
       "grid_auto_rows": null,
       "grid_column": null,
       "grid_gap": null,
       "grid_row": null,
       "grid_template_areas": null,
       "grid_template_columns": null,
       "grid_template_rows": null,
       "height": null,
       "justify_content": null,
       "justify_items": null,
       "left": null,
       "margin": null,
       "max_height": null,
       "max_width": null,
       "min_height": null,
       "min_width": null,
       "object_fit": null,
       "object_position": null,
       "order": null,
       "overflow": null,
       "padding": null,
       "right": null,
       "top": null,
       "visibility": null,
       "width": null
      }
     },
     "55494b81933f48f4a4abdec329101770": {
      "model_module": "@jupyter-widgets/controls",
      "model_module_version": "2.0.0",
      "model_name": "HTMLStyleModel",
      "state": {
       "_model_module": "@jupyter-widgets/controls",
       "_model_module_version": "2.0.0",
       "_model_name": "HTMLStyleModel",
       "_view_count": null,
       "_view_module": "@jupyter-widgets/base",
       "_view_module_version": "2.0.0",
       "_view_name": "StyleView",
       "background": null,
       "description_width": "",
       "font_size": null,
       "text_color": null
      }
     },
     "565b52651aca451790a7d5291d9b2271": {
      "model_module": "@jupyter-widgets/base",
      "model_module_version": "2.0.0",
      "model_name": "LayoutModel",
      "state": {
       "_model_module": "@jupyter-widgets/base",
       "_model_module_version": "2.0.0",
       "_model_name": "LayoutModel",
       "_view_count": null,
       "_view_module": "@jupyter-widgets/base",
       "_view_module_version": "2.0.0",
       "_view_name": "LayoutView",
       "align_content": null,
       "align_items": null,
       "align_self": null,
       "border_bottom": null,
       "border_left": null,
       "border_right": null,
       "border_top": null,
       "bottom": null,
       "display": null,
       "flex": null,
       "flex_flow": null,
       "grid_area": null,
       "grid_auto_columns": null,
       "grid_auto_flow": null,
       "grid_auto_rows": null,
       "grid_column": null,
       "grid_gap": null,
       "grid_row": null,
       "grid_template_areas": null,
       "grid_template_columns": null,
       "grid_template_rows": null,
       "height": null,
       "justify_content": null,
       "justify_items": null,
       "left": null,
       "margin": null,
       "max_height": null,
       "max_width": null,
       "min_height": null,
       "min_width": null,
       "object_fit": null,
       "object_position": null,
       "order": null,
       "overflow": null,
       "padding": null,
       "right": null,
       "top": null,
       "visibility": null,
       "width": null
      }
     },
     "58e5545733904996af5559a96bc4dda7": {
      "model_module": "@jupyter-widgets/base",
      "model_module_version": "2.0.0",
      "model_name": "LayoutModel",
      "state": {
       "_model_module": "@jupyter-widgets/base",
       "_model_module_version": "2.0.0",
       "_model_name": "LayoutModel",
       "_view_count": null,
       "_view_module": "@jupyter-widgets/base",
       "_view_module_version": "2.0.0",
       "_view_name": "LayoutView",
       "align_content": null,
       "align_items": null,
       "align_self": null,
       "border_bottom": null,
       "border_left": null,
       "border_right": null,
       "border_top": null,
       "bottom": null,
       "display": null,
       "flex": null,
       "flex_flow": null,
       "grid_area": null,
       "grid_auto_columns": null,
       "grid_auto_flow": null,
       "grid_auto_rows": null,
       "grid_column": null,
       "grid_gap": null,
       "grid_row": null,
       "grid_template_areas": null,
       "grid_template_columns": null,
       "grid_template_rows": null,
       "height": null,
       "justify_content": null,
       "justify_items": null,
       "left": null,
       "margin": null,
       "max_height": null,
       "max_width": null,
       "min_height": null,
       "min_width": null,
       "object_fit": null,
       "object_position": null,
       "order": null,
       "overflow": null,
       "padding": null,
       "right": null,
       "top": null,
       "visibility": null,
       "width": null
      }
     },
     "5979b40598d24a48b5048936f09d6c83": {
      "model_module": "@jupyter-widgets/controls",
      "model_module_version": "2.0.0",
      "model_name": "HTMLModel",
      "state": {
       "_dom_classes": [],
       "_model_module": "@jupyter-widgets/controls",
       "_model_module_version": "2.0.0",
       "_model_name": "HTMLModel",
       "_view_count": null,
       "_view_module": "@jupyter-widgets/controls",
       "_view_module_version": "2.0.0",
       "_view_name": "HTMLView",
       "description": "",
       "description_allow_html": false,
       "layout": "IPY_MODEL_565b52651aca451790a7d5291d9b2271",
       "placeholder": "​",
       "style": "IPY_MODEL_f623e44451fa49e8b2ff25e4308c4e39",
       "tabbable": null,
       "tooltip": null,
       "value": " 31.5M/31.5M [00:00&lt;00:00, 154MB/s]"
      }
     },
     "5cf1c173a1194c9a91d8eb7614a6a725": {
      "model_module": "@jupyter-widgets/base",
      "model_module_version": "2.0.0",
      "model_name": "LayoutModel",
      "state": {
       "_model_module": "@jupyter-widgets/base",
       "_model_module_version": "2.0.0",
       "_model_name": "LayoutModel",
       "_view_count": null,
       "_view_module": "@jupyter-widgets/base",
       "_view_module_version": "2.0.0",
       "_view_name": "LayoutView",
       "align_content": null,
       "align_items": null,
       "align_self": null,
       "border_bottom": null,
       "border_left": null,
       "border_right": null,
       "border_top": null,
       "bottom": null,
       "display": null,
       "flex": null,
       "flex_flow": null,
       "grid_area": null,
       "grid_auto_columns": null,
       "grid_auto_flow": null,
       "grid_auto_rows": null,
       "grid_column": null,
       "grid_gap": null,
       "grid_row": null,
       "grid_template_areas": null,
       "grid_template_columns": null,
       "grid_template_rows": null,
       "height": null,
       "justify_content": null,
       "justify_items": null,
       "left": null,
       "margin": null,
       "max_height": null,
       "max_width": null,
       "min_height": null,
       "min_width": null,
       "object_fit": null,
       "object_position": null,
       "order": null,
       "overflow": null,
       "padding": null,
       "right": null,
       "top": null,
       "visibility": null,
       "width": null
      }
     },
     "661bbcfc520a43af8e276f2632a64212": {
      "model_module": "@jupyter-widgets/controls",
      "model_module_version": "2.0.0",
      "model_name": "ProgressStyleModel",
      "state": {
       "_model_module": "@jupyter-widgets/controls",
       "_model_module_version": "2.0.0",
       "_model_name": "ProgressStyleModel",
       "_view_count": null,
       "_view_module": "@jupyter-widgets/base",
       "_view_module_version": "2.0.0",
       "_view_name": "StyleView",
       "bar_color": null,
       "description_width": ""
      }
     },
     "756d1f31167349569aa18f2302ca2d94": {
      "model_module": "@jupyter-widgets/controls",
      "model_module_version": "2.0.0",
      "model_name": "FloatProgressModel",
      "state": {
       "_dom_classes": [],
       "_model_module": "@jupyter-widgets/controls",
       "_model_module_version": "2.0.0",
       "_model_name": "FloatProgressModel",
       "_view_count": null,
       "_view_module": "@jupyter-widgets/controls",
       "_view_module_version": "2.0.0",
       "_view_name": "ProgressView",
       "bar_style": "success",
       "description": "",
       "description_allow_html": false,
       "layout": "IPY_MODEL_3f70074e90864f658516f009e9f33020",
       "max": 31472584.0,
       "min": 0.0,
       "orientation": "horizontal",
       "style": "IPY_MODEL_a336e19713fe43f894de56a765599f92",
       "tabbable": null,
       "tooltip": null,
       "value": 31472584.0
      }
     },
     "7708a943040b4a9a943787bfb4b5c2ec": {
      "model_module": "@jupyter-widgets/base",
      "model_module_version": "2.0.0",
      "model_name": "LayoutModel",
      "state": {
       "_model_module": "@jupyter-widgets/base",
       "_model_module_version": "2.0.0",
       "_model_name": "LayoutModel",
       "_view_count": null,
       "_view_module": "@jupyter-widgets/base",
       "_view_module_version": "2.0.0",
       "_view_name": "LayoutView",
       "align_content": null,
       "align_items": null,
       "align_self": null,
       "border_bottom": null,
       "border_left": null,
       "border_right": null,
       "border_top": null,
       "bottom": null,
       "display": null,
       "flex": null,
       "flex_flow": null,
       "grid_area": null,
       "grid_auto_columns": null,
       "grid_auto_flow": null,
       "grid_auto_rows": null,
       "grid_column": null,
       "grid_gap": null,
       "grid_row": null,
       "grid_template_areas": null,
       "grid_template_columns": null,
       "grid_template_rows": null,
       "height": null,
       "justify_content": null,
       "justify_items": null,
       "left": null,
       "margin": null,
       "max_height": null,
       "max_width": null,
       "min_height": null,
       "min_width": null,
       "object_fit": null,
       "object_position": null,
       "order": null,
       "overflow": null,
       "padding": null,
       "right": null,
       "top": null,
       "visibility": null,
       "width": null
      }
     },
     "78ca2725154049c6b3d2bd0c059903a1": {
      "model_module": "@jupyter-widgets/controls",
      "model_module_version": "2.0.0",
      "model_name": "HTMLModel",
      "state": {
       "_dom_classes": [],
       "_model_module": "@jupyter-widgets/controls",
       "_model_module_version": "2.0.0",
       "_model_name": "HTMLModel",
       "_view_count": null,
       "_view_module": "@jupyter-widgets/controls",
       "_view_module_version": "2.0.0",
       "_view_name": "HTMLView",
       "description": "",
       "description_allow_html": false,
       "layout": "IPY_MODEL_ce4d95151cba490cb8345fc936035b34",
       "placeholder": "​",
       "style": "IPY_MODEL_55494b81933f48f4a4abdec329101770",
       "tabbable": null,
       "tooltip": null,
       "value": "config.json: 100%"
      }
     },
     "a336e19713fe43f894de56a765599f92": {
      "model_module": "@jupyter-widgets/controls",
      "model_module_version": "2.0.0",
      "model_name": "ProgressStyleModel",
      "state": {
       "_model_module": "@jupyter-widgets/controls",
       "_model_module_version": "2.0.0",
       "_model_name": "ProgressStyleModel",
       "_view_count": null,
       "_view_module": "@jupyter-widgets/base",
       "_view_module_version": "2.0.0",
       "_view_name": "StyleView",
       "bar_color": null,
       "description_width": ""
      }
     },
     "b615f69af5c34cc7907a5179e97a4cd7": {
      "model_module": "@jupyter-widgets/controls",
      "model_module_version": "2.0.0",
      "model_name": "HBoxModel",
      "state": {
       "_dom_classes": [],
       "_model_module": "@jupyter-widgets/controls",
       "_model_module_version": "2.0.0",
       "_model_name": "HBoxModel",
       "_view_count": null,
       "_view_module": "@jupyter-widgets/controls",
       "_view_module_version": "2.0.0",
       "_view_name": "HBoxView",
       "box_style": "",
       "children": [
        "IPY_MODEL_78ca2725154049c6b3d2bd0c059903a1",
        "IPY_MODEL_14dc7740b91a4746a8752b664a3e2551",
        "IPY_MODEL_f3572eafa8c74dd6a9362b215ac951bf"
       ],
       "layout": "IPY_MODEL_58e5545733904996af5559a96bc4dda7",
       "tabbable": null,
       "tooltip": null
      }
     },
     "ce4d95151cba490cb8345fc936035b34": {
      "model_module": "@jupyter-widgets/base",
      "model_module_version": "2.0.0",
      "model_name": "LayoutModel",
      "state": {
       "_model_module": "@jupyter-widgets/base",
       "_model_module_version": "2.0.0",
       "_model_name": "LayoutModel",
       "_view_count": null,
       "_view_module": "@jupyter-widgets/base",
       "_view_module_version": "2.0.0",
       "_view_name": "LayoutView",
       "align_content": null,
       "align_items": null,
       "align_self": null,
       "border_bottom": null,
       "border_left": null,
       "border_right": null,
       "border_top": null,
       "bottom": null,
       "display": null,
       "flex": null,
       "flex_flow": null,
       "grid_area": null,
       "grid_auto_columns": null,
       "grid_auto_flow": null,
       "grid_auto_rows": null,
       "grid_column": null,
       "grid_gap": null,
       "grid_row": null,
       "grid_template_areas": null,
       "grid_template_columns": null,
       "grid_template_rows": null,
       "height": null,
       "justify_content": null,
       "justify_items": null,
       "left": null,
       "margin": null,
       "max_height": null,
       "max_width": null,
       "min_height": null,
       "min_width": null,
       "object_fit": null,
       "object_position": null,
       "order": null,
       "overflow": null,
       "padding": null,
       "right": null,
       "top": null,
       "visibility": null,
       "width": null
      }
     },
     "ea73a0a1607e47e7adbf8ca386aaffe0": {
      "model_module": "@jupyter-widgets/base",
      "model_module_version": "2.0.0",
      "model_name": "LayoutModel",
      "state": {
       "_model_module": "@jupyter-widgets/base",
       "_model_module_version": "2.0.0",
       "_model_name": "LayoutModel",
       "_view_count": null,
       "_view_module": "@jupyter-widgets/base",
       "_view_module_version": "2.0.0",
       "_view_name": "LayoutView",
       "align_content": null,
       "align_items": null,
       "align_self": null,
       "border_bottom": null,
       "border_left": null,
       "border_right": null,
       "border_top": null,
       "bottom": null,
       "display": null,
       "flex": null,
       "flex_flow": null,
       "grid_area": null,
       "grid_auto_columns": null,
       "grid_auto_flow": null,
       "grid_auto_rows": null,
       "grid_column": null,
       "grid_gap": null,
       "grid_row": null,
       "grid_template_areas": null,
       "grid_template_columns": null,
       "grid_template_rows": null,
       "height": null,
       "justify_content": null,
       "justify_items": null,
       "left": null,
       "margin": null,
       "max_height": null,
       "max_width": null,
       "min_height": null,
       "min_width": null,
       "object_fit": null,
       "object_position": null,
       "order": null,
       "overflow": null,
       "padding": null,
       "right": null,
       "top": null,
       "visibility": null,
       "width": null
      }
     },
     "f0ca697134674641978e838e590bf264": {
      "model_module": "@jupyter-widgets/controls",
      "model_module_version": "2.0.0",
      "model_name": "HTMLStyleModel",
      "state": {
       "_model_module": "@jupyter-widgets/controls",
       "_model_module_version": "2.0.0",
       "_model_name": "HTMLStyleModel",
       "_view_count": null,
       "_view_module": "@jupyter-widgets/base",
       "_view_module_version": "2.0.0",
       "_view_name": "StyleView",
       "background": null,
       "description_width": "",
       "font_size": null,
       "text_color": null
      }
     },
     "f3572eafa8c74dd6a9362b215ac951bf": {
      "model_module": "@jupyter-widgets/controls",
      "model_module_version": "2.0.0",
      "model_name": "HTMLModel",
      "state": {
       "_dom_classes": [],
       "_model_module": "@jupyter-widgets/controls",
       "_model_module_version": "2.0.0",
       "_model_name": "HTMLModel",
       "_view_count": null,
       "_view_module": "@jupyter-widgets/controls",
       "_view_module_version": "2.0.0",
       "_view_name": "HTMLView",
       "description": "",
       "description_allow_html": false,
       "layout": "IPY_MODEL_ea73a0a1607e47e7adbf8ca386aaffe0",
       "placeholder": "​",
       "style": "IPY_MODEL_f0ca697134674641978e838e590bf264",
       "tabbable": null,
       "tooltip": null,
       "value": " 106/106 [00:00&lt;00:00, 13.2kB/s]"
      }
     },
     "f623e44451fa49e8b2ff25e4308c4e39": {
      "model_module": "@jupyter-widgets/controls",
      "model_module_version": "2.0.0",
      "model_name": "HTMLStyleModel",
      "state": {
       "_model_module": "@jupyter-widgets/controls",
       "_model_module_version": "2.0.0",
       "_model_name": "HTMLStyleModel",
       "_view_count": null,
       "_view_module": "@jupyter-widgets/base",
       "_view_module_version": "2.0.0",
       "_view_name": "StyleView",
       "background": null,
       "description_width": "",
       "font_size": null,
       "text_color": null
      }
     }
    },
    "version_major": 2,
    "version_minor": 0
   }
  }
 },
 "nbformat": 4,
 "nbformat_minor": 5
}
