{
 "cells": [
  {
   "cell_type": "code",
   "execution_count": 1,
   "id": "1dfbd92f",
   "metadata": {
    "execution": {
     "iopub.execute_input": "2025-07-11T11:16:02.153113Z",
     "iopub.status.busy": "2025-07-11T11:16:02.152585Z",
     "iopub.status.idle": "2025-07-11T11:16:05.261696Z",
     "shell.execute_reply": "2025-07-11T11:16:05.260762Z"
    },
    "papermill": {
     "duration": 3.115109,
     "end_time": "2025-07-11T11:16:05.263736",
     "exception": false,
     "start_time": "2025-07-11T11:16:02.148627",
     "status": "completed"
    },
    "tags": []
   },
   "outputs": [],
   "source": [
    "!pip install -q segmentation_models_pytorch"
   ]
  },
  {
   "cell_type": "code",
   "execution_count": 2,
   "id": "33257847",
   "metadata": {
    "_cell_guid": "b8a167cf-a385-4dda-8d28-be0af437e7ae",
    "_uuid": "26c272f9-7713-4b3b-adc3-de3e26aa4b2f",
    "collapsed": false,
    "execution": {
     "iopub.execute_input": "2025-07-11T11:16:05.271188Z",
     "iopub.status.busy": "2025-07-11T11:16:05.270931Z",
     "iopub.status.idle": "2025-07-11T11:16:08.727363Z",
     "shell.execute_reply": "2025-07-11T11:16:08.726642Z"
    },
    "jupyter": {
     "outputs_hidden": false
    },
    "papermill": {
     "duration": 3.461482,
     "end_time": "2025-07-11T11:16:08.728881",
     "exception": false,
     "start_time": "2025-07-11T11:16:05.267399",
     "status": "completed"
    },
    "tags": []
   },
   "outputs": [],
   "source": [
    "from pathlib import Path\n",
    "import os \n",
    "import pandas as pd \n",
    "import numpy as np \n",
    "import matplotlib.pyplot as plt\n",
    "import cv2\n",
    "import random\n",
    "import torch\n",
    "from tqdm import tqdm\n",
    "from torch import nn\n",
    "from glob import glob"
   ]
  },
  {
   "cell_type": "code",
   "execution_count": 3,
   "id": "6ea743cf",
   "metadata": {
    "execution": {
     "iopub.execute_input": "2025-07-11T11:16:08.735868Z",
     "iopub.status.busy": "2025-07-11T11:16:08.735118Z",
     "iopub.status.idle": "2025-07-11T11:16:08.831116Z",
     "shell.execute_reply": "2025-07-11T11:16:08.830420Z"
    },
    "papermill": {
     "duration": 0.100355,
     "end_time": "2025-07-11T11:16:08.832189",
     "exception": false,
     "start_time": "2025-07-11T11:16:08.731834",
     "status": "completed"
    },
    "tags": []
   },
   "outputs": [],
   "source": [
    "class CFG:\n",
    "    img_size = [224, 224]\n",
    "    valid_bs = 64\n",
    "    device = 'cuda' if torch.cuda.is_available() else 'cpu'\n",
    "    thr = 0.5"
   ]
  },
  {
   "cell_type": "code",
   "execution_count": 4,
   "id": "6100f2b6",
   "metadata": {
    "execution": {
     "iopub.execute_input": "2025-07-11T11:16:08.838295Z",
     "iopub.status.busy": "2025-07-11T11:16:08.837995Z",
     "iopub.status.idle": "2025-07-11T11:16:10.362519Z",
     "shell.execute_reply": "2025-07-11T11:16:10.361935Z"
    },
    "papermill": {
     "duration": 1.528996,
     "end_time": "2025-07-11T11:16:10.363869",
     "exception": false,
     "start_time": "2025-07-11T11:16:08.834873",
     "status": "completed"
    },
    "tags": []
   },
   "outputs": [],
   "source": [
    "from torch.utils.data import Dataset, DataLoader \n",
    "import albumentations as A\n",
    "\n",
    "data_transforms = {\n",
    "    \"train\": A.Compose([\n",
    "        A.Resize(*CFG.img_size, interpolation=cv2.INTER_NEAREST),\n",
    "#         A.HorizontalFlip(p=0.5),\n",
    "# #         A.VerticalFlip(p=0.5),\n",
    "#         A.ShiftScaleRotate(shift_limit=0.0625, scale_limit=0.05, rotate_limit=10, p=0.5),\n",
    "#         A.OneOf([\n",
    "#             A.GridDistortion(num_steps=5, distort_limit=0.05, p=1.0),\n",
    "# # #             A.OpticalDistortion(distort_limit=0.05, shift_limit=0.05, p=1.0),\n",
    "#             A.ElasticTransform(alpha=1, sigma=50, alpha_affine=50, p=1.0)\n",
    "#         ], p=0.25),\n",
    "#         A.CoarseDropout(max_holes=8, max_height=CFG.img_size[0]//20, max_width=CFG.img_size[1]//20,\n",
    "#                          min_holes=5, fill_value=0, mask_fill_value=0, p=0.5),\n",
    "        ], p=1.0),\n",
    "    \n",
    "    \"valid\": A.Compose([\n",
    "        A.Resize(*CFG.img_size, interpolation=cv2.INTER_NEAREST),\n",
    "        ], p=1.0)\n",
    "}\n",
    "\n",
    "def load_img(path):\n",
    "    img = cv2.imread(path, cv2.IMREAD_COLOR)  # read as BGR by default\n",
    "    if img is None:\n",
    "        raise ValueError(f\"Image at {path} could not be loaded.\")\n",
    "    img = cv2.cvtColor(img, cv2.COLOR_BGR2RGB)  # convert to RGB\n",
    "\n",
    "    img = img.astype('float32')  # convert from uint8 to float32\n",
    "    mx = np.max(img)\n",
    "    if mx:\n",
    "        img /= mx  # scale to [0, 1]\n",
    "    return img\n",
    "    \n",
    "class ShipDataset(Dataset):\n",
    "    def __init__(self, image_list, transforms=None):\n",
    "        self.images = image_list \n",
    "        self.transforms = transforms\n",
    "\n",
    "    def __len__(self):\n",
    "        return len(self.images)\n",
    "\n",
    "    def __getitem__(self, idx):\n",
    "        img_path = self.images[idx]\n",
    "        img = load_img(img_path)\n",
    "        if self.transforms:\n",
    "            data = self.transforms(image=img)\n",
    "            img = data['image']\n",
    "        img = np.transpose(img, (2, 0, 1))\n",
    "        return torch.tensor(img, dtype=torch.float32), img_path"
   ]
  },
  {
   "cell_type": "code",
   "execution_count": 5,
   "id": "76449239",
   "metadata": {
    "execution": {
     "iopub.execute_input": "2025-07-11T11:16:10.370019Z",
     "iopub.status.busy": "2025-07-11T11:16:10.369687Z",
     "iopub.status.idle": "2025-07-11T11:16:15.557763Z",
     "shell.execute_reply": "2025-07-11T11:16:15.557134Z"
    },
    "papermill": {
     "duration": 5.192551,
     "end_time": "2025-07-11T11:16:15.559145",
     "exception": false,
     "start_time": "2025-07-11T11:16:10.366594",
     "status": "completed"
    },
    "tags": []
   },
   "outputs": [],
   "source": [
    "import segmentation_models_pytorch as smp\n",
    "\n",
    "def build_model():\n",
    "    model = smp.Unet(\n",
    "        encoder_name=\"efficientnet-b1\",      # choose encoder, e.g. mobilenet_v2 or efficientnet-b7\n",
    "        encoder_weights=\"imagenet\",     # use `imagenet` pre-trained weights for encoder initialization\n",
    "        in_channels=3,                  # model input channels (1 for gray-scale images, 3 for RGB, etc.)\n",
    "        classes=1,        # model output channels (number of classes in your dataset)\n",
    "        activation=None,\n",
    "    )\n",
    "    model.to(CFG.device)\n",
    "    return model\n",
    "\n",
    "def load_model(path):\n",
    "    model = build_model()\n",
    "    model.load_state_dict(torch.load(path, map_location='cpu'))\n",
    "    model.eval()\n",
    "    return model"
   ]
  },
  {
   "cell_type": "code",
   "execution_count": 6,
   "id": "49804ba3",
   "metadata": {
    "execution": {
     "iopub.execute_input": "2025-07-11T11:16:15.565433Z",
     "iopub.status.busy": "2025-07-11T11:16:15.564867Z",
     "iopub.status.idle": "2025-07-11T11:16:15.571685Z",
     "shell.execute_reply": "2025-07-11T11:16:15.571160Z"
    },
    "papermill": {
     "duration": 0.010975,
     "end_time": "2025-07-11T11:16:15.572809",
     "exception": false,
     "start_time": "2025-07-11T11:16:15.561834",
     "status": "completed"
    },
    "tags": []
   },
   "outputs": [],
   "source": [
    "def mask2rle(mask):\n",
    "    mask = cv2.resize(mask, (768, 768), interpolation=cv2.INTER_NEAREST)\n",
    "    '''\n",
    "    mask: numpy array, 1 - mask, 0 - background\n",
    "    Returns run length as string formatted\n",
    "    '''\n",
    "    pixels = mask.T.flatten() \n",
    "    pixels = np.concatenate([[0], pixels, [0]])\n",
    "    runs = np.where(pixels[1:] != pixels[:-1])[0] + 1\n",
    "    runs[1::2] = runs[1::2] - runs[:-1:2]\n",
    "    rle = ' '.join(str(x) for x in runs)\n",
    "    return rle\n",
    "\n",
    "def masks2rles(msks, ids):\n",
    "    pred_strings = []\n",
    "    for idx in range(msks.shape[0]):\n",
    "        msk = cv2.resize(msks[idx], \n",
    "                         dsize=(768, 768), \n",
    "                         interpolation=cv2.INTER_NEAREST) # back to original shape\n",
    "        rle = mask2rle(msk)\n",
    "        pred_strings.append(rle)\n",
    "    return pred_strings\n",
    "\n",
    "def rle2mask(rle):\n",
    "    shape = (768,768)\n",
    "    img = np.zeros(shape[0]*shape[1], dtype=np.uint8)\n",
    "    if(type(rle) == float): return img.reshape(rle)\n",
    "    if(type(rle) == str): masks = [rle]\n",
    "    for mask in masks:\n",
    "        s = mask.split()\n",
    "        \n",
    "        for i in range(len(s)//2):\n",
    "            start = int(s[2*i]) - 1\n",
    "            length = int(s[2*i+1])\n",
    "            img[start:start+length] = 1\n",
    "    return img.reshape(shape).T"
   ]
  },
  {
   "cell_type": "code",
   "execution_count": 7,
   "id": "b88ee008",
   "metadata": {
    "execution": {
     "iopub.execute_input": "2025-07-11T11:16:15.578316Z",
     "iopub.status.busy": "2025-07-11T11:16:15.578081Z",
     "iopub.status.idle": "2025-07-11T11:16:15.582905Z",
     "shell.execute_reply": "2025-07-11T11:16:15.582450Z"
    },
    "papermill": {
     "duration": 0.008851,
     "end_time": "2025-07-11T11:16:15.584103",
     "exception": false,
     "start_time": "2025-07-11T11:16:15.575252",
     "status": "completed"
    },
    "tags": []
   },
   "outputs": [],
   "source": [
    "@torch.no_grad()\n",
    "def infer(model, test_loader, num_log=1, thr=CFG.thr):\n",
    "    pred_strings = []; pred_ids = []; pred_classes = [];\n",
    "    for idx, (img, ids) in enumerate(tqdm(test_loader, total=len(test_loader), desc='Infer ')):\n",
    "        img = img.to(CFG.device, dtype=torch.float) # .squeeze(0)\n",
    "        size = img.size()\n",
    "        msk = torch.zeros((size[0], size[2], size[3]), device=CFG.device, dtype=torch.float32) # (32, 3, 224, 224)\n",
    "        logit = model(img)\n",
    "        pred = logit.squeeze()\n",
    "        pred = nn.Sigmoid()(pred)\n",
    "        msk += pred\n",
    "        msk = (msk > CFG.thr).to(torch.uint8).cpu().detach().numpy()\n",
    "        rles = masks2rles(msk, idx)\n",
    "        pred_strings.extend(rles)\n",
    "        pred_ids.extend(ids)\n",
    "    return pred_strings, pred_ids"
   ]
  },
  {
   "cell_type": "code",
   "execution_count": 8,
   "id": "92c0473f",
   "metadata": {
    "execution": {
     "iopub.execute_input": "2025-07-11T11:16:15.589522Z",
     "iopub.status.busy": "2025-07-11T11:16:15.589308Z",
     "iopub.status.idle": "2025-07-11T11:16:15.727763Z",
     "shell.execute_reply": "2025-07-11T11:16:15.727266Z"
    },
    "papermill": {
     "duration": 0.142333,
     "end_time": "2025-07-11T11:16:15.728796",
     "exception": false,
     "start_time": "2025-07-11T11:16:15.586463",
     "status": "completed"
    },
    "tags": []
   },
   "outputs": [
    {
     "data": {
      "text/plain": [
       "15606"
      ]
     },
     "execution_count": 8,
     "metadata": {},
     "output_type": "execute_result"
    }
   ],
   "source": [
    "test_images = glob('/kaggle/input/airbus-ship-detection/test_v2/*.jpg')\n",
    "len(test_images)"
   ]
  },
  {
   "cell_type": "code",
   "execution_count": 9,
   "id": "29bb186c",
   "metadata": {
    "execution": {
     "iopub.execute_input": "2025-07-11T11:16:15.734664Z",
     "iopub.status.busy": "2025-07-11T11:16:15.734462Z",
     "iopub.status.idle": "2025-07-11T11:16:16.874399Z",
     "shell.execute_reply": "2025-07-11T11:16:16.873809Z"
    },
    "papermill": {
     "duration": 1.144277,
     "end_time": "2025-07-11T11:16:16.875759",
     "exception": false,
     "start_time": "2025-07-11T11:16:15.731482",
     "status": "completed"
    },
    "tags": []
   },
   "outputs": [
    {
     "data": {
      "application/vnd.jupyter.widget-view+json": {
       "model_id": "51377e5433664155b25464792093a477",
       "version_major": 2,
       "version_minor": 0
      },
      "text/plain": [
       "config.json:   0%|          | 0.00/106 [00:00<?, ?B/s]"
      ]
     },
     "metadata": {},
     "output_type": "display_data"
    },
    {
     "data": {
      "application/vnd.jupyter.widget-view+json": {
       "model_id": "cb3ecb71cf32491db084c2d893d3d7b8",
       "version_major": 2,
       "version_minor": 0
      },
      "text/plain": [
       "model.safetensors:   0%|          | 0.00/31.5M [00:00<?, ?B/s]"
      ]
     },
     "metadata": {},
     "output_type": "display_data"
    }
   ],
   "source": [
    "model_path = \"/kaggle/input/ship-segmentation/pytorch/default/1/best_epoch-00.bin\"\n",
    "\n",
    "model = load_model(model_path)"
   ]
  },
  {
   "cell_type": "code",
   "execution_count": 10,
   "id": "e611d7b8",
   "metadata": {
    "execution": {
     "iopub.execute_input": "2025-07-11T11:16:16.882375Z",
     "iopub.status.busy": "2025-07-11T11:16:16.882128Z",
     "iopub.status.idle": "2025-07-11T11:16:16.886106Z",
     "shell.execute_reply": "2025-07-11T11:16:16.885424Z"
    },
    "papermill": {
     "duration": 0.008359,
     "end_time": "2025-07-11T11:16:16.887165",
     "exception": false,
     "start_time": "2025-07-11T11:16:16.878806",
     "status": "completed"
    },
    "tags": []
   },
   "outputs": [],
   "source": [
    "test_ds = ShipDataset(test_images, transforms=data_transforms['valid'])\n",
    "test_dl  = DataLoader(test_ds, batch_size=CFG.valid_bs, num_workers=4, shuffle=False, pin_memory=False)"
   ]
  },
  {
   "cell_type": "code",
   "execution_count": 11,
   "id": "49735e21",
   "metadata": {
    "execution": {
     "iopub.execute_input": "2025-07-11T11:16:16.894308Z",
     "iopub.status.busy": "2025-07-11T11:16:16.893810Z",
     "iopub.status.idle": "2025-07-11T11:18:17.317201Z",
     "shell.execute_reply": "2025-07-11T11:18:17.316108Z"
    },
    "papermill": {
     "duration": 120.428505,
     "end_time": "2025-07-11T11:18:17.319283",
     "exception": false,
     "start_time": "2025-07-11T11:16:16.890778",
     "status": "completed"
    },
    "tags": []
   },
   "outputs": [
    {
     "name": "stderr",
     "output_type": "stream",
     "text": [
      "Infer : 100%|██████████| 244/244 [02:00<00:00,  2.03it/s]\n"
     ]
    }
   ],
   "source": [
    "pred_strings, pred_ids = infer(model, test_dl)"
   ]
  },
  {
   "cell_type": "code",
   "execution_count": 12,
   "id": "321bf425",
   "metadata": {
    "execution": {
     "iopub.execute_input": "2025-07-11T11:18:17.351153Z",
     "iopub.status.busy": "2025-07-11T11:18:17.350146Z",
     "iopub.status.idle": "2025-07-11T11:18:17.396161Z",
     "shell.execute_reply": "2025-07-11T11:18:17.395516Z"
    },
    "papermill": {
     "duration": 0.059924,
     "end_time": "2025-07-11T11:18:17.397364",
     "exception": false,
     "start_time": "2025-07-11T11:18:17.337440",
     "status": "completed"
    },
    "tags": []
   },
   "outputs": [
    {
     "name": "stdout",
     "output_type": "stream",
     "text": [
      "(15606, 2)\n"
     ]
    },
    {
     "data": {
      "text/html": [
       "<div>\n",
       "<style scoped>\n",
       "    .dataframe tbody tr th:only-of-type {\n",
       "        vertical-align: middle;\n",
       "    }\n",
       "\n",
       "    .dataframe tbody tr th {\n",
       "        vertical-align: top;\n",
       "    }\n",
       "\n",
       "    .dataframe thead th {\n",
       "        text-align: right;\n",
       "    }\n",
       "</style>\n",
       "<table border=\"1\" class=\"dataframe\">\n",
       "  <thead>\n",
       "    <tr style=\"text-align: right;\">\n",
       "      <th></th>\n",
       "      <th>ImageId</th>\n",
       "      <th>EncodedPixels</th>\n",
       "    </tr>\n",
       "  </thead>\n",
       "  <tbody>\n",
       "    <tr>\n",
       "      <th>0</th>\n",
       "      <td>00002bd58.jpg</td>\n",
       "      <td>1 2</td>\n",
       "    </tr>\n",
       "    <tr>\n",
       "      <th>1</th>\n",
       "      <td>00015efb6.jpg</td>\n",
       "      <td>1 2</td>\n",
       "    </tr>\n",
       "    <tr>\n",
       "      <th>2</th>\n",
       "      <td>00023d5fc.jpg</td>\n",
       "      <td>1 2</td>\n",
       "    </tr>\n",
       "    <tr>\n",
       "      <th>3</th>\n",
       "      <td>000367c13.jpg</td>\n",
       "      <td>1 2</td>\n",
       "    </tr>\n",
       "    <tr>\n",
       "      <th>4</th>\n",
       "      <td>0008ca6e9.jpg</td>\n",
       "      <td>1 2</td>\n",
       "    </tr>\n",
       "  </tbody>\n",
       "</table>\n",
       "</div>"
      ],
      "text/plain": [
       "         ImageId EncodedPixels\n",
       "0  00002bd58.jpg           1 2\n",
       "1  00015efb6.jpg           1 2\n",
       "2  00023d5fc.jpg           1 2\n",
       "3  000367c13.jpg           1 2\n",
       "4  0008ca6e9.jpg           1 2"
      ]
     },
     "execution_count": 12,
     "metadata": {},
     "output_type": "execute_result"
    }
   ],
   "source": [
    "df = pd.read_csv('/kaggle/input/airbus-ship-detection/sample_submission_v2.csv')\n",
    "print(df.shape)\n",
    "df.head()"
   ]
  },
  {
   "cell_type": "code",
   "execution_count": 13,
   "id": "037f36ae",
   "metadata": {
    "execution": {
     "iopub.execute_input": "2025-07-11T11:18:17.423382Z",
     "iopub.status.busy": "2025-07-11T11:18:17.422828Z",
     "iopub.status.idle": "2025-07-11T11:18:17.434922Z",
     "shell.execute_reply": "2025-07-11T11:18:17.434243Z"
    },
    "papermill": {
     "duration": 0.02619,
     "end_time": "2025-07-11T11:18:17.436133",
     "exception": false,
     "start_time": "2025-07-11T11:18:17.409943",
     "status": "completed"
    },
    "tags": []
   },
   "outputs": [
    {
     "data": {
      "text/html": [
       "<div>\n",
       "<style scoped>\n",
       "    .dataframe tbody tr th:only-of-type {\n",
       "        vertical-align: middle;\n",
       "    }\n",
       "\n",
       "    .dataframe tbody tr th {\n",
       "        vertical-align: top;\n",
       "    }\n",
       "\n",
       "    .dataframe thead th {\n",
       "        text-align: right;\n",
       "    }\n",
       "</style>\n",
       "<table border=\"1\" class=\"dataframe\">\n",
       "  <thead>\n",
       "    <tr style=\"text-align: right;\">\n",
       "      <th></th>\n",
       "      <th>ImageId</th>\n",
       "      <th>EncodedPixels</th>\n",
       "    </tr>\n",
       "  </thead>\n",
       "  <tbody>\n",
       "    <tr>\n",
       "      <th>0</th>\n",
       "      <td>/kaggle/input/airbus-ship-detection/test_v2/42...</td>\n",
       "      <td></td>\n",
       "    </tr>\n",
       "    <tr>\n",
       "      <th>1</th>\n",
       "      <td>/kaggle/input/airbus-ship-detection/test_v2/b0...</td>\n",
       "      <td>193219 17 193987 17 194755 17 195519 24 196287...</td>\n",
       "    </tr>\n",
       "    <tr>\n",
       "      <th>2</th>\n",
       "      <td>/kaggle/input/airbus-ship-detection/test_v2/9f...</td>\n",
       "      <td></td>\n",
       "    </tr>\n",
       "    <tr>\n",
       "      <th>3</th>\n",
       "      <td>/kaggle/input/airbus-ship-detection/test_v2/91...</td>\n",
       "      <td></td>\n",
       "    </tr>\n",
       "    <tr>\n",
       "      <th>4</th>\n",
       "      <td>/kaggle/input/airbus-ship-detection/test_v2/6f...</td>\n",
       "      <td></td>\n",
       "    </tr>\n",
       "  </tbody>\n",
       "</table>\n",
       "</div>"
      ],
      "text/plain": [
       "                                             ImageId  \\\n",
       "0  /kaggle/input/airbus-ship-detection/test_v2/42...   \n",
       "1  /kaggle/input/airbus-ship-detection/test_v2/b0...   \n",
       "2  /kaggle/input/airbus-ship-detection/test_v2/9f...   \n",
       "3  /kaggle/input/airbus-ship-detection/test_v2/91...   \n",
       "4  /kaggle/input/airbus-ship-detection/test_v2/6f...   \n",
       "\n",
       "                                       EncodedPixels  \n",
       "0                                                     \n",
       "1  193219 17 193987 17 194755 17 195519 24 196287...  \n",
       "2                                                     \n",
       "3                                                     \n",
       "4                                                     "
      ]
     },
     "execution_count": 13,
     "metadata": {},
     "output_type": "execute_result"
    }
   ],
   "source": [
    "sub = pd.DataFrame({'ImageId': pred_ids, 'EncodedPixels': pred_strings})\n",
    "sub.head()"
   ]
  },
  {
   "cell_type": "code",
   "execution_count": 14,
   "id": "67701383",
   "metadata": {
    "execution": {
     "iopub.execute_input": "2025-07-11T11:18:17.461793Z",
     "iopub.status.busy": "2025-07-11T11:18:17.461253Z",
     "iopub.status.idle": "2025-07-11T11:18:17.551463Z",
     "shell.execute_reply": "2025-07-11T11:18:17.550744Z"
    },
    "papermill": {
     "duration": 0.10435,
     "end_time": "2025-07-11T11:18:17.552873",
     "exception": false,
     "start_time": "2025-07-11T11:18:17.448523",
     "status": "completed"
    },
    "tags": []
   },
   "outputs": [],
   "source": [
    "sub['ImageId'] = sub['ImageId'].apply(lambda x: x.split('/')[-1])\n",
    "sub.to_csv('submission.csv', index=False)"
   ]
  },
  {
   "cell_type": "code",
   "execution_count": 15,
   "id": "b5db111b",
   "metadata": {
    "execution": {
     "iopub.execute_input": "2025-07-11T11:18:17.578623Z",
     "iopub.status.busy": "2025-07-11T11:18:17.578378Z",
     "iopub.status.idle": "2025-07-11T11:18:17.611048Z",
     "shell.execute_reply": "2025-07-11T11:18:17.610293Z"
    },
    "papermill": {
     "duration": 0.04704,
     "end_time": "2025-07-11T11:18:17.612330",
     "exception": false,
     "start_time": "2025-07-11T11:18:17.565290",
     "status": "completed"
    },
    "tags": []
   },
   "outputs": [
    {
     "data": {
      "text/html": [
       "<div>\n",
       "<style scoped>\n",
       "    .dataframe tbody tr th:only-of-type {\n",
       "        vertical-align: middle;\n",
       "    }\n",
       "\n",
       "    .dataframe tbody tr th {\n",
       "        vertical-align: top;\n",
       "    }\n",
       "\n",
       "    .dataframe thead th {\n",
       "        text-align: right;\n",
       "    }\n",
       "</style>\n",
       "<table border=\"1\" class=\"dataframe\">\n",
       "  <thead>\n",
       "    <tr style=\"text-align: right;\">\n",
       "      <th></th>\n",
       "      <th>ImageId</th>\n",
       "      <th>EncodedPixels</th>\n",
       "    </tr>\n",
       "  </thead>\n",
       "  <tbody>\n",
       "    <tr>\n",
       "      <th>0</th>\n",
       "      <td>4291f3a66.jpg</td>\n",
       "      <td>NaN</td>\n",
       "    </tr>\n",
       "    <tr>\n",
       "      <th>1</th>\n",
       "      <td>b0808caaf.jpg</td>\n",
       "      <td>193219 17 193987 17 194755 17 195519 24 196287...</td>\n",
       "    </tr>\n",
       "    <tr>\n",
       "      <th>2</th>\n",
       "      <td>9f582d5ce.jpg</td>\n",
       "      <td>NaN</td>\n",
       "    </tr>\n",
       "    <tr>\n",
       "      <th>3</th>\n",
       "      <td>916ae8dd3.jpg</td>\n",
       "      <td>NaN</td>\n",
       "    </tr>\n",
       "    <tr>\n",
       "      <th>4</th>\n",
       "      <td>6fa533973.jpg</td>\n",
       "      <td>NaN</td>\n",
       "    </tr>\n",
       "  </tbody>\n",
       "</table>\n",
       "</div>"
      ],
      "text/plain": [
       "         ImageId                                      EncodedPixels\n",
       "0  4291f3a66.jpg                                                NaN\n",
       "1  b0808caaf.jpg  193219 17 193987 17 194755 17 195519 24 196287...\n",
       "2  9f582d5ce.jpg                                                NaN\n",
       "3  916ae8dd3.jpg                                                NaN\n",
       "4  6fa533973.jpg                                                NaN"
      ]
     },
     "execution_count": 15,
     "metadata": {},
     "output_type": "execute_result"
    }
   ],
   "source": [
    "df = pd.read_csv('submission.csv')\n",
    "df.head()"
   ]
  },
  {
   "cell_type": "code",
   "execution_count": null,
   "id": "af78ea3f",
   "metadata": {
    "papermill": {
     "duration": 0.013066,
     "end_time": "2025-07-11T11:18:17.639046",
     "exception": false,
     "start_time": "2025-07-11T11:18:17.625980",
     "status": "completed"
    },
    "tags": []
   },
   "outputs": [],
   "source": []
  }
 ],
 "metadata": {
  "kaggle": {
   "accelerator": "nvidiaTeslaT4",
   "dataSources": [
    {
     "databundleVersionId": 868324,
     "sourceId": 9988,
     "sourceType": "competition"
    },
    {
     "modelId": 397581,
     "modelInstanceId": 376957,
     "sourceId": 467235,
     "sourceType": "modelInstanceVersion"
    }
   ],
   "dockerImageVersionId": 31089,
   "isGpuEnabled": true,
   "isInternetEnabled": true,
   "language": "python",
   "sourceType": "notebook"
  },
  "kernelspec": {
   "display_name": "Python 3",
   "language": "python",
   "name": "python3"
  },
  "language_info": {
   "codemirror_mode": {
    "name": "ipython",
    "version": 3
   },
   "file_extension": ".py",
   "mimetype": "text/x-python",
   "name": "python",
   "nbconvert_exporter": "python",
   "pygments_lexer": "ipython3",
   "version": "3.11.13"
  },
  "papermill": {
   "default_parameters": {},
   "duration": 141.233954,
   "end_time": "2025-07-11T11:18:19.474081",
   "environment_variables": {},
   "exception": null,
   "input_path": "__notebook__.ipynb",
   "output_path": "__notebook__.ipynb",
   "parameters": {},
   "start_time": "2025-07-11T11:15:58.240127",
   "version": "2.6.0"
  },
  "widgets": {
   "application/vnd.jupyter.widget-state+json": {
    "state": {
     "066ee48022a540518ae0de7458984fd0": {
      "model_module": "@jupyter-widgets/base",
      "model_module_version": "2.0.0",
      "model_name": "LayoutModel",
      "state": {
       "_model_module": "@jupyter-widgets/base",
       "_model_module_version": "2.0.0",
       "_model_name": "LayoutModel",
       "_view_count": null,
       "_view_module": "@jupyter-widgets/base",
       "_view_module_version": "2.0.0",
       "_view_name": "LayoutView",
       "align_content": null,
       "align_items": null,
       "align_self": null,
       "border_bottom": null,
       "border_left": null,
       "border_right": null,
       "border_top": null,
       "bottom": null,
       "display": null,
       "flex": null,
       "flex_flow": null,
       "grid_area": null,
       "grid_auto_columns": null,
       "grid_auto_flow": null,
       "grid_auto_rows": null,
       "grid_column": null,
       "grid_gap": null,
       "grid_row": null,
       "grid_template_areas": null,
       "grid_template_columns": null,
       "grid_template_rows": null,
       "height": null,
       "justify_content": null,
       "justify_items": null,
       "left": null,
       "margin": null,
       "max_height": null,
       "max_width": null,
       "min_height": null,
       "min_width": null,
       "object_fit": null,
       "object_position": null,
       "order": null,
       "overflow": null,
       "padding": null,
       "right": null,
       "top": null,
       "visibility": null,
       "width": null
      }
     },
     "193e7945254a4aefada7f6c77e3ac62f": {
      "model_module": "@jupyter-widgets/controls",
      "model_module_version": "2.0.0",
      "model_name": "HTMLStyleModel",
      "state": {
       "_model_module": "@jupyter-widgets/controls",
       "_model_module_version": "2.0.0",
       "_model_name": "HTMLStyleModel",
       "_view_count": null,
       "_view_module": "@jupyter-widgets/base",
       "_view_module_version": "2.0.0",
       "_view_name": "StyleView",
       "background": null,
       "description_width": "",
       "font_size": null,
       "text_color": null
      }
     },
     "21791288bdce4679a8c03a0d342224c4": {
      "model_module": "@jupyter-widgets/base",
      "model_module_version": "2.0.0",
      "model_name": "LayoutModel",
      "state": {
       "_model_module": "@jupyter-widgets/base",
       "_model_module_version": "2.0.0",
       "_model_name": "LayoutModel",
       "_view_count": null,
       "_view_module": "@jupyter-widgets/base",
       "_view_module_version": "2.0.0",
       "_view_name": "LayoutView",
       "align_content": null,
       "align_items": null,
       "align_self": null,
       "border_bottom": null,
       "border_left": null,
       "border_right": null,
       "border_top": null,
       "bottom": null,
       "display": null,
       "flex": null,
       "flex_flow": null,
       "grid_area": null,
       "grid_auto_columns": null,
       "grid_auto_flow": null,
       "grid_auto_rows": null,
       "grid_column": null,
       "grid_gap": null,
       "grid_row": null,
       "grid_template_areas": null,
       "grid_template_columns": null,
       "grid_template_rows": null,
       "height": null,
       "justify_content": null,
       "justify_items": null,
       "left": null,
       "margin": null,
       "max_height": null,
       "max_width": null,
       "min_height": null,
       "min_width": null,
       "object_fit": null,
       "object_position": null,
       "order": null,
       "overflow": null,
       "padding": null,
       "right": null,
       "top": null,
       "visibility": null,
       "width": null
      }
     },
     "33565129caf34751a12297198e78104a": {
      "model_module": "@jupyter-widgets/controls",
      "model_module_version": "2.0.0",
      "model_name": "ProgressStyleModel",
      "state": {
       "_model_module": "@jupyter-widgets/controls",
       "_model_module_version": "2.0.0",
       "_model_name": "ProgressStyleModel",
       "_view_count": null,
       "_view_module": "@jupyter-widgets/base",
       "_view_module_version": "2.0.0",
       "_view_name": "StyleView",
       "bar_color": null,
       "description_width": ""
      }
     },
     "3846f982398c4748bb9e59cefab4fb7c": {
      "model_module": "@jupyter-widgets/base",
      "model_module_version": "2.0.0",
      "model_name": "LayoutModel",
      "state": {
       "_model_module": "@jupyter-widgets/base",
       "_model_module_version": "2.0.0",
       "_model_name": "LayoutModel",
       "_view_count": null,
       "_view_module": "@jupyter-widgets/base",
       "_view_module_version": "2.0.0",
       "_view_name": "LayoutView",
       "align_content": null,
       "align_items": null,
       "align_self": null,
       "border_bottom": null,
       "border_left": null,
       "border_right": null,
       "border_top": null,
       "bottom": null,
       "display": null,
       "flex": null,
       "flex_flow": null,
       "grid_area": null,
       "grid_auto_columns": null,
       "grid_auto_flow": null,
       "grid_auto_rows": null,
       "grid_column": null,
       "grid_gap": null,
       "grid_row": null,
       "grid_template_areas": null,
       "grid_template_columns": null,
       "grid_template_rows": null,
       "height": null,
       "justify_content": null,
       "justify_items": null,
       "left": null,
       "margin": null,
       "max_height": null,
       "max_width": null,
       "min_height": null,
       "min_width": null,
       "object_fit": null,
       "object_position": null,
       "order": null,
       "overflow": null,
       "padding": null,
       "right": null,
       "top": null,
       "visibility": null,
       "width": null
      }
     },
     "3fe66b0cac4d409a8b737778a947725c": {
      "model_module": "@jupyter-widgets/controls",
      "model_module_version": "2.0.0",
      "model_name": "HTMLStyleModel",
      "state": {
       "_model_module": "@jupyter-widgets/controls",
       "_model_module_version": "2.0.0",
       "_model_name": "HTMLStyleModel",
       "_view_count": null,
       "_view_module": "@jupyter-widgets/base",
       "_view_module_version": "2.0.0",
       "_view_name": "StyleView",
       "background": null,
       "description_width": "",
       "font_size": null,
       "text_color": null
      }
     },
     "453fc38566b94d41aa4d96360c178374": {
      "model_module": "@jupyter-widgets/controls",
      "model_module_version": "2.0.0",
      "model_name": "HTMLModel",
      "state": {
       "_dom_classes": [],
       "_model_module": "@jupyter-widgets/controls",
       "_model_module_version": "2.0.0",
       "_model_name": "HTMLModel",
       "_view_count": null,
       "_view_module": "@jupyter-widgets/controls",
       "_view_module_version": "2.0.0",
       "_view_name": "HTMLView",
       "description": "",
       "description_allow_html": false,
       "layout": "IPY_MODEL_6d4ab20259994fa38471cf5745e5de70",
       "placeholder": "​",
       "style": "IPY_MODEL_193e7945254a4aefada7f6c77e3ac62f",
       "tabbable": null,
       "tooltip": null,
       "value": "model.safetensors: 100%"
      }
     },
     "461be5ce88f845efa58193ae93745922": {
      "model_module": "@jupyter-widgets/base",
      "model_module_version": "2.0.0",
      "model_name": "LayoutModel",
      "state": {
       "_model_module": "@jupyter-widgets/base",
       "_model_module_version": "2.0.0",
       "_model_name": "LayoutModel",
       "_view_count": null,
       "_view_module": "@jupyter-widgets/base",
       "_view_module_version": "2.0.0",
       "_view_name": "LayoutView",
       "align_content": null,
       "align_items": null,
       "align_self": null,
       "border_bottom": null,
       "border_left": null,
       "border_right": null,
       "border_top": null,
       "bottom": null,
       "display": null,
       "flex": null,
       "flex_flow": null,
       "grid_area": null,
       "grid_auto_columns": null,
       "grid_auto_flow": null,
       "grid_auto_rows": null,
       "grid_column": null,
       "grid_gap": null,
       "grid_row": null,
       "grid_template_areas": null,
       "grid_template_columns": null,
       "grid_template_rows": null,
       "height": null,
       "justify_content": null,
       "justify_items": null,
       "left": null,
       "margin": null,
       "max_height": null,
       "max_width": null,
       "min_height": null,
       "min_width": null,
       "object_fit": null,
       "object_position": null,
       "order": null,
       "overflow": null,
       "padding": null,
       "right": null,
       "top": null,
       "visibility": null,
       "width": null
      }
     },
     "47456333c8a748d6ad83032a3d6532a7": {
      "model_module": "@jupyter-widgets/base",
      "model_module_version": "2.0.0",
      "model_name": "LayoutModel",
      "state": {
       "_model_module": "@jupyter-widgets/base",
       "_model_module_version": "2.0.0",
       "_model_name": "LayoutModel",
       "_view_count": null,
       "_view_module": "@jupyter-widgets/base",
       "_view_module_version": "2.0.0",
       "_view_name": "LayoutView",
       "align_content": null,
       "align_items": null,
       "align_self": null,
       "border_bottom": null,
       "border_left": null,
       "border_right": null,
       "border_top": null,
       "bottom": null,
       "display": null,
       "flex": null,
       "flex_flow": null,
       "grid_area": null,
       "grid_auto_columns": null,
       "grid_auto_flow": null,
       "grid_auto_rows": null,
       "grid_column": null,
       "grid_gap": null,
       "grid_row": null,
       "grid_template_areas": null,
       "grid_template_columns": null,
       "grid_template_rows": null,
       "height": null,
       "justify_content": null,
       "justify_items": null,
       "left": null,
       "margin": null,
       "max_height": null,
       "max_width": null,
       "min_height": null,
       "min_width": null,
       "object_fit": null,
       "object_position": null,
       "order": null,
       "overflow": null,
       "padding": null,
       "right": null,
       "top": null,
       "visibility": null,
       "width": null
      }
     },
     "4e978496b8894c1090a7f797a733f6ab": {
      "model_module": "@jupyter-widgets/controls",
      "model_module_version": "2.0.0",
      "model_name": "HTMLStyleModel",
      "state": {
       "_model_module": "@jupyter-widgets/controls",
       "_model_module_version": "2.0.0",
       "_model_name": "HTMLStyleModel",
       "_view_count": null,
       "_view_module": "@jupyter-widgets/base",
       "_view_module_version": "2.0.0",
       "_view_name": "StyleView",
       "background": null,
       "description_width": "",
       "font_size": null,
       "text_color": null
      }
     },
     "51377e5433664155b25464792093a477": {
      "model_module": "@jupyter-widgets/controls",
      "model_module_version": "2.0.0",
      "model_name": "HBoxModel",
      "state": {
       "_dom_classes": [],
       "_model_module": "@jupyter-widgets/controls",
       "_model_module_version": "2.0.0",
       "_model_name": "HBoxModel",
       "_view_count": null,
       "_view_module": "@jupyter-widgets/controls",
       "_view_module_version": "2.0.0",
       "_view_name": "HBoxView",
       "box_style": "",
       "children": [
        "IPY_MODEL_cb096380bb0f4103a9735332de07f108",
        "IPY_MODEL_5d6529d44cf1469a9ddc2ff4e04c4f37",
        "IPY_MODEL_b5e05c1eb4bc401d9d2c15b6935efdcd"
       ],
       "layout": "IPY_MODEL_066ee48022a540518ae0de7458984fd0",
       "tabbable": null,
       "tooltip": null
      }
     },
     "5d6529d44cf1469a9ddc2ff4e04c4f37": {
      "model_module": "@jupyter-widgets/controls",
      "model_module_version": "2.0.0",
      "model_name": "FloatProgressModel",
      "state": {
       "_dom_classes": [],
       "_model_module": "@jupyter-widgets/controls",
       "_model_module_version": "2.0.0",
       "_model_name": "FloatProgressModel",
       "_view_count": null,
       "_view_module": "@jupyter-widgets/controls",
       "_view_module_version": "2.0.0",
       "_view_name": "ProgressView",
       "bar_style": "success",
       "description": "",
       "description_allow_html": false,
       "layout": "IPY_MODEL_21791288bdce4679a8c03a0d342224c4",
       "max": 106.0,
       "min": 0.0,
       "orientation": "horizontal",
       "style": "IPY_MODEL_e8dd194b120b42b9a5bb649e18183fce",
       "tabbable": null,
       "tooltip": null,
       "value": 106.0
      }
     },
     "6d4ab20259994fa38471cf5745e5de70": {
      "model_module": "@jupyter-widgets/base",
      "model_module_version": "2.0.0",
      "model_name": "LayoutModel",
      "state": {
       "_model_module": "@jupyter-widgets/base",
       "_model_module_version": "2.0.0",
       "_model_name": "LayoutModel",
       "_view_count": null,
       "_view_module": "@jupyter-widgets/base",
       "_view_module_version": "2.0.0",
       "_view_name": "LayoutView",
       "align_content": null,
       "align_items": null,
       "align_self": null,
       "border_bottom": null,
       "border_left": null,
       "border_right": null,
       "border_top": null,
       "bottom": null,
       "display": null,
       "flex": null,
       "flex_flow": null,
       "grid_area": null,
       "grid_auto_columns": null,
       "grid_auto_flow": null,
       "grid_auto_rows": null,
       "grid_column": null,
       "grid_gap": null,
       "grid_row": null,
       "grid_template_areas": null,
       "grid_template_columns": null,
       "grid_template_rows": null,
       "height": null,
       "justify_content": null,
       "justify_items": null,
       "left": null,
       "margin": null,
       "max_height": null,
       "max_width": null,
       "min_height": null,
       "min_width": null,
       "object_fit": null,
       "object_position": null,
       "order": null,
       "overflow": null,
       "padding": null,
       "right": null,
       "top": null,
       "visibility": null,
       "width": null
      }
     },
     "8175930723724ba883ab78bec15364b8": {
      "model_module": "@jupyter-widgets/base",
      "model_module_version": "2.0.0",
      "model_name": "LayoutModel",
      "state": {
       "_model_module": "@jupyter-widgets/base",
       "_model_module_version": "2.0.0",
       "_model_name": "LayoutModel",
       "_view_count": null,
       "_view_module": "@jupyter-widgets/base",
       "_view_module_version": "2.0.0",
       "_view_name": "LayoutView",
       "align_content": null,
       "align_items": null,
       "align_self": null,
       "border_bottom": null,
       "border_left": null,
       "border_right": null,
       "border_top": null,
       "bottom": null,
       "display": null,
       "flex": null,
       "flex_flow": null,
       "grid_area": null,
       "grid_auto_columns": null,
       "grid_auto_flow": null,
       "grid_auto_rows": null,
       "grid_column": null,
       "grid_gap": null,
       "grid_row": null,
       "grid_template_areas": null,
       "grid_template_columns": null,
       "grid_template_rows": null,
       "height": null,
       "justify_content": null,
       "justify_items": null,
       "left": null,
       "margin": null,
       "max_height": null,
       "max_width": null,
       "min_height": null,
       "min_width": null,
       "object_fit": null,
       "object_position": null,
       "order": null,
       "overflow": null,
       "padding": null,
       "right": null,
       "top": null,
       "visibility": null,
       "width": null
      }
     },
     "9005b1f2a3134f60bb749415842c354b": {
      "model_module": "@jupyter-widgets/base",
      "model_module_version": "2.0.0",
      "model_name": "LayoutModel",
      "state": {
       "_model_module": "@jupyter-widgets/base",
       "_model_module_version": "2.0.0",
       "_model_name": "LayoutModel",
       "_view_count": null,
       "_view_module": "@jupyter-widgets/base",
       "_view_module_version": "2.0.0",
       "_view_name": "LayoutView",
       "align_content": null,
       "align_items": null,
       "align_self": null,
       "border_bottom": null,
       "border_left": null,
       "border_right": null,
       "border_top": null,
       "bottom": null,
       "display": null,
       "flex": null,
       "flex_flow": null,
       "grid_area": null,
       "grid_auto_columns": null,
       "grid_auto_flow": null,
       "grid_auto_rows": null,
       "grid_column": null,
       "grid_gap": null,
       "grid_row": null,
       "grid_template_areas": null,
       "grid_template_columns": null,
       "grid_template_rows": null,
       "height": null,
       "justify_content": null,
       "justify_items": null,
       "left": null,
       "margin": null,
       "max_height": null,
       "max_width": null,
       "min_height": null,
       "min_width": null,
       "object_fit": null,
       "object_position": null,
       "order": null,
       "overflow": null,
       "padding": null,
       "right": null,
       "top": null,
       "visibility": null,
       "width": null
      }
     },
     "b5e05c1eb4bc401d9d2c15b6935efdcd": {
      "model_module": "@jupyter-widgets/controls",
      "model_module_version": "2.0.0",
      "model_name": "HTMLModel",
      "state": {
       "_dom_classes": [],
       "_model_module": "@jupyter-widgets/controls",
       "_model_module_version": "2.0.0",
       "_model_name": "HTMLModel",
       "_view_count": null,
       "_view_module": "@jupyter-widgets/controls",
       "_view_module_version": "2.0.0",
       "_view_name": "HTMLView",
       "description": "",
       "description_allow_html": false,
       "layout": "IPY_MODEL_461be5ce88f845efa58193ae93745922",
       "placeholder": "​",
       "style": "IPY_MODEL_4e978496b8894c1090a7f797a733f6ab",
       "tabbable": null,
       "tooltip": null,
       "value": " 106/106 [00:00&lt;00:00, 12.6kB/s]"
      }
     },
     "b9db16867c3847bfb767df587f2e5c18": {
      "model_module": "@jupyter-widgets/controls",
      "model_module_version": "2.0.0",
      "model_name": "HTMLStyleModel",
      "state": {
       "_model_module": "@jupyter-widgets/controls",
       "_model_module_version": "2.0.0",
       "_model_name": "HTMLStyleModel",
       "_view_count": null,
       "_view_module": "@jupyter-widgets/base",
       "_view_module_version": "2.0.0",
       "_view_name": "StyleView",
       "background": null,
       "description_width": "",
       "font_size": null,
       "text_color": null
      }
     },
     "ba92493cca2f4c24a519798109d9c40a": {
      "model_module": "@jupyter-widgets/controls",
      "model_module_version": "2.0.0",
      "model_name": "FloatProgressModel",
      "state": {
       "_dom_classes": [],
       "_model_module": "@jupyter-widgets/controls",
       "_model_module_version": "2.0.0",
       "_model_name": "FloatProgressModel",
       "_view_count": null,
       "_view_module": "@jupyter-widgets/controls",
       "_view_module_version": "2.0.0",
       "_view_name": "ProgressView",
       "bar_style": "success",
       "description": "",
       "description_allow_html": false,
       "layout": "IPY_MODEL_47456333c8a748d6ad83032a3d6532a7",
       "max": 31472584.0,
       "min": 0.0,
       "orientation": "horizontal",
       "style": "IPY_MODEL_33565129caf34751a12297198e78104a",
       "tabbable": null,
       "tooltip": null,
       "value": 31472584.0
      }
     },
     "bf306d7f4d804872a7c2baf5cfa30b00": {
      "model_module": "@jupyter-widgets/controls",
      "model_module_version": "2.0.0",
      "model_name": "HTMLModel",
      "state": {
       "_dom_classes": [],
       "_model_module": "@jupyter-widgets/controls",
       "_model_module_version": "2.0.0",
       "_model_name": "HTMLModel",
       "_view_count": null,
       "_view_module": "@jupyter-widgets/controls",
       "_view_module_version": "2.0.0",
       "_view_name": "HTMLView",
       "description": "",
       "description_allow_html": false,
       "layout": "IPY_MODEL_3846f982398c4748bb9e59cefab4fb7c",
       "placeholder": "​",
       "style": "IPY_MODEL_3fe66b0cac4d409a8b737778a947725c",
       "tabbable": null,
       "tooltip": null,
       "value": " 31.5M/31.5M [00:00&lt;00:00, 156MB/s]"
      }
     },
     "cb096380bb0f4103a9735332de07f108": {
      "model_module": "@jupyter-widgets/controls",
      "model_module_version": "2.0.0",
      "model_name": "HTMLModel",
      "state": {
       "_dom_classes": [],
       "_model_module": "@jupyter-widgets/controls",
       "_model_module_version": "2.0.0",
       "_model_name": "HTMLModel",
       "_view_count": null,
       "_view_module": "@jupyter-widgets/controls",
       "_view_module_version": "2.0.0",
       "_view_name": "HTMLView",
       "description": "",
       "description_allow_html": false,
       "layout": "IPY_MODEL_9005b1f2a3134f60bb749415842c354b",
       "placeholder": "​",
       "style": "IPY_MODEL_b9db16867c3847bfb767df587f2e5c18",
       "tabbable": null,
       "tooltip": null,
       "value": "config.json: 100%"
      }
     },
     "cb3ecb71cf32491db084c2d893d3d7b8": {
      "model_module": "@jupyter-widgets/controls",
      "model_module_version": "2.0.0",
      "model_name": "HBoxModel",
      "state": {
       "_dom_classes": [],
       "_model_module": "@jupyter-widgets/controls",
       "_model_module_version": "2.0.0",
       "_model_name": "HBoxModel",
       "_view_count": null,
       "_view_module": "@jupyter-widgets/controls",
       "_view_module_version": "2.0.0",
       "_view_name": "HBoxView",
       "box_style": "",
       "children": [
        "IPY_MODEL_453fc38566b94d41aa4d96360c178374",
        "IPY_MODEL_ba92493cca2f4c24a519798109d9c40a",
        "IPY_MODEL_bf306d7f4d804872a7c2baf5cfa30b00"
       ],
       "layout": "IPY_MODEL_8175930723724ba883ab78bec15364b8",
       "tabbable": null,
       "tooltip": null
      }
     },
     "e8dd194b120b42b9a5bb649e18183fce": {
      "model_module": "@jupyter-widgets/controls",
      "model_module_version": "2.0.0",
      "model_name": "ProgressStyleModel",
      "state": {
       "_model_module": "@jupyter-widgets/controls",
       "_model_module_version": "2.0.0",
       "_model_name": "ProgressStyleModel",
       "_view_count": null,
       "_view_module": "@jupyter-widgets/base",
       "_view_module_version": "2.0.0",
       "_view_name": "StyleView",
       "bar_color": null,
       "description_width": ""
      }
     }
    },
    "version_major": 2,
    "version_minor": 0
   }
  }
 },
 "nbformat": 4,
 "nbformat_minor": 5
}
